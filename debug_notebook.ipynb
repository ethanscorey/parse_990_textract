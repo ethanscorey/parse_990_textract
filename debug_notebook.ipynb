{
 "cells": [
  {
   "cell_type": "code",
   "execution_count": 1,
   "id": "ea9e674f",
   "metadata": {},
   "outputs": [],
   "source": [
    "import json\n",
    "import math\n",
    "import re\n",
    "from pathlib import Path\n",
    "\n",
    "import boto3\n",
    "import pandas as pd\n",
    "\n",
    "from parse_990_textract.bucket import open_df\n",
    "from parse_990_textract.filing import create_roadmap, extract_from_roadmap\n",
    "from parse_990_textract.models import BoundingBox, TableExtractor\n",
    "from parse_990_textract.parse import create_extractors, find_item, find_pages\n",
    "from parse_990_textract.postprocessing import clean_filing, clean_f_i, clean_f_ii, clean_f_iii, postprocess\n",
    "from parse_990_textract.setup import load_extractor_df\n",
    "from parse_990_textract.table import extract_table_data, find_table_pages, create_tablemap\n",
    "from parse_990_textract.utils import get_coordinate, get_regex"
   ]
  },
  {
   "cell_type": "code",
   "execution_count": 2,
   "id": "af03fdc2",
   "metadata": {},
   "outputs": [],
   "source": [
    "bucket = boto3.resource(\"s3\").Bucket(\"s3-ocr-990s-demo\")"
   ]
  },
  {
   "cell_type": "code",
   "execution_count": 3,
   "id": "4676823f",
   "metadata": {},
   "outputs": [
    {
     "data": {
      "text/html": [
       "<div>\n",
       "<style scoped>\n",
       "    .dataframe tbody tr th:only-of-type {\n",
       "        vertical-align: middle;\n",
       "    }\n",
       "\n",
       "    .dataframe tbody tr th {\n",
       "        vertical-align: top;\n",
       "    }\n",
       "\n",
       "    .dataframe thead th {\n",
       "        text-align: right;\n",
       "    }\n",
       "</style>\n",
       "<table border=\"1\" class=\"dataframe\">\n",
       "  <thead>\n",
       "    <tr style=\"text-align: right;\">\n",
       "      <th></th>\n",
       "      <th>pdf_key</th>\n",
       "      <th>other_expenses_c_mgmt_general</th>\n",
       "      <th>payments_affiliates_total</th>\n",
       "      <th>other_expenses_d_prog_service</th>\n",
       "      <th>total_revenue</th>\n",
       "      <th>fees_for_lobbying_services_total</th>\n",
       "      <th>other_employee_benefits_fundraising</th>\n",
       "      <th>total_fundraising_expenses</th>\n",
       "      <th>compensation_officers_prog_service</th>\n",
       "      <th>fees_for_mgmt_services_total</th>\n",
       "      <th>...</th>\n",
       "      <th>travel_total</th>\n",
       "      <th>pension_plan_acc_contrib_prog_service</th>\n",
       "      <th>advertising_promotion_mgmt_general</th>\n",
       "      <th>pension_plan_acc_contrib_mgmt_general</th>\n",
       "      <th>compensation_disq_persons_total</th>\n",
       "      <th>other_salaries_wages_mgmt_general</th>\n",
       "      <th>office_expenses_mgmt_general</th>\n",
       "      <th>fees_for_other_services_fundraising</th>\n",
       "      <th>total_number_other_recipient_foreign_orgs_entities</th>\n",
       "      <th>activities_per_region_totals_total_expenditure</th>\n",
       "    </tr>\n",
       "    <tr>\n",
       "      <th>job_id</th>\n",
       "      <th></th>\n",
       "      <th></th>\n",
       "      <th></th>\n",
       "      <th></th>\n",
       "      <th></th>\n",
       "      <th></th>\n",
       "      <th></th>\n",
       "      <th></th>\n",
       "      <th></th>\n",
       "      <th></th>\n",
       "      <th></th>\n",
       "      <th></th>\n",
       "      <th></th>\n",
       "      <th></th>\n",
       "      <th></th>\n",
       "      <th></th>\n",
       "      <th></th>\n",
       "      <th></th>\n",
       "      <th></th>\n",
       "      <th></th>\n",
       "      <th></th>\n",
       "    </tr>\n",
       "  </thead>\n",
       "  <tbody>\n",
       "    <tr>\n",
       "      <th>0f908c03383d094f6c1386749189f281d188d5ea0cd64c4e424a5b1aae1650c4</th>\n",
       "      <td>EIN_760733035_YEAR_2009_FORMTYPE_990.pdf</td>\n",
       "      <td></td>\n",
       "      <td></td>\n",
       "      <td>33000.0</td>\n",
       "      <td>1415024</td>\n",
       "      <td></td>\n",
       "      <td></td>\n",
       "      <td>4503.0</td>\n",
       "      <td></td>\n",
       "      <td></td>\n",
       "      <td>...</td>\n",
       "      <td>18307.0</td>\n",
       "      <td></td>\n",
       "      <td></td>\n",
       "      <td></td>\n",
       "      <td></td>\n",
       "      <td></td>\n",
       "      <td></td>\n",
       "      <td></td>\n",
       "      <td></td>\n",
       "      <td></td>\n",
       "    </tr>\n",
       "    <tr>\n",
       "      <th>bcc635fa2b088a72666c3d534d0221a1c1294f2974a6a304679654069e5cbcdc</th>\n",
       "      <td>EIN_363235550_YEAR_2009_FORMTYPE_990.pdf</td>\n",
       "      <td></td>\n",
       "      <td></td>\n",
       "      <td>15832.0</td>\n",
       "      <td>9899921</td>\n",
       "      <td></td>\n",
       "      <td>27161.0</td>\n",
       "      <td>597789.0</td>\n",
       "      <td>295722.0</td>\n",
       "      <td></td>\n",
       "      <td>...</td>\n",
       "      <td>677722.0</td>\n",
       "      <td>34261.0</td>\n",
       "      <td>30</td>\n",
       "      <td>3462.0</td>\n",
       "      <td></td>\n",
       "      <td>159156.0</td>\n",
       "      <td>48381.0</td>\n",
       "      <td>22350.0</td>\n",
       "      <td></td>\n",
       "      <td></td>\n",
       "    </tr>\n",
       "    <tr>\n",
       "      <th>f0545c488bd7ab7e775c25cfa7d050a3ff1f84dea9a3371b8fef236bd3d0624b</th>\n",
       "      <td>EIN_223134995_YEAR_2010_FORMTYPE_990.pdf</td>\n",
       "      <td>0.0</td>\n",
       "      <td></td>\n",
       "      <td>10823.0</td>\n",
       "      <td>3370595</td>\n",
       "      <td></td>\n",
       "      <td>12776.0</td>\n",
       "      <td>263765.0</td>\n",
       "      <td>148689.0</td>\n",
       "      <td>2250.0</td>\n",
       "      <td>...</td>\n",
       "      <td>197092.0</td>\n",
       "      <td></td>\n",
       "      <td>127381</td>\n",
       "      <td></td>\n",
       "      <td>396855.0</td>\n",
       "      <td>103312.0</td>\n",
       "      <td>11723.0</td>\n",
       "      <td>23021.0</td>\n",
       "      <td></td>\n",
       "      <td></td>\n",
       "    </tr>\n",
       "    <tr>\n",
       "      <th>4f2b05354be9fb6483976694a1ed0494c7c387631c15130bdaaa1a85a1cf4f82</th>\n",
       "      <td>EIN_264320885_YEAR_2009_FORMTYPE_990.pdf</td>\n",
       "      <td></td>\n",
       "      <td></td>\n",
       "      <td></td>\n",
       "      <td>46117</td>\n",
       "      <td></td>\n",
       "      <td></td>\n",
       "      <td>669.0</td>\n",
       "      <td></td>\n",
       "      <td></td>\n",
       "      <td>...</td>\n",
       "      <td></td>\n",
       "      <td></td>\n",
       "      <td></td>\n",
       "      <td></td>\n",
       "      <td></td>\n",
       "      <td></td>\n",
       "      <td>458.0</td>\n",
       "      <td></td>\n",
       "      <td></td>\n",
       "      <td></td>\n",
       "    </tr>\n",
       "    <tr>\n",
       "      <th>1dd5dc37f4e99e27668c769d04d0f72273a6c582d504bf0b88d35d5a4c15c1be</th>\n",
       "      <td>EIN_581943161_YEAR_2009_FORMTYPE_990.pdf</td>\n",
       "      <td>581.0</td>\n",
       "      <td></td>\n",
       "      <td>0.0</td>\n",
       "      <td>583209</td>\n",
       "      <td></td>\n",
       "      <td>2521.0</td>\n",
       "      <td>14409.0</td>\n",
       "      <td>298484.0</td>\n",
       "      <td></td>\n",
       "      <td>...</td>\n",
       "      <td>7233.0</td>\n",
       "      <td></td>\n",
       "      <td></td>\n",
       "      <td></td>\n",
       "      <td></td>\n",
       "      <td></td>\n",
       "      <td>4010.0</td>\n",
       "      <td>0.0</td>\n",
       "      <td></td>\n",
       "      <td></td>\n",
       "    </tr>\n",
       "  </tbody>\n",
       "</table>\n",
       "<p>5 rows × 23 columns</p>\n",
       "</div>"
      ],
      "text/plain": [
       "                                                                                     pdf_key  \\\n",
       "job_id                                                                                         \n",
       "0f908c03383d094f6c1386749189f281d188d5ea0cd64c4...  EIN_760733035_YEAR_2009_FORMTYPE_990.pdf   \n",
       "bcc635fa2b088a72666c3d534d0221a1c1294f2974a6a30...  EIN_363235550_YEAR_2009_FORMTYPE_990.pdf   \n",
       "f0545c488bd7ab7e775c25cfa7d050a3ff1f84dea9a3371...  EIN_223134995_YEAR_2010_FORMTYPE_990.pdf   \n",
       "4f2b05354be9fb6483976694a1ed0494c7c387631c15130...  EIN_264320885_YEAR_2009_FORMTYPE_990.pdf   \n",
       "1dd5dc37f4e99e27668c769d04d0f72273a6c582d504bf0...  EIN_581943161_YEAR_2009_FORMTYPE_990.pdf   \n",
       "\n",
       "                                                   other_expenses_c_mgmt_general  \\\n",
       "job_id                                                                             \n",
       "0f908c03383d094f6c1386749189f281d188d5ea0cd64c4...                                 \n",
       "bcc635fa2b088a72666c3d534d0221a1c1294f2974a6a30...                                 \n",
       "f0545c488bd7ab7e775c25cfa7d050a3ff1f84dea9a3371...                           0.0   \n",
       "4f2b05354be9fb6483976694a1ed0494c7c387631c15130...                                 \n",
       "1dd5dc37f4e99e27668c769d04d0f72273a6c582d504bf0...                         581.0   \n",
       "\n",
       "                                                   payments_affiliates_total  \\\n",
       "job_id                                                                         \n",
       "0f908c03383d094f6c1386749189f281d188d5ea0cd64c4...                             \n",
       "bcc635fa2b088a72666c3d534d0221a1c1294f2974a6a30...                             \n",
       "f0545c488bd7ab7e775c25cfa7d050a3ff1f84dea9a3371...                             \n",
       "4f2b05354be9fb6483976694a1ed0494c7c387631c15130...                             \n",
       "1dd5dc37f4e99e27668c769d04d0f72273a6c582d504bf0...                             \n",
       "\n",
       "                                                   other_expenses_d_prog_service  \\\n",
       "job_id                                                                             \n",
       "0f908c03383d094f6c1386749189f281d188d5ea0cd64c4...                       33000.0   \n",
       "bcc635fa2b088a72666c3d534d0221a1c1294f2974a6a30...                       15832.0   \n",
       "f0545c488bd7ab7e775c25cfa7d050a3ff1f84dea9a3371...                       10823.0   \n",
       "4f2b05354be9fb6483976694a1ed0494c7c387631c15130...                                 \n",
       "1dd5dc37f4e99e27668c769d04d0f72273a6c582d504bf0...                           0.0   \n",
       "\n",
       "                                                    total_revenue  \\\n",
       "job_id                                                              \n",
       "0f908c03383d094f6c1386749189f281d188d5ea0cd64c4...        1415024   \n",
       "bcc635fa2b088a72666c3d534d0221a1c1294f2974a6a30...        9899921   \n",
       "f0545c488bd7ab7e775c25cfa7d050a3ff1f84dea9a3371...        3370595   \n",
       "4f2b05354be9fb6483976694a1ed0494c7c387631c15130...          46117   \n",
       "1dd5dc37f4e99e27668c769d04d0f72273a6c582d504bf0...         583209   \n",
       "\n",
       "                                                   fees_for_lobbying_services_total  \\\n",
       "job_id                                                                                \n",
       "0f908c03383d094f6c1386749189f281d188d5ea0cd64c4...                                    \n",
       "bcc635fa2b088a72666c3d534d0221a1c1294f2974a6a30...                                    \n",
       "f0545c488bd7ab7e775c25cfa7d050a3ff1f84dea9a3371...                                    \n",
       "4f2b05354be9fb6483976694a1ed0494c7c387631c15130...                                    \n",
       "1dd5dc37f4e99e27668c769d04d0f72273a6c582d504bf0...                                    \n",
       "\n",
       "                                                   other_employee_benefits_fundraising  \\\n",
       "job_id                                                                                   \n",
       "0f908c03383d094f6c1386749189f281d188d5ea0cd64c4...                                       \n",
       "bcc635fa2b088a72666c3d534d0221a1c1294f2974a6a30...                             27161.0   \n",
       "f0545c488bd7ab7e775c25cfa7d050a3ff1f84dea9a3371...                             12776.0   \n",
       "4f2b05354be9fb6483976694a1ed0494c7c387631c15130...                                       \n",
       "1dd5dc37f4e99e27668c769d04d0f72273a6c582d504bf0...                              2521.0   \n",
       "\n",
       "                                                   total_fundraising_expenses  \\\n",
       "job_id                                                                          \n",
       "0f908c03383d094f6c1386749189f281d188d5ea0cd64c4...                     4503.0   \n",
       "bcc635fa2b088a72666c3d534d0221a1c1294f2974a6a30...                   597789.0   \n",
       "f0545c488bd7ab7e775c25cfa7d050a3ff1f84dea9a3371...                   263765.0   \n",
       "4f2b05354be9fb6483976694a1ed0494c7c387631c15130...                      669.0   \n",
       "1dd5dc37f4e99e27668c769d04d0f72273a6c582d504bf0...                    14409.0   \n",
       "\n",
       "                                                   compensation_officers_prog_service  \\\n",
       "job_id                                                                                  \n",
       "0f908c03383d094f6c1386749189f281d188d5ea0cd64c4...                                      \n",
       "bcc635fa2b088a72666c3d534d0221a1c1294f2974a6a30...                           295722.0   \n",
       "f0545c488bd7ab7e775c25cfa7d050a3ff1f84dea9a3371...                           148689.0   \n",
       "4f2b05354be9fb6483976694a1ed0494c7c387631c15130...                                      \n",
       "1dd5dc37f4e99e27668c769d04d0f72273a6c582d504bf0...                           298484.0   \n",
       "\n",
       "                                                   fees_for_mgmt_services_total  \\\n",
       "job_id                                                                            \n",
       "0f908c03383d094f6c1386749189f281d188d5ea0cd64c4...                                \n",
       "bcc635fa2b088a72666c3d534d0221a1c1294f2974a6a30...                                \n",
       "f0545c488bd7ab7e775c25cfa7d050a3ff1f84dea9a3371...                       2250.0   \n",
       "4f2b05354be9fb6483976694a1ed0494c7c387631c15130...                                \n",
       "1dd5dc37f4e99e27668c769d04d0f72273a6c582d504bf0...                                \n",
       "\n",
       "                                                    ... travel_total  \\\n",
       "job_id                                              ...                \n",
       "0f908c03383d094f6c1386749189f281d188d5ea0cd64c4...  ...      18307.0   \n",
       "bcc635fa2b088a72666c3d534d0221a1c1294f2974a6a30...  ...     677722.0   \n",
       "f0545c488bd7ab7e775c25cfa7d050a3ff1f84dea9a3371...  ...     197092.0   \n",
       "4f2b05354be9fb6483976694a1ed0494c7c387631c15130...  ...                \n",
       "1dd5dc37f4e99e27668c769d04d0f72273a6c582d504bf0...  ...       7233.0   \n",
       "\n",
       "                                                   pension_plan_acc_contrib_prog_service  \\\n",
       "job_id                                                                                     \n",
       "0f908c03383d094f6c1386749189f281d188d5ea0cd64c4...                                         \n",
       "bcc635fa2b088a72666c3d534d0221a1c1294f2974a6a30...                               34261.0   \n",
       "f0545c488bd7ab7e775c25cfa7d050a3ff1f84dea9a3371...                                         \n",
       "4f2b05354be9fb6483976694a1ed0494c7c387631c15130...                                         \n",
       "1dd5dc37f4e99e27668c769d04d0f72273a6c582d504bf0...                                         \n",
       "\n",
       "                                                   advertising_promotion_mgmt_general  \\\n",
       "job_id                                                                                  \n",
       "0f908c03383d094f6c1386749189f281d188d5ea0cd64c4...                                      \n",
       "bcc635fa2b088a72666c3d534d0221a1c1294f2974a6a30...                                 30   \n",
       "f0545c488bd7ab7e775c25cfa7d050a3ff1f84dea9a3371...                             127381   \n",
       "4f2b05354be9fb6483976694a1ed0494c7c387631c15130...                                      \n",
       "1dd5dc37f4e99e27668c769d04d0f72273a6c582d504bf0...                                      \n",
       "\n",
       "                                                   pension_plan_acc_contrib_mgmt_general  \\\n",
       "job_id                                                                                     \n",
       "0f908c03383d094f6c1386749189f281d188d5ea0cd64c4...                                         \n",
       "bcc635fa2b088a72666c3d534d0221a1c1294f2974a6a30...                                3462.0   \n",
       "f0545c488bd7ab7e775c25cfa7d050a3ff1f84dea9a3371...                                         \n",
       "4f2b05354be9fb6483976694a1ed0494c7c387631c15130...                                         \n",
       "1dd5dc37f4e99e27668c769d04d0f72273a6c582d504bf0...                                         \n",
       "\n",
       "                                                   compensation_disq_persons_total  \\\n",
       "job_id                                                                               \n",
       "0f908c03383d094f6c1386749189f281d188d5ea0cd64c4...                                   \n",
       "bcc635fa2b088a72666c3d534d0221a1c1294f2974a6a30...                                   \n",
       "f0545c488bd7ab7e775c25cfa7d050a3ff1f84dea9a3371...                        396855.0   \n",
       "4f2b05354be9fb6483976694a1ed0494c7c387631c15130...                                   \n",
       "1dd5dc37f4e99e27668c769d04d0f72273a6c582d504bf0...                                   \n",
       "\n",
       "                                                   other_salaries_wages_mgmt_general  \\\n",
       "job_id                                                                                 \n",
       "0f908c03383d094f6c1386749189f281d188d5ea0cd64c4...                                     \n",
       "bcc635fa2b088a72666c3d534d0221a1c1294f2974a6a30...                          159156.0   \n",
       "f0545c488bd7ab7e775c25cfa7d050a3ff1f84dea9a3371...                          103312.0   \n",
       "4f2b05354be9fb6483976694a1ed0494c7c387631c15130...                                     \n",
       "1dd5dc37f4e99e27668c769d04d0f72273a6c582d504bf0...                                     \n",
       "\n",
       "                                                   office_expenses_mgmt_general  \\\n",
       "job_id                                                                            \n",
       "0f908c03383d094f6c1386749189f281d188d5ea0cd64c4...                                \n",
       "bcc635fa2b088a72666c3d534d0221a1c1294f2974a6a30...                      48381.0   \n",
       "f0545c488bd7ab7e775c25cfa7d050a3ff1f84dea9a3371...                      11723.0   \n",
       "4f2b05354be9fb6483976694a1ed0494c7c387631c15130...                        458.0   \n",
       "1dd5dc37f4e99e27668c769d04d0f72273a6c582d504bf0...                       4010.0   \n",
       "\n",
       "                                                   fees_for_other_services_fundraising  \\\n",
       "job_id                                                                                   \n",
       "0f908c03383d094f6c1386749189f281d188d5ea0cd64c4...                                       \n",
       "bcc635fa2b088a72666c3d534d0221a1c1294f2974a6a30...                             22350.0   \n",
       "f0545c488bd7ab7e775c25cfa7d050a3ff1f84dea9a3371...                             23021.0   \n",
       "4f2b05354be9fb6483976694a1ed0494c7c387631c15130...                                       \n",
       "1dd5dc37f4e99e27668c769d04d0f72273a6c582d504bf0...                                 0.0   \n",
       "\n",
       "                                                   total_number_other_recipient_foreign_orgs_entities  \\\n",
       "job_id                                                                                                  \n",
       "0f908c03383d094f6c1386749189f281d188d5ea0cd64c4...                                                      \n",
       "bcc635fa2b088a72666c3d534d0221a1c1294f2974a6a30...                                                      \n",
       "f0545c488bd7ab7e775c25cfa7d050a3ff1f84dea9a3371...                                                      \n",
       "4f2b05354be9fb6483976694a1ed0494c7c387631c15130...                                                      \n",
       "1dd5dc37f4e99e27668c769d04d0f72273a6c582d504bf0...                                                      \n",
       "\n",
       "                                                   activities_per_region_totals_total_expenditure  \n",
       "job_id                                                                                             \n",
       "0f908c03383d094f6c1386749189f281d188d5ea0cd64c4...                                                 \n",
       "bcc635fa2b088a72666c3d534d0221a1c1294f2974a6a30...                                                 \n",
       "f0545c488bd7ab7e775c25cfa7d050a3ff1f84dea9a3371...                                                 \n",
       "4f2b05354be9fb6483976694a1ed0494c7c387631c15130...                                                 \n",
       "1dd5dc37f4e99e27668c769d04d0f72273a6c582d504bf0...                                                 \n",
       "\n",
       "[5 rows x 23 columns]"
      ]
     },
     "execution_count": 3,
     "metadata": {},
     "output_type": "execute_result"
    }
   ],
   "source": [
    "validation_data = pd.read_csv(\"validation_data.csv\", index_col=\"job_id\").fillna(\"\")\n",
    "validation_data.head()"
   ]
  },
  {
   "cell_type": "code",
   "execution_count": 4,
   "id": "4da6923a",
   "metadata": {},
   "outputs": [],
   "source": [
    "extractor_df = load_extractor_df(\"990_extractors.csv\")\n",
    "roadmap_df = load_extractor_df(\"990_roadmap.csv\")\n",
    "schedule_f_tablemap_df = load_extractor_df(\"schedule_f_table_roadmap.csv\")\n",
    "schedule_f_table_extractor_df = pd.read_csv(\"schedule_f_table_extractors.csv\")\n",
    "schedule_f_row_extractor_df = pd.read_csv(\"schedule_f_row_extractors.csv\")"
   ]
  },
  {
   "cell_type": "code",
   "execution_count": 5,
   "id": "e87e1a8f",
   "metadata": {},
   "outputs": [],
   "source": [
    "PART_I_HEADER = r\"\\(a\\)\\s*Region|\\(d\\)\\s*Activities|\\(e\\)\\s*If activity|\\(f\\)Total expenditures\"\n",
    "PART_II_HEADER = r\"\\(b\\)\\s*IRS code|\\(c\\)\\s*Region|\\(d\\)\\s*Purpose|\\(f\\)\\s*Manner|\\(h\\)\\s*Description\"\n",
    "PART_III_HEADER = r\"\\(b\\)\\s*Region|\\(e\\)\\s*Manner of cash|\\(h\\)\\s*Method of va\"\n",
    "PART_I_TABLE_NAME = \"Activities per Region\"\n",
    "PART_II_TABLE_NAME = r\"Grants to Organizations Outside the United States\"\n",
    "PART_III_TABLE_NAME = \"Grants to Individuals Outside the United States\""
   ]
  },
  {
   "cell_type": "code",
   "execution_count": 6,
   "id": "801af06b",
   "metadata": {},
   "outputs": [
    {
     "data": {
      "text/plain": [
       "array(['0f908c03383d094f6c1386749189f281d188d5ea0cd64c4e424a5b1aae1650c4',\n",
       "       'bcc635fa2b088a72666c3d534d0221a1c1294f2974a6a304679654069e5cbcdc',\n",
       "       'f0545c488bd7ab7e775c25cfa7d050a3ff1f84dea9a3371b8fef236bd3d0624b',\n",
       "       '4f2b05354be9fb6483976694a1ed0494c7c387631c15130bdaaa1a85a1cf4f82',\n",
       "       '1dd5dc37f4e99e27668c769d04d0f72273a6c582d504bf0b88d35d5a4c15c1be',\n",
       "       '5596f51a999ebbd4cb992f490ceaffcddbac9bce532b911997683ae6897c2797',\n",
       "       '481a62c75776cc7f62075c1d60c230ea01f2dbc5b6224c65cb73db1728e86b00',\n",
       "       '39d270117e4b6354850551c8237421403da7d2b3f5d06657a28f5a9d07febf17',\n",
       "       '9a69ea9d5c8d5397603dbb77d027f4ff4ef9dcdc6609b7a1657f9484529353a0',\n",
       "       '3b9cc21f73f11bef5f2e4c15859661f7f7c9adee8dd6a1f2301099834fdb2926',\n",
       "       '82588f1ce9ca8cec2fc6b55ec07361b821be6650d1c01db4b9c948b8bf12689f',\n",
       "       'f303b69e79844240beccf4fc5b3cecaa3a4f3024a955b2f4a49dd0a81b456649',\n",
       "       'a2061356d7999388cbd49b79872883c92ce6c81a7e7820788f92db496cedd620',\n",
       "       '6e417b42fc15148e0489456f5086bbac28a8361d3452a0ddc23314afee5b6313',\n",
       "       'e56d65e73cec9532561c42db4f4dc64c5b968441b4d492444292a9daf3921044',\n",
       "       '68a8d4678de1d3107eff3ae0bfa1acdd6a9787a173b49c1b9e3dfbad7de5b452',\n",
       "       'cd689dd466e417d074b1bde48b0928cc4ae08d6cca44be9d15f288fe13adb578',\n",
       "       '2ef32905e24a7a69d5bb4e4ac22448b279cbe84df831d57b17daa69df0219dfd',\n",
       "       'b71782c8204cadf98ef57d1e9a6968d35368fc940dede7bc85dff661df77a27e',\n",
       "       'aefc7b65c34db330d8d9f56a1226e116b63ee9be7dbdd4ae4c7bea5d87359f97',\n",
       "       'a5a3cbfcf844be8862bbb61ad46d4c795891ab1143e420db5ed99fc79eeb66c9',\n",
       "       '67217e04d83f69ffbbb461b0a23648b037b4a36d0c5ebdb32d3186b19d6a6fd5',\n",
       "       'a6529e504df346097da99104a353e977426e018cd5ac33b62cd2dd89c90763c5',\n",
       "       'd1925c2d74adaa3f150ded3ce67dfe7ae3a306f0db0289ad5755a28d801b2b0b',\n",
       "       '01d89ee5d14575c1321b2e4d67431d172ba76212b4a266bdaf474275029fd78b'],\n",
       "      dtype=object)"
      ]
     },
     "execution_count": 6,
     "metadata": {},
     "output_type": "execute_result"
    }
   ],
   "source": [
    "validation_data.index.values"
   ]
  },
  {
   "cell_type": "code",
   "execution_count": 7,
   "id": "de001784",
   "metadata": {
    "scrolled": false
   },
   "outputs": [
    {
     "name": "stdout",
     "output_type": "stream",
     "text": [
      "0\n",
      "0f908c03383d094f6c1386749189f281d188d5ea0cd64c4e424a5b1aae1650c4\n",
      "EIN_760733035_YEAR_2009_FORMTYPE_990.pdf\n",
      "1\n",
      "bcc635fa2b088a72666c3d534d0221a1c1294f2974a6a304679654069e5cbcdc\n",
      "EIN_363235550_YEAR_2009_FORMTYPE_990.pdf\n",
      "2\n",
      "f0545c488bd7ab7e775c25cfa7d050a3ff1f84dea9a3371b8fef236bd3d0624b\n",
      "EIN_223134995_YEAR_2010_FORMTYPE_990.pdf\n",
      "3\n",
      "4f2b05354be9fb6483976694a1ed0494c7c387631c15130bdaaa1a85a1cf4f82\n",
      "EIN_264320885_YEAR_2009_FORMTYPE_990.pdf\n",
      "4\n",
      "1dd5dc37f4e99e27668c769d04d0f72273a6c582d504bf0b88d35d5a4c15c1be\n",
      "EIN_581943161_YEAR_2009_FORMTYPE_990.pdf\n",
      "5\n",
      "5596f51a999ebbd4cb992f490ceaffcddbac9bce532b911997683ae6897c2797\n",
      "EIN_231352689_YEAR_2009_FORMTYPE_990.pdf\n",
      "6\n",
      "481a62c75776cc7f62075c1d60c230ea01f2dbc5b6224c65cb73db1728e86b00\n",
      "EIN_954806856_YEAR_2009_FORMTYPE_990.pdf\n",
      "7\n",
      "39d270117e4b6354850551c8237421403da7d2b3f5d06657a28f5a9d07febf17\n",
      "EIN_521238301_YEAR_2010_FORMTYPE_990.pdf\n",
      "8\n",
      "9a69ea9d5c8d5397603dbb77d027f4ff4ef9dcdc6609b7a1657f9484529353a0\n",
      "EIN_521703065_YEAR_2010_FORMTYPE_990.pdf\n",
      "9\n",
      "3b9cc21f73f11bef5f2e4c15859661f7f7c9adee8dd6a1f2301099834fdb2926\n",
      "EIN_611190087_YEAR_2008_FORMTYPE_990.pdf\n",
      "10\n",
      "82588f1ce9ca8cec2fc6b55ec07361b821be6650d1c01db4b9c948b8bf12689f\n",
      "EIN_113489123_YEAR_2008_FORMTYPE_990.pdf\n",
      "11\n",
      "f303b69e79844240beccf4fc5b3cecaa3a4f3024a955b2f4a49dd0a81b456649\n",
      "EIN_582248383_YEAR_2009_FORMTYPE_990.pdf\n",
      "12\n",
      "a2061356d7999388cbd49b79872883c92ce6c81a7e7820788f92db496cedd620\n",
      "EIN_630329409_YEAR_2009_FORMTYPE_990.pdf\n",
      "13\n",
      "6e417b42fc15148e0489456f5086bbac28a8361d3452a0ddc23314afee5b6313\n",
      "EIN_620988294_YEAR_2010_FORMTYPE_990.pdf\n",
      "14\n",
      "e56d65e73cec9532561c42db4f4dc64c5b968441b4d492444292a9daf3921044\n",
      "EIN_581954432_YEAR_2010_FORMTYPE_990.pdf\n",
      "15\n",
      "68a8d4678de1d3107eff3ae0bfa1acdd6a9787a173b49c1b9e3dfbad7de5b452\n",
      "EIN_474865647_YEAR_2020_FORMTYPE_990.pdf\n",
      "16\n",
      "cd689dd466e417d074b1bde48b0928cc4ae08d6cca44be9d15f288fe13adb578\n",
      "EIN_472208314_YEAR_2020_FORMTYPE_990.pdf\n",
      "17\n",
      "2ef32905e24a7a69d5bb4e4ac22448b279cbe84df831d57b17daa69df0219dfd\n",
      "EIN_262414132_YEAR_2009_FORMTYPE_990.pdf\n",
      "18\n",
      "b71782c8204cadf98ef57d1e9a6968d35368fc940dede7bc85dff661df77a27e\n",
      "EIN_411601449_YEAR_2010_FORMTYPE_990.pdf\n",
      "19\n",
      "aefc7b65c34db330d8d9f56a1226e116b63ee9be7dbdd4ae4c7bea5d87359f97\n",
      "EIN_362428692_YEAR_2009_FORMTYPE_990.pdf\n",
      "20\n",
      "a5a3cbfcf844be8862bbb61ad46d4c795891ab1143e420db5ed99fc79eeb66c9\n",
      "EIN_271377148_YEAR_2016_FORMTYPE_990.pdf\n",
      "21\n",
      "67217e04d83f69ffbbb461b0a23648b037b4a36d0c5ebdb32d3186b19d6a6fd5\n",
      "EIN_42103580_YEAR_2010_FORMTYPE_990.pdf\n"
     ]
    },
    {
     "name": "stderr",
     "output_type": "stream",
     "text": [
      "<class 'KeyError'>: '(c) Number of recipients'\n"
     ]
    },
    {
     "name": "stdout",
     "output_type": "stream",
     "text": [
      "22\n",
      "a6529e504df346097da99104a353e977426e018cd5ac33b62cd2dd89c90763c5\n",
      "EIN_311002913_YEAR_2008_FORMTYPE_990.pdf\n",
      "23\n",
      "d1925c2d74adaa3f150ded3ce67dfe7ae3a306f0db0289ad5755a28d801b2b0b\n",
      "EIN_202408857_YEAR_2010_FORMTYPE_990.pdf\n",
      "24\n",
      "01d89ee5d14575c1321b2e4d67431d172ba76212b4a266bdaf474275029fd78b\n",
      "EIN_521830327_YEAR_2009_FORMTYPE_990.pdf\n"
     ]
    }
   ],
   "source": [
    "filing_rows = []\n",
    "schedule_f_part_i_rows = []\n",
    "schedule_f_part_ii_rows = []\n",
    "schedule_f_part_iii_rows = []\n",
    "\n",
    "\n",
    "for i, job_id in enumerate(validation_data.index.values):\n",
    "    print(i)\n",
    "    print(job_id)\n",
    "    pdf_key = validation_data.at[job_id, \"pdf_key\"]\n",
    "    print(pdf_key)\n",
    "    \n",
    "    data = open_df(bucket, job_id)\n",
    "    lines = data.loc[data[\"BlockType\"] == \"LINE\"]\n",
    "    words = data.loc[data[\"BlockType\"] == \"WORD\"]\n",
    "    page_map = find_pages(lines)\n",
    "    roadmap = create_roadmap(\n",
    "        lines, roadmap_df, page_map\n",
    "    )\n",
    "    \n",
    "    row = extract_from_roadmap(\n",
    "        words, lines, roadmap, extractor_df, page_map\n",
    "    )\n",
    "    row = postprocess(row, job_id, pdf_key, clean_filing)\n",
    "    filing_rows.append(row)\n",
    "    \n",
    "    pages = lines.groupby(\"Page\")\n",
    "    \n",
    "    part_i_table = extract_table_data(\n",
    "        pages, lines, words, PART_I_HEADER, PART_I_TABLE_NAME, \n",
    "        schedule_f_tablemap_df, schedule_f_table_extractor_df, schedule_f_row_extractor_df,\n",
    "    )\n",
    "    part_i_table = postprocess(part_i_table, job_id, pdf_key, clean_f_i)\n",
    "    if part_i_table is not None:\n",
    "        schedule_f_part_i_rows.append(\n",
    "            part_i_table\n",
    "        )\n",
    "    part_ii_table = extract_table_data(\n",
    "        pages, lines, words, PART_II_HEADER, PART_II_TABLE_NAME, \n",
    "        schedule_f_tablemap_df, schedule_f_table_extractor_df, schedule_f_row_extractor_df,\n",
    "    )\n",
    "    part_ii_table = postprocess(part_ii_table, job_id, pdf_key, clean_f_ii)\n",
    "    if part_ii_table is not None:\n",
    "        schedule_f_part_ii_rows.append(\n",
    "            part_ii_table\n",
    "        )\n",
    "    part_iii_table = extract_table_data(\n",
    "        pages, lines, words, PART_III_HEADER, PART_III_TABLE_NAME, \n",
    "        schedule_f_tablemap_df, schedule_f_table_extractor_df, schedule_f_row_extractor_df,\n",
    "    )\n",
    "    part_iii_table = postprocess(part_iii_table, job_id, pdf_key, clean_f_iii)\n",
    "    if part_iii_table is not None:\n",
    "        schedule_f_part_iii_rows.append(\n",
    "            part_iii_table\n",
    "        )"
   ]
  },
  {
   "cell_type": "code",
   "execution_count": 8,
   "id": "619b3527",
   "metadata": {
    "scrolled": false
   },
   "outputs": [],
   "source": [
    "output_data = pd.concat(filing_rows).reset_index(drop=True).set_index(\"job_id\")"
   ]
  },
  {
   "cell_type": "code",
   "execution_count": 9,
   "id": "122c2647",
   "metadata": {},
   "outputs": [
    {
     "data": {
      "text/html": [
       "<div>\n",
       "<style scoped>\n",
       "    .dataframe tbody tr th:only-of-type {\n",
       "        vertical-align: middle;\n",
       "    }\n",
       "\n",
       "    .dataframe tbody tr th {\n",
       "        vertical-align: top;\n",
       "    }\n",
       "\n",
       "    .dataframe thead th {\n",
       "        text-align: right;\n",
       "    }\n",
       "</style>\n",
       "<table border=\"1\" class=\"dataframe\">\n",
       "  <thead>\n",
       "    <tr style=\"text-align: right;\">\n",
       "      <th>field_name</th>\n",
       "      <th>index</th>\n",
       "      <th>name</th>\n",
       "      <th>address</th>\n",
       "      <th>city</th>\n",
       "      <th>state</th>\n",
       "      <th>zip</th>\n",
       "      <th>website</th>\n",
       "      <th>gross_receipts</th>\n",
       "      <th>year_formation</th>\n",
       "      <th>state_of_domicile</th>\n",
       "      <th>...</th>\n",
       "      <th>activities_per_region_totals_number_of_offices</th>\n",
       "      <th>activities_per_region_totals_number_of_employees</th>\n",
       "      <th>activities_per_region_totals_total_expenditure</th>\n",
       "      <th>total_number_recipient_foreign_orgs_listed_as_charities</th>\n",
       "      <th>total_number_other_recipient_foreign_orgs_entities</th>\n",
       "      <th>pdf_key</th>\n",
       "      <th>split_pdf_key</th>\n",
       "      <th>ein</th>\n",
       "      <th>year</th>\n",
       "      <th>filing_id</th>\n",
       "    </tr>\n",
       "    <tr>\n",
       "      <th>job_id</th>\n",
       "      <th></th>\n",
       "      <th></th>\n",
       "      <th></th>\n",
       "      <th></th>\n",
       "      <th></th>\n",
       "      <th></th>\n",
       "      <th></th>\n",
       "      <th></th>\n",
       "      <th></th>\n",
       "      <th></th>\n",
       "      <th></th>\n",
       "      <th></th>\n",
       "      <th></th>\n",
       "      <th></th>\n",
       "      <th></th>\n",
       "      <th></th>\n",
       "      <th></th>\n",
       "      <th></th>\n",
       "      <th></th>\n",
       "      <th></th>\n",
       "      <th></th>\n",
       "    </tr>\n",
       "  </thead>\n",
       "  <tbody>\n",
       "    <tr>\n",
       "      <th>0f908c03383d094f6c1386749189f281d188d5ea0cd64c4e424a5b1aae1650c4</th>\n",
       "      <td>0</td>\n",
       "      <td>MAKE WAY PARTNERS INC</td>\n",
       "      <td>PO BOX 26367</td>\n",
       "      <td>BIRMINGHAM</td>\n",
       "      <td>OX</td>\n",
       "      <td>26367</td>\n",
       "      <td>www MAKEWAYPARTNERS ORG</td>\n",
       "      <td>1426217</td>\n",
       "      <td></td>\n",
       "      <td></td>\n",
       "      <td>...</td>\n",
       "      <td></td>\n",
       "      <td></td>\n",
       "      <td></td>\n",
       "      <td></td>\n",
       "      <td></td>\n",
       "      <td>EIN_760733035_YEAR_2009_FORMTYPE_990.pdf</td>\n",
       "      <td>[EIN, 760733035, YEAR, 2009, FORMTYPE, 990.pdf]</td>\n",
       "      <td>760733035</td>\n",
       "      <td>2009</td>\n",
       "      <td>760733035_2009</td>\n",
       "    </tr>\n",
       "    <tr>\n",
       "      <th>bcc635fa2b088a72666c3d534d0221a1c1294f2974a6a304679654069e5cbcdc</th>\n",
       "      <td>0</td>\n",
       "      <td>THE FEDERALIST SOCIETY FOR LAW AND</td>\n",
       "      <td>1015 18TH ST., N.W. 425</td>\n",
       "      <td>WASHINGTON</td>\n",
       "      <td>DC</td>\n",
       "      <td>20036</td>\n",
       "      <td>www. FED-SOC.ORG</td>\n",
       "      <td>11033302</td>\n",
       "      <td>1982</td>\n",
       "      <td>IL</td>\n",
       "      <td>...</td>\n",
       "      <td></td>\n",
       "      <td></td>\n",
       "      <td></td>\n",
       "      <td></td>\n",
       "      <td></td>\n",
       "      <td>EIN_363235550_YEAR_2009_FORMTYPE_990.pdf</td>\n",
       "      <td>[EIN, 363235550, YEAR, 2009, FORMTYPE, 990.pdf]</td>\n",
       "      <td>363235550</td>\n",
       "      <td>2009</td>\n",
       "      <td>363235550_2009</td>\n",
       "    </tr>\n",
       "    <tr>\n",
       "      <th>f0545c488bd7ab7e775c25cfa7d050a3ff1f84dea9a3371b8fef236bd3d0624b</th>\n",
       "      <td>0</td>\n",
       "      <td>Ron Hutchcraft Ministries Inc</td>\n",
       "      <td>PO Box 400</td>\n",
       "      <td>Harnson</td>\n",
       "      <td>AR</td>\n",
       "      <td>20400</td>\n",
       "      <td>www hutchcraft com</td>\n",
       "      <td>3390</td>\n",
       "      <td>1991</td>\n",
       "      <td>NJ</td>\n",
       "      <td>...</td>\n",
       "      <td></td>\n",
       "      <td></td>\n",
       "      <td></td>\n",
       "      <td></td>\n",
       "      <td></td>\n",
       "      <td>EIN_223134995_YEAR_2010_FORMTYPE_990.pdf</td>\n",
       "      <td>[EIN, 223134995, YEAR, 2010, FORMTYPE, 990.pdf]</td>\n",
       "      <td>223134995</td>\n",
       "      <td>2010</td>\n",
       "      <td>223134995_2010</td>\n",
       "    </tr>\n",
       "    <tr>\n",
       "      <th>4f2b05354be9fb6483976694a1ed0494c7c387631c15130bdaaa1a85a1cf4f82</th>\n",
       "      <td>0</td>\n",
       "      <td>FREEDOM 4 24</td>\n",
       "      <td>21430 TIMBERLAKE ROAD STE 101</td>\n",
       "      <td>LYNCHBURG</td>\n",
       "      <td>VA</td>\n",
       "      <td>24502</td>\n",
       "      <td>freedom424 org</td>\n",
       "      <td>61857</td>\n",
       "      <td>2009</td>\n",
       "      <td>VA</td>\n",
       "      <td>...</td>\n",
       "      <td></td>\n",
       "      <td></td>\n",
       "      <td></td>\n",
       "      <td></td>\n",
       "      <td></td>\n",
       "      <td>EIN_264320885_YEAR_2009_FORMTYPE_990.pdf</td>\n",
       "      <td>[EIN, 264320885, YEAR, 2009, FORMTYPE, 990.pdf]</td>\n",
       "      <td>264320885</td>\n",
       "      <td>2009</td>\n",
       "      <td>264320885_2009</td>\n",
       "    </tr>\n",
       "    <tr>\n",
       "      <th>1dd5dc37f4e99e27668c769d04d0f72273a6c582d504bf0b88d35d5a4c15c1be</th>\n",
       "      <td>0</td>\n",
       "      <td>GEORGIA PUBLIC POLICY FOUNDTION</td>\n",
       "      <td>6100 LAKE FORREST DR</td>\n",
       "      <td>LAKE FORREST</td>\n",
       "      <td>GA</td>\n",
       "      <td>30328</td>\n",
       "      <td>www GPPF org</td>\n",
       "      <td>583209</td>\n",
       "      <td>1991</td>\n",
       "      <td>GA</td>\n",
       "      <td>...</td>\n",
       "      <td></td>\n",
       "      <td></td>\n",
       "      <td></td>\n",
       "      <td></td>\n",
       "      <td></td>\n",
       "      <td>EIN_581943161_YEAR_2009_FORMTYPE_990.pdf</td>\n",
       "      <td>[EIN, 581943161, YEAR, 2009, FORMTYPE, 990.pdf]</td>\n",
       "      <td>581943161</td>\n",
       "      <td>2009</td>\n",
       "      <td>581943161_2009</td>\n",
       "    </tr>\n",
       "  </tbody>\n",
       "</table>\n",
       "<p>5 rows × 187 columns</p>\n",
       "</div>"
      ],
      "text/plain": [
       "field_name                                          index  \\\n",
       "job_id                                                      \n",
       "0f908c03383d094f6c1386749189f281d188d5ea0cd64c4...      0   \n",
       "bcc635fa2b088a72666c3d534d0221a1c1294f2974a6a30...      0   \n",
       "f0545c488bd7ab7e775c25cfa7d050a3ff1f84dea9a3371...      0   \n",
       "4f2b05354be9fb6483976694a1ed0494c7c387631c15130...      0   \n",
       "1dd5dc37f4e99e27668c769d04d0f72273a6c582d504bf0...      0   \n",
       "\n",
       "field_name                                                                        name  \\\n",
       "job_id                                                                                   \n",
       "0f908c03383d094f6c1386749189f281d188d5ea0cd64c4...               MAKE WAY PARTNERS INC   \n",
       "bcc635fa2b088a72666c3d534d0221a1c1294f2974a6a30...  THE FEDERALIST SOCIETY FOR LAW AND   \n",
       "f0545c488bd7ab7e775c25cfa7d050a3ff1f84dea9a3371...       Ron Hutchcraft Ministries Inc   \n",
       "4f2b05354be9fb6483976694a1ed0494c7c387631c15130...                        FREEDOM 4 24   \n",
       "1dd5dc37f4e99e27668c769d04d0f72273a6c582d504bf0...     GEORGIA PUBLIC POLICY FOUNDTION   \n",
       "\n",
       "field_name                                                                address  \\\n",
       "job_id                                                                              \n",
       "0f908c03383d094f6c1386749189f281d188d5ea0cd64c4...                   PO BOX 26367   \n",
       "bcc635fa2b088a72666c3d534d0221a1c1294f2974a6a30...        1015 18TH ST., N.W. 425   \n",
       "f0545c488bd7ab7e775c25cfa7d050a3ff1f84dea9a3371...                     PO Box 400   \n",
       "4f2b05354be9fb6483976694a1ed0494c7c387631c15130...  21430 TIMBERLAKE ROAD STE 101   \n",
       "1dd5dc37f4e99e27668c769d04d0f72273a6c582d504bf0...           6100 LAKE FORREST DR   \n",
       "\n",
       "field_name                                                  city state    zip  \\\n",
       "job_id                                                                          \n",
       "0f908c03383d094f6c1386749189f281d188d5ea0cd64c4...    BIRMINGHAM    OX  26367   \n",
       "bcc635fa2b088a72666c3d534d0221a1c1294f2974a6a30...    WASHINGTON    DC  20036   \n",
       "f0545c488bd7ab7e775c25cfa7d050a3ff1f84dea9a3371...       Harnson    AR  20400   \n",
       "4f2b05354be9fb6483976694a1ed0494c7c387631c15130...     LYNCHBURG    VA  24502   \n",
       "1dd5dc37f4e99e27668c769d04d0f72273a6c582d504bf0...  LAKE FORREST    GA  30328   \n",
       "\n",
       "field_name                                                          website  \\\n",
       "job_id                                                                        \n",
       "0f908c03383d094f6c1386749189f281d188d5ea0cd64c4...  www MAKEWAYPARTNERS ORG   \n",
       "bcc635fa2b088a72666c3d534d0221a1c1294f2974a6a30...         www. FED-SOC.ORG   \n",
       "f0545c488bd7ab7e775c25cfa7d050a3ff1f84dea9a3371...       www hutchcraft com   \n",
       "4f2b05354be9fb6483976694a1ed0494c7c387631c15130...           freedom424 org   \n",
       "1dd5dc37f4e99e27668c769d04d0f72273a6c582d504bf0...             www GPPF org   \n",
       "\n",
       "field_name                                         gross_receipts  \\\n",
       "job_id                                                              \n",
       "0f908c03383d094f6c1386749189f281d188d5ea0cd64c4...        1426217   \n",
       "bcc635fa2b088a72666c3d534d0221a1c1294f2974a6a30...       11033302   \n",
       "f0545c488bd7ab7e775c25cfa7d050a3ff1f84dea9a3371...           3390   \n",
       "4f2b05354be9fb6483976694a1ed0494c7c387631c15130...          61857   \n",
       "1dd5dc37f4e99e27668c769d04d0f72273a6c582d504bf0...         583209   \n",
       "\n",
       "field_name                                         year_formation  \\\n",
       "job_id                                                              \n",
       "0f908c03383d094f6c1386749189f281d188d5ea0cd64c4...                  \n",
       "bcc635fa2b088a72666c3d534d0221a1c1294f2974a6a30...           1982   \n",
       "f0545c488bd7ab7e775c25cfa7d050a3ff1f84dea9a3371...           1991   \n",
       "4f2b05354be9fb6483976694a1ed0494c7c387631c15130...           2009   \n",
       "1dd5dc37f4e99e27668c769d04d0f72273a6c582d504bf0...           1991   \n",
       "\n",
       "field_name                                         state_of_domicile  ...  \\\n",
       "job_id                                                                ...   \n",
       "0f908c03383d094f6c1386749189f281d188d5ea0cd64c4...                    ...   \n",
       "bcc635fa2b088a72666c3d534d0221a1c1294f2974a6a30...                IL  ...   \n",
       "f0545c488bd7ab7e775c25cfa7d050a3ff1f84dea9a3371...                NJ  ...   \n",
       "4f2b05354be9fb6483976694a1ed0494c7c387631c15130...                VA  ...   \n",
       "1dd5dc37f4e99e27668c769d04d0f72273a6c582d504bf0...                GA  ...   \n",
       "\n",
       "field_name                                         activities_per_region_totals_number_of_offices  \\\n",
       "job_id                                                                                              \n",
       "0f908c03383d094f6c1386749189f281d188d5ea0cd64c4...                                                  \n",
       "bcc635fa2b088a72666c3d534d0221a1c1294f2974a6a30...                                                  \n",
       "f0545c488bd7ab7e775c25cfa7d050a3ff1f84dea9a3371...                                                  \n",
       "4f2b05354be9fb6483976694a1ed0494c7c387631c15130...                                                  \n",
       "1dd5dc37f4e99e27668c769d04d0f72273a6c582d504bf0...                                                  \n",
       "\n",
       "field_name                                         activities_per_region_totals_number_of_employees  \\\n",
       "job_id                                                                                                \n",
       "0f908c03383d094f6c1386749189f281d188d5ea0cd64c4...                                                    \n",
       "bcc635fa2b088a72666c3d534d0221a1c1294f2974a6a30...                                                    \n",
       "f0545c488bd7ab7e775c25cfa7d050a3ff1f84dea9a3371...                                                    \n",
       "4f2b05354be9fb6483976694a1ed0494c7c387631c15130...                                                    \n",
       "1dd5dc37f4e99e27668c769d04d0f72273a6c582d504bf0...                                                    \n",
       "\n",
       "field_name                                         activities_per_region_totals_total_expenditure  \\\n",
       "job_id                                                                                              \n",
       "0f908c03383d094f6c1386749189f281d188d5ea0cd64c4...                                                  \n",
       "bcc635fa2b088a72666c3d534d0221a1c1294f2974a6a30...                                                  \n",
       "f0545c488bd7ab7e775c25cfa7d050a3ff1f84dea9a3371...                                                  \n",
       "4f2b05354be9fb6483976694a1ed0494c7c387631c15130...                                                  \n",
       "1dd5dc37f4e99e27668c769d04d0f72273a6c582d504bf0...                                                  \n",
       "\n",
       "field_name                                         total_number_recipient_foreign_orgs_listed_as_charities  \\\n",
       "job_id                                                                                                       \n",
       "0f908c03383d094f6c1386749189f281d188d5ea0cd64c4...                                                           \n",
       "bcc635fa2b088a72666c3d534d0221a1c1294f2974a6a30...                                                           \n",
       "f0545c488bd7ab7e775c25cfa7d050a3ff1f84dea9a3371...                                                           \n",
       "4f2b05354be9fb6483976694a1ed0494c7c387631c15130...                                                           \n",
       "1dd5dc37f4e99e27668c769d04d0f72273a6c582d504bf0...                                                           \n",
       "\n",
       "field_name                                         total_number_other_recipient_foreign_orgs_entities  \\\n",
       "job_id                                                                                                  \n",
       "0f908c03383d094f6c1386749189f281d188d5ea0cd64c4...                                                      \n",
       "bcc635fa2b088a72666c3d534d0221a1c1294f2974a6a30...                                                      \n",
       "f0545c488bd7ab7e775c25cfa7d050a3ff1f84dea9a3371...                                                      \n",
       "4f2b05354be9fb6483976694a1ed0494c7c387631c15130...                                                      \n",
       "1dd5dc37f4e99e27668c769d04d0f72273a6c582d504bf0...                                                      \n",
       "\n",
       "field_name                                                                           pdf_key  \\\n",
       "job_id                                                                                         \n",
       "0f908c03383d094f6c1386749189f281d188d5ea0cd64c4...  EIN_760733035_YEAR_2009_FORMTYPE_990.pdf   \n",
       "bcc635fa2b088a72666c3d534d0221a1c1294f2974a6a30...  EIN_363235550_YEAR_2009_FORMTYPE_990.pdf   \n",
       "f0545c488bd7ab7e775c25cfa7d050a3ff1f84dea9a3371...  EIN_223134995_YEAR_2010_FORMTYPE_990.pdf   \n",
       "4f2b05354be9fb6483976694a1ed0494c7c387631c15130...  EIN_264320885_YEAR_2009_FORMTYPE_990.pdf   \n",
       "1dd5dc37f4e99e27668c769d04d0f72273a6c582d504bf0...  EIN_581943161_YEAR_2009_FORMTYPE_990.pdf   \n",
       "\n",
       "field_name                                                                            split_pdf_key  \\\n",
       "job_id                                                                                                \n",
       "0f908c03383d094f6c1386749189f281d188d5ea0cd64c4...  [EIN, 760733035, YEAR, 2009, FORMTYPE, 990.pdf]   \n",
       "bcc635fa2b088a72666c3d534d0221a1c1294f2974a6a30...  [EIN, 363235550, YEAR, 2009, FORMTYPE, 990.pdf]   \n",
       "f0545c488bd7ab7e775c25cfa7d050a3ff1f84dea9a3371...  [EIN, 223134995, YEAR, 2010, FORMTYPE, 990.pdf]   \n",
       "4f2b05354be9fb6483976694a1ed0494c7c387631c15130...  [EIN, 264320885, YEAR, 2009, FORMTYPE, 990.pdf]   \n",
       "1dd5dc37f4e99e27668c769d04d0f72273a6c582d504bf0...  [EIN, 581943161, YEAR, 2009, FORMTYPE, 990.pdf]   \n",
       "\n",
       "field_name                                                ein  year  \\\n",
       "job_id                                                                \n",
       "0f908c03383d094f6c1386749189f281d188d5ea0cd64c4...  760733035  2009   \n",
       "bcc635fa2b088a72666c3d534d0221a1c1294f2974a6a30...  363235550  2009   \n",
       "f0545c488bd7ab7e775c25cfa7d050a3ff1f84dea9a3371...  223134995  2010   \n",
       "4f2b05354be9fb6483976694a1ed0494c7c387631c15130...  264320885  2009   \n",
       "1dd5dc37f4e99e27668c769d04d0f72273a6c582d504bf0...  581943161  2009   \n",
       "\n",
       "field_name                                               filing_id  \n",
       "job_id                                                              \n",
       "0f908c03383d094f6c1386749189f281d188d5ea0cd64c4...  760733035_2009  \n",
       "bcc635fa2b088a72666c3d534d0221a1c1294f2974a6a30...  363235550_2009  \n",
       "f0545c488bd7ab7e775c25cfa7d050a3ff1f84dea9a3371...  223134995_2010  \n",
       "4f2b05354be9fb6483976694a1ed0494c7c387631c15130...  264320885_2009  \n",
       "1dd5dc37f4e99e27668c769d04d0f72273a6c582d504bf0...  581943161_2009  \n",
       "\n",
       "[5 rows x 187 columns]"
      ]
     },
     "execution_count": 9,
     "metadata": {},
     "output_type": "execute_result"
    }
   ],
   "source": [
    "output_data.head()"
   ]
  },
  {
   "cell_type": "code",
   "execution_count": 10,
   "id": "6e69039c",
   "metadata": {},
   "outputs": [],
   "source": [
    "def clean(x):\n",
    "    x = str(x)\n",
    "    x = re.sub(r\"\\.0\\b\", \"\", x)\n",
    "    x = re.sub(\"\\D\", \"\", x)\n",
    "    return x"
   ]
  },
  {
   "cell_type": "code",
   "execution_count": 11,
   "id": "f8c2a22a",
   "metadata": {},
   "outputs": [],
   "source": [
    "def compare_output(to_validate, to_compare, col):\n",
    "    return pd.DataFrame(\n",
    "        {\n",
    "            \"extracted\": to_validate.loc[col].loc[\n",
    "                lambda series: series != to_compare.loc[col]\n",
    "            ],\n",
    "            \"expected\": to_compare.loc[col].loc[\n",
    "                lambda series: series != to_validate.loc[col]\n",
    "            ],\n",
    "        }\n",
    "    )"
   ]
  },
  {
   "cell_type": "code",
   "execution_count": 12,
   "id": "e103dda3",
   "metadata": {
    "scrolled": false
   },
   "outputs": [
    {
     "name": "stdout",
     "output_type": "stream",
     "text": [
      "EIN_113489123_YEAR_2008_FORMTYPE_990.pdf\n",
      "2 mismatched items.\n",
      "              extracted expected\n",
      "total_revenue      1017  1017506\n",
      "travel_total        137    13710\n",
      "-------------------------------------------------------------------------------\n"
     ]
    }
   ],
   "source": [
    "to_compare = validation_data.set_index(\"pdf_key\").applymap(clean)\n",
    "to_validate = output_data[validation_data.columns].set_index(\"pdf_key\").applymap(clean)\n",
    "\n",
    "for col in to_validate.index:\n",
    "    validated = compare_output(to_validate, to_compare, col)\n",
    "    if validated.any().any():\n",
    "        print(col)\n",
    "        print(f\"{validated.shape[0]} mismatched items.\")\n",
    "        print(validated)\n",
    "        print(\"-\"*79)"
   ]
  },
  {
   "cell_type": "code",
   "execution_count": 13,
   "id": "282f0276",
   "metadata": {},
   "outputs": [
    {
     "ename": "AssertionError",
     "evalue": "",
     "output_type": "error",
     "traceback": [
      "\u001b[0;31m---------------------------------------------------------------------------\u001b[0m",
      "\u001b[0;31mAssertionError\u001b[0m                            Traceback (most recent call last)",
      "Input \u001b[0;32mIn [13]\u001b[0m, in \u001b[0;36m<cell line: 1>\u001b[0;34m()\u001b[0m\n\u001b[0;32m----> 1\u001b[0m \u001b[38;5;28;01massert\u001b[39;00m \u001b[38;5;28;01mFalse\u001b[39;00m\n",
      "\u001b[0;31mAssertionError\u001b[0m: "
     ]
    }
   ],
   "source": [
    "assert False"
   ]
  },
  {
   "cell_type": "markdown",
   "id": "3e3b1d2f",
   "metadata": {},
   "source": [
    "## BREAK"
   ]
  },
  {
   "cell_type": "code",
   "execution_count": 15,
   "id": "38615dc2",
   "metadata": {},
   "outputs": [],
   "source": [
    "table_test_df = open_df(bucket, \"67217e04d83f69ffbbb461b0a23648b037b4a36d0c5ebdb32d3186b19d6a6fd5\")"
   ]
  },
  {
   "cell_type": "code",
   "execution_count": null,
   "id": "d84e9fbb",
   "metadata": {},
   "outputs": [],
   "source": [
    "page_words[\"Line_No2\"] = pd.cut(page_words[\"Top\"], int(1 / page_words[\"Height\"].mean()))"
   ]
  },
  {
   "cell_type": "code",
   "execution_count": null,
   "id": "9485ca27",
   "metadata": {},
   "outputs": [],
   "source": [
    "page_words.groupby(\"Line_No2\")[\"Text\"].agg(lambda words: \" \".join(words)).head(50)"
   ]
  },
  {
   "cell_type": "code",
   "execution_count": 16,
   "id": "f8c6bea6",
   "metadata": {},
   "outputs": [
    {
     "data": {
      "text/plain": [
       "{'Page 1': 2, 'Page 10': 11, 'Schedule F, Page 1': 0, 'Schedule F, Page 2': 0}"
      ]
     },
     "execution_count": 16,
     "metadata": {},
     "output_type": "execute_result"
    }
   ],
   "source": [
    "page_map"
   ]
  },
  {
   "cell_type": "code",
   "execution_count": null,
   "id": "b6b01610",
   "metadata": {},
   "outputs": [],
   "source": [
    "assert False"
   ]
  },
  {
   "cell_type": "code",
   "execution_count": null,
   "id": "9d8599ca",
   "metadata": {
    "scrolled": false
   },
   "outputs": [],
   "source": [
    "part_i_table = extract_table_data(\n",
    "    test_pages, test_lines, test_words, PART_I_HEADER, PART_I_TABLE_NAME,\n",
    "    schedule_f_tablemap_df, schedule_f_table_extractor_df,\n",
    "    schedule_f_row_extractor_df\n",
    ")"
   ]
  },
  {
   "cell_type": "code",
   "execution_count": null,
   "id": "bf6a473e",
   "metadata": {},
   "outputs": [],
   "source": [
    "part_i_table"
   ]
  },
  {
   "cell_type": "code",
   "execution_count": null,
   "id": "47383180",
   "metadata": {},
   "outputs": [],
   "source": [
    "table_pages = find_table_pages(test_pages[\"Text\"].agg(lambda words: \" \".join(words)), PART_I_HEADER)"
   ]
  },
  {
   "cell_type": "code",
   "execution_count": null,
   "id": "b5c223bd",
   "metadata": {},
   "outputs": [],
   "source": [
    "table_pages"
   ]
  },
  {
   "cell_type": "code",
   "execution_count": null,
   "id": "1edd8e34",
   "metadata": {},
   "outputs": [],
   "source": [
    "tablemaps = pd.DataFrame(\n",
    "    {\n",
    "        \"page\": table_pages,\n",
    "        \"tablemap\": table_pages.map(\n",
    "            lambda page: create_tablemap(test_lines, schedule_f_tablemap_df, page).dropna()\n",
    "        )\n",
    "    }\n",
    ")"
   ]
  },
  {
   "cell_type": "code",
   "execution_count": null,
   "id": "726ccec2",
   "metadata": {},
   "outputs": [],
   "source": [
    "tablemaps[\"tablemap\"].iloc[0]"
   ]
  },
  {
   "cell_type": "code",
   "execution_count": null,
   "id": "b5d7b105",
   "metadata": {},
   "outputs": [],
   "source": [
    "table_row_extractors = schedule_f_row_extractor_df.loc[\n",
    "    schedule_f_row_extractor_df[\"table\"] == PART_I_TABLE_NAME\n",
    "]\n",
    "\n",
    "table = schedule_f_table_extractor_df.loc[\n",
    "        schedule_f_table_extractor_df[\"table\"] == PART_I_TABLE_NAME\n",
    "].iloc[0]\n",
    "\n",
    "\n",
    "extractors = tablemaps.assign(\n",
    "    extractor=tablemaps[\"tablemap\"].map(\n",
    "        lambda tablemap: TableExtractor(\n",
    "            top_label=table[\"table_top\"],\n",
    "            top_delta=table[\"table_top_delta\"],\n",
    "            bottom_label=table[\"table_bottom\"],\n",
    "            bottom_delta=table[\"table_bottom_delta\"],\n",
    "            row_margin=table[\"row_margin\"],\n",
    "            index_col_left_label=table[\"index_col_left\"],\n",
    "            index_col_left_delta=table[\"index_col_left_delta\"],\n",
    "            index_col_right_label=table[\"index_col_right\"],\n",
    "            index_col_right_delta=table[\"index_col_right_delta\"],\n",
    "            tablemap=tablemap,\n",
    "            row_extractors=table_row_extractors,\n",
    "            fields=table_row_extractors[\"field\"],   \n",
    "        )\n",
    "    )\n",
    ")"
   ]
  },
  {
   "cell_type": "code",
   "execution_count": null,
   "id": "9de2fffd",
   "metadata": {},
   "outputs": [],
   "source": [
    "extractors[\"extractor\"].iloc[0]"
   ]
  },
  {
   "cell_type": "code",
   "execution_count": null,
   "id": "3fc993b9",
   "metadata": {},
   "outputs": [],
   "source": [
    "extractors.apply(\n",
    "    lambda row: row[\"extractor\"].extract_rows(test_words, row[\"page\"]),\n",
    "    axis=1\n",
    ")"
   ]
  },
  {
   "cell_type": "code",
   "execution_count": null,
   "id": "783c14c4",
   "metadata": {},
   "outputs": [],
   "source": [
    "extractors[\"extractor\"].iloc[0].extract_rows(test_words, 20)"
   ]
  },
  {
   "cell_type": "code",
   "execution_count": null,
   "id": "58612b54",
   "metadata": {},
   "outputs": [],
   "source": [
    "extractors[\"extractor\"].iloc[0].get_row_spans(test_words, 20)"
   ]
  },
  {
   "cell_type": "code",
   "execution_count": null,
   "id": "910dd35a",
   "metadata": {},
   "outputs": [],
   "source": [
    "extractors[\"extractor\"].iloc[0].get_index_col_span()"
   ]
  },
  {
   "cell_type": "code",
   "execution_count": null,
   "id": "0a5aa3f4",
   "metadata": {},
   "outputs": [],
   "source": [
    "extractors[\"extractor\"].iloc[0].table_bottom"
   ]
  },
  {
   "cell_type": "code",
   "execution_count": null,
   "id": "c9c80769",
   "metadata": {},
   "outputs": [],
   "source": [
    "page_20_words = test_words.loc[\n",
    "    (test_words[\"Page\"] == 20)\n",
    "]"
   ]
  },
  {
   "cell_type": "code",
   "execution_count": null,
   "id": "b09e2372",
   "metadata": {},
   "outputs": [],
   "source": [
    "row_tops = page_20_words.loc[\n",
    "    page_20_words[\"Left\"].between(0.87, 1)\n",
    "    & page_20_words[\"Top\"].between(0.37, 1)\n",
    "]"
   ]
  },
  {
   "cell_type": "code",
   "execution_count": null,
   "id": "3f63fb1d",
   "metadata": {},
   "outputs": [],
   "source": [
    "row_tops"
   ]
  },
  {
   "cell_type": "code",
   "execution_count": null,
   "id": "722acbf3",
   "metadata": {},
   "outputs": [],
   "source": [
    "extractors[\"extractor\"].iloc[0].extract_row(test_words, 20, (.383, .8))"
   ]
  },
  {
   "cell_type": "code",
   "execution_count": null,
   "id": "bf515f98",
   "metadata": {},
   "outputs": [],
   "source": [
    "page_20_words.loc[page_20_words[\"Text\"] == \"ISRAEL\"]"
   ]
  },
  {
   "cell_type": "markdown",
   "id": "c2bdded2",
   "metadata": {},
   "source": [
    "## Extracting a bunch"
   ]
  },
  {
   "cell_type": "code",
   "execution_count": null,
   "id": "8261ed0f",
   "metadata": {},
   "outputs": [],
   "source": [
    "ocr_outputs = list(Path(\"/mnt/c/Users/ethan/pdf_parsing\").glob(\"EIN_*.json\"))"
   ]
  },
  {
   "cell_type": "code",
   "execution_count": null,
   "id": "74b99a8d",
   "metadata": {},
   "outputs": [],
   "source": [
    "len(ocr_outputs)"
   ]
  },
  {
   "cell_type": "code",
   "execution_count": null,
   "id": "d25395b3",
   "metadata": {},
   "outputs": [],
   "source": [
    "def open_local_df(path):\n",
    "    with open(path) as json_data:\n",
    "        output = json.load(json_data)\n",
    "        return pd.DataFrame.from_records(\n",
    "            output[\"Blocks\"],\n",
    "            index=\"Id\",\n",
    "            exclude=[\n",
    "                \"ColumnIndex\",\n",
    "                \"ColumnSpan\",\n",
    "                \"DocumentType\",\n",
    "                \"EntityTypes\",\n",
    "                \"Hint\",\n",
    "                \"Query\",\n",
    "                \"SelectionStatus\",\n",
    "                \"RowIndex\",\n",
    "                \"RowSpan\",\n",
    "            ]\n",
    "        ).assign(\n",
    "            Height=lambda df: df[\"Geometry\"].map(lambda x: x[\"BoundingBox\"][\"Height\"]),\n",
    "            Left=lambda df: df[\"Geometry\"].map(lambda x: x[\"BoundingBox\"][\"Left\"]),\n",
    "            Top=lambda df: df[\"Geometry\"].map(lambda x: x[\"BoundingBox\"][\"Top\"]),\n",
    "            Width=lambda df: df[\"Geometry\"].map(lambda x: x[\"BoundingBox\"][\"Width\"]),\n",
    "            Polygon=lambda df: df[\"Geometry\"].map(lambda x: x[\"Polygon\"]),\n",
    "            Children=lambda df: df[\"Relationships\"].map(lambda x: x[0][\"Ids\"] if x is not None else x),\n",
    "            Line_No=lambda df: pd.qcut(df[\"Top\"], 100, labels=list(range(100))).astype(int),\n",
    "            File=lambda df: df[\"Geometry\"].map(lambda x: path.name),\n",
    "            Right=lambda df: df[\"Polygon\"].map(\n",
    "                lambda polygon: max(corner[\"X\"] for corner in polygon)\n",
    "            ),\n",
    "            Bottom=lambda df: df[\"Polygon\"].map(\n",
    "                lambda polygon: max(corner[\"Y\"] for corner in polygon)\n",
    "            )\n",
    "        ).drop(\n",
    "            columns=[\n",
    "                \"Geometry\",\n",
    "                \"Relationships\",\n",
    "            ]\n",
    "        ).sort_values(\n",
    "            by=[\"File\", \"Page\", \"Line_No\", \"Left\"]\n",
    "        )"
   ]
  },
  {
   "cell_type": "code",
   "execution_count": null,
   "id": "e06984c5",
   "metadata": {
    "scrolled": false
   },
   "outputs": [],
   "source": [
    "filing_rows = []\n",
    "schedule_f_part_i_rows = []\n",
    "schedule_f_part_ii_rows = []\n",
    "schedule_f_part_iii_rows = []\n",
    "\n",
    "for (count, path) in enumerate(ocr_outputs[:100]):\n",
    "    print(count, path.name)\n",
    "    try:\n",
    "        data = open_local_df(path)\n",
    "    except Exception as e:\n",
    "        print(path.name)\n",
    "        print(e)\n",
    "    else:\n",
    "        lines = data.loc[data[\"BlockType\"] == \"LINE\"]\n",
    "        words = data.loc[data[\"BlockType\"] == \"WORD\"]\n",
    "        page_map = find_pages(lines)\n",
    "        roadmap = create_roadmap(\n",
    "            lines, roadmap_df, page_map\n",
    "        )\n",
    "        row = extract_from_roadmap(\n",
    "            words, lines, roadmap, extractor_df, page_map\n",
    "        )\n",
    "        row[\"file\"] = path.name\n",
    "        filing_rows.append(row)\n",
    "        pages = lines.groupby(\"Page\")\n",
    "        part_i_table = extract_table_data(\n",
    "            pages, lines, words, PART_I_HEADER, PART_I_TABLE_NAME, \n",
    "            schedule_f_tablemap_df, schedule_f_table_extractor_df, schedule_f_row_extractor_df,\n",
    "        )\n",
    "        if part_i_table is not None:\n",
    "            schedule_f_part_i_rows.append(\n",
    "                part_i_table.assign(file=path.name)\n",
    "            )\n",
    "        part_ii_table = extract_table_data(\n",
    "            pages, lines, words, PART_II_HEADER, PART_II_TABLE_NAME, \n",
    "            schedule_f_tablemap_df, schedule_f_table_extractor_df, schedule_f_row_extractor_df,\n",
    "        )\n",
    "        if part_ii_table is not None:\n",
    "            schedule_f_part_ii_rows.append(\n",
    "                part_ii_table.assign(file=path.name)\n",
    "            )\n",
    "        part_iii_table = extract_table_data(\n",
    "            pages, lines, words, PART_III_HEADER, PART_III_TABLE_NAME, \n",
    "            schedule_f_tablemap_df, schedule_f_table_extractor_df, schedule_f_row_extractor_df,\n",
    "        )\n",
    "        if part_iii_table is not None:\n",
    "            schedule_f_part_iii_rows.append(\n",
    "                part_iii_table.assign(file=path.name)\n",
    "            )\n",
    "    \n",
    "filing_output_df = pd.DataFrame(filing_rows).set_index(\"file\")\n"
   ]
  },
  {
   "cell_type": "code",
   "execution_count": null,
   "id": "4e7149d0",
   "metadata": {},
   "outputs": [],
   "source": [
    "filing_output_df[\"total_revenue\"].value_counts()"
   ]
  },
  {
   "cell_type": "code",
   "execution_count": null,
   "id": "8f76b63d",
   "metadata": {
    "scrolled": false
   },
   "outputs": [],
   "source": [
    "filing_output_df.iloc[24].iloc[:50]"
   ]
  },
  {
   "cell_type": "code",
   "execution_count": null,
   "id": "5b8997d2",
   "metadata": {
    "scrolled": false
   },
   "outputs": [],
   "source": [
    "schedule_f_part_i_df = pd.concat(schedule_f_part_i_rows)"
   ]
  },
  {
   "cell_type": "code",
   "execution_count": null,
   "id": "373c3680",
   "metadata": {
    "scrolled": false
   },
   "outputs": [],
   "source": [
    "schedule_f_part_i_df.iloc[:50]"
   ]
  },
  {
   "cell_type": "code",
   "execution_count": null,
   "id": "8ecb419d",
   "metadata": {},
   "outputs": [],
   "source": [
    "schedule_f_part_ii_df = pd.concat(schedule_f_part_ii_rows)"
   ]
  },
  {
   "cell_type": "code",
   "execution_count": null,
   "id": "cca95919",
   "metadata": {
    "scrolled": false
   },
   "outputs": [],
   "source": [
    "schedule_f_part_ii_df.iloc[50:100]"
   ]
  },
  {
   "cell_type": "code",
   "execution_count": null,
   "id": "edc8bbaa",
   "metadata": {},
   "outputs": [],
   "source": [
    "schedule_f_part_iii_df = pd.concat(schedule_f_part_iii_rows)"
   ]
  },
  {
   "cell_type": "code",
   "execution_count": null,
   "id": "4aaf5564",
   "metadata": {
    "scrolled": false
   },
   "outputs": [],
   "source": [
    "schedule_f_part_iii_df.tail(50)"
   ]
  },
  {
   "cell_type": "code",
   "execution_count": null,
   "id": "21e9e4c9",
   "metadata": {},
   "outputs": [],
   "source": [
    "clean_filing(filing_output_df)"
   ]
  },
  {
   "cell_type": "code",
   "execution_count": null,
   "id": "4480915a",
   "metadata": {},
   "outputs": [],
   "source": [
    "re.search(r\"(?P<open_par>\\()(\\d+)(?(open_par)\\)|\\b)\", \"(2425)\").group(2)"
   ]
  },
  {
   "cell_type": "code",
   "execution_count": null,
   "id": "ab0277c3",
   "metadata": {},
   "outputs": [],
   "source": [
    "test_new_filing = open_local_df(\n",
    "    Path(\"/mnt/c/Users/ethan/pdf_parsing\") / \"EIN_200478411_YEAR_2017_FORMTYPE_990.json\"\n",
    ")"
   ]
  },
  {
   "cell_type": "code",
   "execution_count": null,
   "id": "57e898c3",
   "metadata": {},
   "outputs": [],
   "source": [
    "test_new_filing"
   ]
  },
  {
   "cell_type": "code",
   "execution_count": null,
   "id": "7ec37676",
   "metadata": {},
   "outputs": [],
   "source": [
    "test_new_filing_words = test_new_filing.loc[\n",
    "    test_new_filing[\"BlockType\"] == \"WORD\"\n",
    "]\n",
    "\n",
    "test_new_filing_lines = test_new_filing.loc[\n",
    "    test_new_filing[\"BlockType\"] == \"LINE\"\n",
    "]\n",
    "test_new_filing_pages = test_new_filing_lines.groupby(\"Page\")\n"
   ]
  },
  {
   "cell_type": "code",
   "execution_count": null,
   "id": "d5e49691",
   "metadata": {},
   "outputs": [],
   "source": [
    "page_map = find_pages(test_new_filing_lines)"
   ]
  },
  {
   "cell_type": "code",
   "execution_count": null,
   "id": "4a0d5fea",
   "metadata": {},
   "outputs": [],
   "source": [
    "page_map"
   ]
  },
  {
   "cell_type": "code",
   "execution_count": null,
   "id": "9c1b1901",
   "metadata": {},
   "outputs": [],
   "source": [
    "roadmap = create_roadmap(test_new_filing_lines, roadmap_df, page_map)"
   ]
  },
  {
   "cell_type": "code",
   "execution_count": null,
   "id": "e3ac632f",
   "metadata": {},
   "outputs": [],
   "source": [
    "roadmap.iloc[:50]"
   ]
  },
  {
   "cell_type": "code",
   "execution_count": null,
   "id": "03f501a7",
   "metadata": {},
   "outputs": [],
   "source": [
    "extractors = create_extractors(extractor_df, roadmap, page_map)"
   ]
  },
  {
   "cell_type": "code",
   "execution_count": null,
   "id": "18a22aa3",
   "metadata": {},
   "outputs": [],
   "source": [
    "test_extractor = extractors.iloc[2]\n",
    "test_page = 1"
   ]
  },
  {
   "cell_type": "code",
   "execution_count": null,
   "id": "7a90b2bc",
   "metadata": {},
   "outputs": [],
   "source": [
    "test_extractor.bounding_box.get_text_in_box(test_new_filing_lines, 1)"
   ]
  },
  {
   "cell_type": "code",
   "execution_count": null,
   "id": "53c2a9be",
   "metadata": {},
   "outputs": [],
   "source": [
    "test_extractor.bounding_box.top -= 0.001"
   ]
  },
  {
   "cell_type": "code",
   "execution_count": null,
   "id": "07bbfa79",
   "metadata": {},
   "outputs": [],
   "source": [
    "extract_table_data(\n",
    "    test_new_filing_pages, test_new_filing_lines, test_new_filing_words,\n",
    "    PART_II_HEADER, PART_II_TABLE_NAME, schedule_f_tablemap_df,\n",
    "    schedule_f_table_extractor_df, schedule_f_row_extractor_df,\n",
    ")"
   ]
  },
  {
   "cell_type": "code",
   "execution_count": null,
   "id": "faa643a3",
   "metadata": {},
   "outputs": [],
   "source": [
    "table_pages = find_table_pages(\n",
    "    test_new_filing_pages[\"Text\"].agg(lambda words: \" \".join(words)), PART_II_HEADER,\n",
    ")"
   ]
  },
  {
   "cell_type": "code",
   "execution_count": null,
   "id": "ff69708c",
   "metadata": {},
   "outputs": [],
   "source": [
    "table_pages"
   ]
  },
  {
   "cell_type": "code",
   "execution_count": null,
   "id": "4216f432",
   "metadata": {},
   "outputs": [],
   "source": [
    "tablemaps = pd.DataFrame(\n",
    "    {\n",
    "        \"page\": table_pages,\n",
    "        \"tablemap\": table_pages.map(\n",
    "            lambda page: create_tablemap(test_new_filing_lines, schedule_f_tablemap_df, page).dropna()\n",
    "        )\n",
    "    }\n",
    ")\n",
    "tablemaps"
   ]
  },
  {
   "cell_type": "code",
   "execution_count": null,
   "id": "7e2f5d7f",
   "metadata": {},
   "outputs": [],
   "source": [
    "tablemaps.iloc[1][\"tablemap\"]"
   ]
  },
  {
   "cell_type": "code",
   "execution_count": null,
   "id": "058080d4",
   "metadata": {},
   "outputs": [],
   "source": [
    "row_extractors = schedule_f_row_extractor_df.loc[\n",
    "    schedule_f_row_extractor_df[\"table\"] == PART_II_TABLE_NAME\n",
    "]"
   ]
  },
  {
   "cell_type": "code",
   "execution_count": null,
   "id": "15811478",
   "metadata": {},
   "outputs": [],
   "source": [
    "row_extractors"
   ]
  },
  {
   "cell_type": "code",
   "execution_count": null,
   "id": "5babc656",
   "metadata": {},
   "outputs": [],
   "source": [
    "table = schedule_f_table_extractor_df.loc[\n",
    "    schedule_f_table_extractor_df[\"table\"] == PART_II_TABLE_NAME\n",
    "].iloc[0]\n",
    "table"
   ]
  },
  {
   "cell_type": "code",
   "execution_count": null,
   "id": "81406c1d",
   "metadata": {},
   "outputs": [],
   "source": [
    "rows = tablemaps.assign(\n",
    "    extractor=tablemaps[\"tablemap\"].map(\n",
    "        lambda tablemap: TableExtractor(\n",
    "            top_label=table[\"table_top\"],\n",
    "            top_delta=table[\"table_top_delta\"],\n",
    "            bottom_label=table[\"table_bottom\"],\n",
    "            bottom_delta=table[\"table_bottom_delta\"],\n",
    "            row_margin=table[\"row_margin\"],\n",
    "            index_col_left_label=table[\"index_col_left\"],\n",
    "            index_col_left_delta=table[\"index_col_left_delta\"],\n",
    "            index_col_right_label=table[\"index_col_right\"],\n",
    "            index_col_right_delta=table[\"index_col_right_delta\"],\n",
    "            tablemap=tablemap,\n",
    "            row_extractors=row_extractors,\n",
    "            fields=row_extractors[\"field\"],\n",
    "        )\n",
    "    )\n",
    ")"
   ]
  },
  {
   "cell_type": "code",
   "execution_count": null,
   "id": "2a375ca0",
   "metadata": {},
   "outputs": [],
   "source": [
    "rows"
   ]
  },
  {
   "cell_type": "code",
   "execution_count": null,
   "id": "2fcad362",
   "metadata": {},
   "outputs": [],
   "source": [
    "extractor = rows[\"extractor\"].iloc[1]"
   ]
  },
  {
   "cell_type": "code",
   "execution_count": null,
   "id": "c596e1ea",
   "metadata": {},
   "outputs": [],
   "source": [
    "page_74_lines = test_new_filing_lines.loc[\n",
    "    test_new_filing_lines[\"Page\"] == 74\n",
    "]"
   ]
  },
  {
   "cell_type": "code",
   "execution_count": null,
   "id": "4e00675c",
   "metadata": {},
   "outputs": [],
   "source": [
    "extractor.row_extractors"
   ]
  },
  {
   "cell_type": "code",
   "execution_count": null,
   "id": "311ffb6d",
   "metadata": {},
   "outputs": [],
   "source": [
    "extractor.extract_rows(page_74_words, 74)"
   ]
  },
  {
   "cell_type": "code",
   "execution_count": null,
   "id": "d7869d5b",
   "metadata": {},
   "outputs": [],
   "source": [
    "extractor.get_col_span(\"(b) Region\", \"(c) Number of recipients\")"
   ]
  },
  {
   "cell_type": "code",
   "execution_count": null,
   "id": "25b723ff",
   "metadata": {},
   "outputs": [],
   "source": [
    "extractor.get_row_spans(test_new_filing_words, 74)"
   ]
  },
  {
   "cell_type": "code",
   "execution_count": null,
   "id": "1511ab43",
   "metadata": {},
   "outputs": [],
   "source": [
    "BoundingBox(\n",
    "    left=0.55,\n",
    "    left_delta=0,\n",
    "    top=0.365,\n",
    "    top_delta=-.01,\n",
    "    right=0.66,\n",
    "    right_delta=0,\n",
    "    bottom=1,\n",
    "    bottom_delta=0.01\n",
    ").get_text_in_box(page_74_lines, 74)"
   ]
  },
  {
   "cell_type": "code",
   "execution_count": null,
   "id": "3032066a",
   "metadata": {},
   "outputs": [],
   "source": [
    "extractor.index_col_left_label"
   ]
  },
  {
   "cell_type": "code",
   "execution_count": null,
   "id": "35688e8e",
   "metadata": {},
   "outputs": [],
   "source": [
    "extractor.table_top"
   ]
  },
  {
   "cell_type": "code",
   "execution_count": null,
   "id": "049662ac",
   "metadata": {},
   "outputs": [],
   "source": [
    "extractor.extract_rows(test_new_filing_words, 74).iloc[0].any()"
   ]
  },
  {
   "cell_type": "code",
   "execution_count": null,
   "id": "637fabd5",
   "metadata": {},
   "outputs": [],
   "source": []
  }
 ],
 "metadata": {
  "kernelspec": {
   "display_name": "Python 3 (ipykernel)",
   "language": "python",
   "name": "python3"
  },
  "language_info": {
   "codemirror_mode": {
    "name": "ipython",
    "version": 3
   },
   "file_extension": ".py",
   "mimetype": "text/x-python",
   "name": "python",
   "nbconvert_exporter": "python",
   "pygments_lexer": "ipython3",
   "version": "3.10.4"
  }
 },
 "nbformat": 4,
 "nbformat_minor": 5
}
