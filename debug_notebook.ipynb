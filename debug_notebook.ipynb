{
 "cells": [
  {
   "cell_type": "markdown",
   "id": "71227434",
   "metadata": {},
   "source": [
    "# Parsing Debug Notebook\n",
    "\n",
    "This somewhat messy notebook makes it easier to debug the parser, because we can just rerun the cells needed to set up the debugging process with various parameters."
   ]
  },
  {
   "cell_type": "code",
   "execution_count": 1,
   "id": "ea9e674f",
   "metadata": {},
   "outputs": [],
   "source": [
    "import json\n",
    "import math\n",
    "import re\n",
    "from pathlib import Path\n",
    "\n",
    "import boto3\n",
    "import pandas as pd\n",
    "\n",
    "from parse_990_textract.bucket import open_df\n",
    "from parse_990_textract.filing import create_roadmap, extract_from_roadmap\n",
    "from parse_990_textract.models import BoundingBox, TableExtractor\n",
    "from parse_990_textract.parse import create_extractors, find_item, find_pages\n",
    "from parse_990_textract.postprocessing import clean_filing, clean_f_i, clean_f_ii, clean_f_iii, postprocess\n",
    "from parse_990_textract.setup import load_extractor_df\n",
    "from parse_990_textract.table import extract_table_data, find_table_pages, create_tablemap\n",
    "from parse_990_textract.utils import get_coordinate, get_regex, cluster_words, columnize, cluster_x"
   ]
  },
  {
   "cell_type": "code",
   "execution_count": 2,
   "id": "af03fdc2",
   "metadata": {},
   "outputs": [],
   "source": [
    "bucket = boto3.resource(\"s3\").Bucket(\"s3-ocr-990s-demo\")"
   ]
  },
  {
   "cell_type": "code",
   "execution_count": 3,
   "id": "f95aee98",
   "metadata": {
    "scrolled": true
   },
   "outputs": [
    {
     "data": {
      "text/html": [
       "<div>\n",
       "<style scoped>\n",
       "    .dataframe tbody tr th:only-of-type {\n",
       "        vertical-align: middle;\n",
       "    }\n",
       "\n",
       "    .dataframe tbody tr th {\n",
       "        vertical-align: top;\n",
       "    }\n",
       "\n",
       "    .dataframe thead th {\n",
       "        text-align: right;\n",
       "    }\n",
       "</style>\n",
       "<table border=\"1\" class=\"dataframe\">\n",
       "  <thead>\n",
       "    <tr style=\"text-align: right;\">\n",
       "      <th></th>\n",
       "      <th>pdf_key</th>\n",
       "      <th>other_expenses_c_mgmt_general</th>\n",
       "      <th>payments_affiliates_total</th>\n",
       "      <th>other_expenses_d_prog_service</th>\n",
       "      <th>total_revenue</th>\n",
       "      <th>fees_for_lobbying_services_total</th>\n",
       "      <th>other_employee_benefits_fundraising</th>\n",
       "      <th>total_fundraising_expenses</th>\n",
       "      <th>compensation_officers_prog_service</th>\n",
       "      <th>fees_for_mgmt_services_total</th>\n",
       "      <th>...</th>\n",
       "      <th>travel_total</th>\n",
       "      <th>pension_plan_acc_contrib_prog_service</th>\n",
       "      <th>advertising_promotion_mgmt_general</th>\n",
       "      <th>pension_plan_acc_contrib_mgmt_general</th>\n",
       "      <th>compensation_disq_persons_total</th>\n",
       "      <th>other_salaries_wages_mgmt_general</th>\n",
       "      <th>office_expenses_mgmt_general</th>\n",
       "      <th>fees_for_other_services_fundraising</th>\n",
       "      <th>total_number_other_recipient_foreign_orgs_entities</th>\n",
       "      <th>activities_per_region_totals_total_expenditure</th>\n",
       "    </tr>\n",
       "    <tr>\n",
       "      <th>job_id</th>\n",
       "      <th></th>\n",
       "      <th></th>\n",
       "      <th></th>\n",
       "      <th></th>\n",
       "      <th></th>\n",
       "      <th></th>\n",
       "      <th></th>\n",
       "      <th></th>\n",
       "      <th></th>\n",
       "      <th></th>\n",
       "      <th></th>\n",
       "      <th></th>\n",
       "      <th></th>\n",
       "      <th></th>\n",
       "      <th></th>\n",
       "      <th></th>\n",
       "      <th></th>\n",
       "      <th></th>\n",
       "      <th></th>\n",
       "      <th></th>\n",
       "      <th></th>\n",
       "    </tr>\n",
       "  </thead>\n",
       "  <tbody>\n",
       "    <tr>\n",
       "      <th>0f908c03383d094f6c1386749189f281d188d5ea0cd64c4e424a5b1aae1650c4</th>\n",
       "      <td>EIN_760733035_YEAR_2009_FORMTYPE_990.pdf</td>\n",
       "      <td></td>\n",
       "      <td></td>\n",
       "      <td>33000.0</td>\n",
       "      <td>1415024</td>\n",
       "      <td></td>\n",
       "      <td></td>\n",
       "      <td>4503.0</td>\n",
       "      <td></td>\n",
       "      <td></td>\n",
       "      <td>...</td>\n",
       "      <td>18307.0</td>\n",
       "      <td></td>\n",
       "      <td></td>\n",
       "      <td></td>\n",
       "      <td></td>\n",
       "      <td></td>\n",
       "      <td></td>\n",
       "      <td></td>\n",
       "      <td></td>\n",
       "      <td></td>\n",
       "    </tr>\n",
       "    <tr>\n",
       "      <th>bcc635fa2b088a72666c3d534d0221a1c1294f2974a6a304679654069e5cbcdc</th>\n",
       "      <td>EIN_363235550_YEAR_2009_FORMTYPE_990.pdf</td>\n",
       "      <td></td>\n",
       "      <td></td>\n",
       "      <td>15832.0</td>\n",
       "      <td>9899921</td>\n",
       "      <td></td>\n",
       "      <td>27161.0</td>\n",
       "      <td>597789.0</td>\n",
       "      <td>295722.0</td>\n",
       "      <td></td>\n",
       "      <td>...</td>\n",
       "      <td>677722.0</td>\n",
       "      <td>34261.0</td>\n",
       "      <td>30</td>\n",
       "      <td>3462.0</td>\n",
       "      <td></td>\n",
       "      <td>159156.0</td>\n",
       "      <td>48381.0</td>\n",
       "      <td>22350.0</td>\n",
       "      <td></td>\n",
       "      <td></td>\n",
       "    </tr>\n",
       "    <tr>\n",
       "      <th>f0545c488bd7ab7e775c25cfa7d050a3ff1f84dea9a3371b8fef236bd3d0624b</th>\n",
       "      <td>EIN_223134995_YEAR_2010_FORMTYPE_990.pdf</td>\n",
       "      <td>0.0</td>\n",
       "      <td></td>\n",
       "      <td>10823.0</td>\n",
       "      <td>3370595</td>\n",
       "      <td></td>\n",
       "      <td>12776.0</td>\n",
       "      <td>263765.0</td>\n",
       "      <td>148689.0</td>\n",
       "      <td>2250.0</td>\n",
       "      <td>...</td>\n",
       "      <td>197092.0</td>\n",
       "      <td></td>\n",
       "      <td>127381</td>\n",
       "      <td></td>\n",
       "      <td>396855.0</td>\n",
       "      <td>103312.0</td>\n",
       "      <td>11723.0</td>\n",
       "      <td>23021.0</td>\n",
       "      <td></td>\n",
       "      <td></td>\n",
       "    </tr>\n",
       "    <tr>\n",
       "      <th>4f2b05354be9fb6483976694a1ed0494c7c387631c15130bdaaa1a85a1cf4f82</th>\n",
       "      <td>EIN_264320885_YEAR_2009_FORMTYPE_990.pdf</td>\n",
       "      <td></td>\n",
       "      <td></td>\n",
       "      <td></td>\n",
       "      <td>46117</td>\n",
       "      <td></td>\n",
       "      <td></td>\n",
       "      <td>669.0</td>\n",
       "      <td></td>\n",
       "      <td></td>\n",
       "      <td>...</td>\n",
       "      <td></td>\n",
       "      <td></td>\n",
       "      <td></td>\n",
       "      <td></td>\n",
       "      <td></td>\n",
       "      <td></td>\n",
       "      <td>458.0</td>\n",
       "      <td></td>\n",
       "      <td></td>\n",
       "      <td></td>\n",
       "    </tr>\n",
       "    <tr>\n",
       "      <th>1dd5dc37f4e99e27668c769d04d0f72273a6c582d504bf0b88d35d5a4c15c1be</th>\n",
       "      <td>EIN_581943161_YEAR_2009_FORMTYPE_990.pdf</td>\n",
       "      <td>581.0</td>\n",
       "      <td></td>\n",
       "      <td>0.0</td>\n",
       "      <td>583209</td>\n",
       "      <td></td>\n",
       "      <td>2521.0</td>\n",
       "      <td>14409.0</td>\n",
       "      <td>298484.0</td>\n",
       "      <td></td>\n",
       "      <td>...</td>\n",
       "      <td>7233.0</td>\n",
       "      <td></td>\n",
       "      <td></td>\n",
       "      <td></td>\n",
       "      <td></td>\n",
       "      <td></td>\n",
       "      <td>4010.0</td>\n",
       "      <td>0.0</td>\n",
       "      <td></td>\n",
       "      <td></td>\n",
       "    </tr>\n",
       "  </tbody>\n",
       "</table>\n",
       "<p>5 rows × 23 columns</p>\n",
       "</div>"
      ],
      "text/plain": [
       "                                                                                     pdf_key  \\\n",
       "job_id                                                                                         \n",
       "0f908c03383d094f6c1386749189f281d188d5ea0cd64c4...  EIN_760733035_YEAR_2009_FORMTYPE_990.pdf   \n",
       "bcc635fa2b088a72666c3d534d0221a1c1294f2974a6a30...  EIN_363235550_YEAR_2009_FORMTYPE_990.pdf   \n",
       "f0545c488bd7ab7e775c25cfa7d050a3ff1f84dea9a3371...  EIN_223134995_YEAR_2010_FORMTYPE_990.pdf   \n",
       "4f2b05354be9fb6483976694a1ed0494c7c387631c15130...  EIN_264320885_YEAR_2009_FORMTYPE_990.pdf   \n",
       "1dd5dc37f4e99e27668c769d04d0f72273a6c582d504bf0...  EIN_581943161_YEAR_2009_FORMTYPE_990.pdf   \n",
       "\n",
       "                                                   other_expenses_c_mgmt_general  \\\n",
       "job_id                                                                             \n",
       "0f908c03383d094f6c1386749189f281d188d5ea0cd64c4...                                 \n",
       "bcc635fa2b088a72666c3d534d0221a1c1294f2974a6a30...                                 \n",
       "f0545c488bd7ab7e775c25cfa7d050a3ff1f84dea9a3371...                           0.0   \n",
       "4f2b05354be9fb6483976694a1ed0494c7c387631c15130...                                 \n",
       "1dd5dc37f4e99e27668c769d04d0f72273a6c582d504bf0...                         581.0   \n",
       "\n",
       "                                                   payments_affiliates_total  \\\n",
       "job_id                                                                         \n",
       "0f908c03383d094f6c1386749189f281d188d5ea0cd64c4...                             \n",
       "bcc635fa2b088a72666c3d534d0221a1c1294f2974a6a30...                             \n",
       "f0545c488bd7ab7e775c25cfa7d050a3ff1f84dea9a3371...                             \n",
       "4f2b05354be9fb6483976694a1ed0494c7c387631c15130...                             \n",
       "1dd5dc37f4e99e27668c769d04d0f72273a6c582d504bf0...                             \n",
       "\n",
       "                                                   other_expenses_d_prog_service  \\\n",
       "job_id                                                                             \n",
       "0f908c03383d094f6c1386749189f281d188d5ea0cd64c4...                       33000.0   \n",
       "bcc635fa2b088a72666c3d534d0221a1c1294f2974a6a30...                       15832.0   \n",
       "f0545c488bd7ab7e775c25cfa7d050a3ff1f84dea9a3371...                       10823.0   \n",
       "4f2b05354be9fb6483976694a1ed0494c7c387631c15130...                                 \n",
       "1dd5dc37f4e99e27668c769d04d0f72273a6c582d504bf0...                           0.0   \n",
       "\n",
       "                                                    total_revenue  \\\n",
       "job_id                                                              \n",
       "0f908c03383d094f6c1386749189f281d188d5ea0cd64c4...        1415024   \n",
       "bcc635fa2b088a72666c3d534d0221a1c1294f2974a6a30...        9899921   \n",
       "f0545c488bd7ab7e775c25cfa7d050a3ff1f84dea9a3371...        3370595   \n",
       "4f2b05354be9fb6483976694a1ed0494c7c387631c15130...          46117   \n",
       "1dd5dc37f4e99e27668c769d04d0f72273a6c582d504bf0...         583209   \n",
       "\n",
       "                                                   fees_for_lobbying_services_total  \\\n",
       "job_id                                                                                \n",
       "0f908c03383d094f6c1386749189f281d188d5ea0cd64c4...                                    \n",
       "bcc635fa2b088a72666c3d534d0221a1c1294f2974a6a30...                                    \n",
       "f0545c488bd7ab7e775c25cfa7d050a3ff1f84dea9a3371...                                    \n",
       "4f2b05354be9fb6483976694a1ed0494c7c387631c15130...                                    \n",
       "1dd5dc37f4e99e27668c769d04d0f72273a6c582d504bf0...                                    \n",
       "\n",
       "                                                   other_employee_benefits_fundraising  \\\n",
       "job_id                                                                                   \n",
       "0f908c03383d094f6c1386749189f281d188d5ea0cd64c4...                                       \n",
       "bcc635fa2b088a72666c3d534d0221a1c1294f2974a6a30...                             27161.0   \n",
       "f0545c488bd7ab7e775c25cfa7d050a3ff1f84dea9a3371...                             12776.0   \n",
       "4f2b05354be9fb6483976694a1ed0494c7c387631c15130...                                       \n",
       "1dd5dc37f4e99e27668c769d04d0f72273a6c582d504bf0...                              2521.0   \n",
       "\n",
       "                                                   total_fundraising_expenses  \\\n",
       "job_id                                                                          \n",
       "0f908c03383d094f6c1386749189f281d188d5ea0cd64c4...                     4503.0   \n",
       "bcc635fa2b088a72666c3d534d0221a1c1294f2974a6a30...                   597789.0   \n",
       "f0545c488bd7ab7e775c25cfa7d050a3ff1f84dea9a3371...                   263765.0   \n",
       "4f2b05354be9fb6483976694a1ed0494c7c387631c15130...                      669.0   \n",
       "1dd5dc37f4e99e27668c769d04d0f72273a6c582d504bf0...                    14409.0   \n",
       "\n",
       "                                                   compensation_officers_prog_service  \\\n",
       "job_id                                                                                  \n",
       "0f908c03383d094f6c1386749189f281d188d5ea0cd64c4...                                      \n",
       "bcc635fa2b088a72666c3d534d0221a1c1294f2974a6a30...                           295722.0   \n",
       "f0545c488bd7ab7e775c25cfa7d050a3ff1f84dea9a3371...                           148689.0   \n",
       "4f2b05354be9fb6483976694a1ed0494c7c387631c15130...                                      \n",
       "1dd5dc37f4e99e27668c769d04d0f72273a6c582d504bf0...                           298484.0   \n",
       "\n",
       "                                                   fees_for_mgmt_services_total  \\\n",
       "job_id                                                                            \n",
       "0f908c03383d094f6c1386749189f281d188d5ea0cd64c4...                                \n",
       "bcc635fa2b088a72666c3d534d0221a1c1294f2974a6a30...                                \n",
       "f0545c488bd7ab7e775c25cfa7d050a3ff1f84dea9a3371...                       2250.0   \n",
       "4f2b05354be9fb6483976694a1ed0494c7c387631c15130...                                \n",
       "1dd5dc37f4e99e27668c769d04d0f72273a6c582d504bf0...                                \n",
       "\n",
       "                                                    ... travel_total  \\\n",
       "job_id                                              ...                \n",
       "0f908c03383d094f6c1386749189f281d188d5ea0cd64c4...  ...      18307.0   \n",
       "bcc635fa2b088a72666c3d534d0221a1c1294f2974a6a30...  ...     677722.0   \n",
       "f0545c488bd7ab7e775c25cfa7d050a3ff1f84dea9a3371...  ...     197092.0   \n",
       "4f2b05354be9fb6483976694a1ed0494c7c387631c15130...  ...                \n",
       "1dd5dc37f4e99e27668c769d04d0f72273a6c582d504bf0...  ...       7233.0   \n",
       "\n",
       "                                                   pension_plan_acc_contrib_prog_service  \\\n",
       "job_id                                                                                     \n",
       "0f908c03383d094f6c1386749189f281d188d5ea0cd64c4...                                         \n",
       "bcc635fa2b088a72666c3d534d0221a1c1294f2974a6a30...                               34261.0   \n",
       "f0545c488bd7ab7e775c25cfa7d050a3ff1f84dea9a3371...                                         \n",
       "4f2b05354be9fb6483976694a1ed0494c7c387631c15130...                                         \n",
       "1dd5dc37f4e99e27668c769d04d0f72273a6c582d504bf0...                                         \n",
       "\n",
       "                                                   advertising_promotion_mgmt_general  \\\n",
       "job_id                                                                                  \n",
       "0f908c03383d094f6c1386749189f281d188d5ea0cd64c4...                                      \n",
       "bcc635fa2b088a72666c3d534d0221a1c1294f2974a6a30...                                 30   \n",
       "f0545c488bd7ab7e775c25cfa7d050a3ff1f84dea9a3371...                             127381   \n",
       "4f2b05354be9fb6483976694a1ed0494c7c387631c15130...                                      \n",
       "1dd5dc37f4e99e27668c769d04d0f72273a6c582d504bf0...                                      \n",
       "\n",
       "                                                   pension_plan_acc_contrib_mgmt_general  \\\n",
       "job_id                                                                                     \n",
       "0f908c03383d094f6c1386749189f281d188d5ea0cd64c4...                                         \n",
       "bcc635fa2b088a72666c3d534d0221a1c1294f2974a6a30...                                3462.0   \n",
       "f0545c488bd7ab7e775c25cfa7d050a3ff1f84dea9a3371...                                         \n",
       "4f2b05354be9fb6483976694a1ed0494c7c387631c15130...                                         \n",
       "1dd5dc37f4e99e27668c769d04d0f72273a6c582d504bf0...                                         \n",
       "\n",
       "                                                   compensation_disq_persons_total  \\\n",
       "job_id                                                                               \n",
       "0f908c03383d094f6c1386749189f281d188d5ea0cd64c4...                                   \n",
       "bcc635fa2b088a72666c3d534d0221a1c1294f2974a6a30...                                   \n",
       "f0545c488bd7ab7e775c25cfa7d050a3ff1f84dea9a3371...                        396855.0   \n",
       "4f2b05354be9fb6483976694a1ed0494c7c387631c15130...                                   \n",
       "1dd5dc37f4e99e27668c769d04d0f72273a6c582d504bf0...                                   \n",
       "\n",
       "                                                   other_salaries_wages_mgmt_general  \\\n",
       "job_id                                                                                 \n",
       "0f908c03383d094f6c1386749189f281d188d5ea0cd64c4...                                     \n",
       "bcc635fa2b088a72666c3d534d0221a1c1294f2974a6a30...                          159156.0   \n",
       "f0545c488bd7ab7e775c25cfa7d050a3ff1f84dea9a3371...                          103312.0   \n",
       "4f2b05354be9fb6483976694a1ed0494c7c387631c15130...                                     \n",
       "1dd5dc37f4e99e27668c769d04d0f72273a6c582d504bf0...                                     \n",
       "\n",
       "                                                   office_expenses_mgmt_general  \\\n",
       "job_id                                                                            \n",
       "0f908c03383d094f6c1386749189f281d188d5ea0cd64c4...                                \n",
       "bcc635fa2b088a72666c3d534d0221a1c1294f2974a6a30...                      48381.0   \n",
       "f0545c488bd7ab7e775c25cfa7d050a3ff1f84dea9a3371...                      11723.0   \n",
       "4f2b05354be9fb6483976694a1ed0494c7c387631c15130...                        458.0   \n",
       "1dd5dc37f4e99e27668c769d04d0f72273a6c582d504bf0...                       4010.0   \n",
       "\n",
       "                                                   fees_for_other_services_fundraising  \\\n",
       "job_id                                                                                   \n",
       "0f908c03383d094f6c1386749189f281d188d5ea0cd64c4...                                       \n",
       "bcc635fa2b088a72666c3d534d0221a1c1294f2974a6a30...                             22350.0   \n",
       "f0545c488bd7ab7e775c25cfa7d050a3ff1f84dea9a3371...                             23021.0   \n",
       "4f2b05354be9fb6483976694a1ed0494c7c387631c15130...                                       \n",
       "1dd5dc37f4e99e27668c769d04d0f72273a6c582d504bf0...                                 0.0   \n",
       "\n",
       "                                                   total_number_other_recipient_foreign_orgs_entities  \\\n",
       "job_id                                                                                                  \n",
       "0f908c03383d094f6c1386749189f281d188d5ea0cd64c4...                                                      \n",
       "bcc635fa2b088a72666c3d534d0221a1c1294f2974a6a30...                                                      \n",
       "f0545c488bd7ab7e775c25cfa7d050a3ff1f84dea9a3371...                                                      \n",
       "4f2b05354be9fb6483976694a1ed0494c7c387631c15130...                                                      \n",
       "1dd5dc37f4e99e27668c769d04d0f72273a6c582d504bf0...                                                      \n",
       "\n",
       "                                                   activities_per_region_totals_total_expenditure  \n",
       "job_id                                                                                             \n",
       "0f908c03383d094f6c1386749189f281d188d5ea0cd64c4...                                                 \n",
       "bcc635fa2b088a72666c3d534d0221a1c1294f2974a6a30...                                                 \n",
       "f0545c488bd7ab7e775c25cfa7d050a3ff1f84dea9a3371...                                                 \n",
       "4f2b05354be9fb6483976694a1ed0494c7c387631c15130...                                                 \n",
       "1dd5dc37f4e99e27668c769d04d0f72273a6c582d504bf0...                                                 \n",
       "\n",
       "[5 rows x 23 columns]"
      ]
     },
     "execution_count": 3,
     "metadata": {},
     "output_type": "execute_result"
    }
   ],
   "source": [
    "validation_data = pd.read_csv(\"validation_data.csv\", index_col=\"job_id\").fillna(\"\")\n",
    "validation_data.head()"
   ]
  },
  {
   "cell_type": "code",
   "execution_count": 4,
   "id": "4da6923a",
   "metadata": {},
   "outputs": [],
   "source": [
    "extractor_df = load_extractor_df(\"990_extractors.csv\")\n",
    "roadmap_df = load_extractor_df(\"990_roadmap.csv\")\n",
    "schedule_f_tablemap_df = load_extractor_df(\"schedule_f_table_roadmap.csv\")\n",
    "schedule_f_table_extractor_df = pd.read_csv(\"schedule_f_table_extractors.csv\")\n",
    "schedule_f_row_extractor_df = pd.read_csv(\"schedule_f_row_extractors.csv\")"
   ]
  },
  {
   "cell_type": "code",
   "execution_count": 5,
   "id": "e87e1a8f",
   "metadata": {},
   "outputs": [],
   "source": [
    "PART_I_HEADER = r\"\\(a\\)\\s*Region|\\(d\\)\\s*Activities|\\(e\\)\\s*If activity|\\(f\\)Total expenditures\"\n",
    "PART_II_HEADER = r\"\\(b\\)\\s*IRS code|\\(c\\)\\s*Region|\\(d\\)\\s*Purpose|\\(f\\)\\s*Manner|\\(h\\)\\s*Description\"\n",
    "PART_III_HEADER = r\"\\(b\\)\\s*Region|\\(e\\)\\s*Manner of cash|\\(h\\)\\s*Method of va\"\n",
    "PART_I_TABLE_NAME = r\"Activities per Region\"\n",
    "PART_II_TABLE_NAME = r\"Grants to Organizations Outside the United States\"\n",
    "PART_III_TABLE_NAME = r\"Grants to Individuals Outside the United States\""
   ]
  },
  {
   "cell_type": "code",
   "execution_count": 6,
   "id": "de001784",
   "metadata": {
    "scrolled": false
   },
   "outputs": [
    {
     "name": "stdout",
     "output_type": "stream",
     "text": [
      "0\n",
      "0f908c03383d094f6c1386749189f281d188d5ea0cd64c4e424a5b1aae1650c4\n",
      "EIN_760733035_YEAR_2009_FORMTYPE_990.pdf\n"
     ]
    },
    {
     "name": "stderr",
     "output_type": "stream",
     "text": [
      "No match for year_formation in L Year of Formation M State of legal domicile\n",
      "No match for state_of_domicile in M State of legal domicile\n"
     ]
    },
    {
     "name": "stdout",
     "output_type": "stream",
     "text": [
      "1\n",
      "bcc635fa2b088a72666c3d534d0221a1c1294f2974a6a304679654069e5cbcdc\n",
      "EIN_363235550_YEAR_2009_FORMTYPE_990.pdf\n"
     ]
    },
    {
     "name": "stderr",
     "output_type": "stream",
     "text": [
      "No match for total_unrelated_biz_revenue in 7a NONE\n",
      "No match for net_unrelated_biz_taxable_revenue in 7b NONE\n",
      "No match for benefits_paid_members_expenses in NONE\n",
      "No match for professional_fundraising_fees_expenses in NONE\n",
      "No match for grants_foreign_individuals_govt_orgs_total in NONE\n",
      "No match for benefits_to_members_total in NONE\n",
      "No match for compensation_disq_persons_total in NONE\n",
      "No match for fees_for_mgmt_services_total in NONE\n",
      "No match for fees_for_lobbying_services_total in NONE\n",
      "No match for fees_for_fundraising_services_total in NONE\n",
      "No match for fees_for_investment_mgmt_services_total in NONE\n",
      "No match for royalties_total in NONE\n",
      "No match for entertainment_travel_govt_officials_total in NONE\n",
      "No match for interest_total in NONE\n",
      "No match for payments_affiliates_total in NONE\n"
     ]
    },
    {
     "name": "stdout",
     "output_type": "stream",
     "text": [
      "2\n",
      "f0545c488bd7ab7e775c25cfa7d050a3ff1f84dea9a3371b8fef236bd3d0624b\n",
      "EIN_223134995_YEAR_2010_FORMTYPE_990.pdf\n",
      "3\n",
      "4f2b05354be9fb6483976694a1ed0494c7c387631c15130bdaaa1a85a1cf4f82\n",
      "EIN_264320885_YEAR_2009_FORMTYPE_990.pdf\n",
      "4\n",
      "1dd5dc37f4e99e27668c769d04d0f72273a6c582d504bf0b88d35d5a4c15c1be\n",
      "EIN_581943161_YEAR_2009_FORMTYPE_990.pdf\n",
      "5\n",
      "5596f51a999ebbd4cb992f490ceaffcddbac9bce532b911997683ae6897c2797\n",
      "EIN_231352689_YEAR_2009_FORMTYPE_990.pdf\n",
      "6\n",
      "481a62c75776cc7f62075c1d60c230ea01f2dbc5b6224c65cb73db1728e86b00\n",
      "EIN_954806856_YEAR_2009_FORMTYPE_990.pdf\n",
      "7\n",
      "39d270117e4b6354850551c8237421403da7d2b3f5d06657a28f5a9d07febf17\n",
      "EIN_521238301_YEAR_2010_FORMTYPE_990.pdf\n"
     ]
    },
    {
     "name": "stderr",
     "output_type": "stream",
     "text": [
      "No match for address in Name of organization AMERICAN LIFE LEAGUE, INC. Doing Business As Number and street (or PO box if mail is not delivered to street addr) Room/suite PO BOX 1350 City, town or country State ZIP code + 4 STAFFORD VA 22555\n",
      "No match for net_unrelated_biz_taxable_revenue in 7b\n",
      "No match for grants_us_govt_orgs_mgmt_and_general in expenses\n",
      "No match for grants_us_govt_orgs_fundraising in expenses\n",
      "No match for total_number_recipient_foreign_orgs_listed_as_charities in which for or\n",
      "<class 'KeyError'>: '(i) Method'\n",
      "<class 'KeyError'>: '(c) Number of recipients'\n"
     ]
    },
    {
     "name": "stdout",
     "output_type": "stream",
     "text": [
      "8\n",
      "9a69ea9d5c8d5397603dbb77d027f4ff4ef9dcdc6609b7a1657f9484529353a0\n",
      "EIN_521703065_YEAR_2010_FORMTYPE_990.pdf\n",
      "9\n",
      "3b9cc21f73f11bef5f2e4c15859661f7f7c9adee8dd6a1f2301099834fdb2926\n",
      "EIN_611190087_YEAR_2008_FORMTYPE_990.pdf\n"
     ]
    },
    {
     "name": "stderr",
     "output_type": "stream",
     "text": [
      "No match for mission in 1 Briefly describe the organization's mission o most significant activities\n"
     ]
    },
    {
     "name": "stdout",
     "output_type": "stream",
     "text": [
      "10\n",
      "82588f1ce9ca8cec2fc6b55ec07361b821be6650d1c01db4b9c948b8bf12689f\n",
      "EIN_113489123_YEAR_2008_FORMTYPE_990.pdf\n"
     ]
    },
    {
     "name": "stderr",
     "output_type": "stream",
     "text": [
      "No match for website in J Website: H(c)\n",
      "No match for gross_receipts in G Gross receipts $\n",
      "No match for year_formation in L Year of formation. M State of legal domicile:\n",
      "No match for state_of_domicile in M State of legal domicile:\n",
      "No match for total_unrelated_biz_revenue in 7a\n",
      "No match for net_unrelated_biz_taxable_revenue in 7b\n",
      "No match for total_fundraising_expenses in b Total fundraising expenses (Part IX, column (D), line 25)\n"
     ]
    },
    {
     "name": "stdout",
     "output_type": "stream",
     "text": [
      "11\n",
      "f303b69e79844240beccf4fc5b3cecaa3a4f3024a955b2f4a49dd0a81b456649\n",
      "EIN_582248383_YEAR_2009_FORMTYPE_990.pdf\n",
      "12\n",
      "a2061356d7999388cbd49b79872883c92ce6c81a7e7820788f92db496cedd620\n",
      "EIN_630329409_YEAR_2009_FORMTYPE_990.pdf\n"
     ]
    },
    {
     "name": "stderr",
     "output_type": "stream",
     "text": [
      "No match for website in J Web site: www faulkneredu\n"
     ]
    },
    {
     "name": "stdout",
     "output_type": "stream",
     "text": [
      "13\n",
      "6e417b42fc15148e0489456f5086bbac28a8361d3452a0ddc23314afee5b6313\n",
      "EIN_620988294_YEAR_2010_FORMTYPE_990.pdf\n",
      "14\n",
      "e56d65e73cec9532561c42db4f4dc64c5b968441b4d492444292a9daf3921044\n",
      "EIN_581954432_YEAR_2010_FORMTYPE_990.pdf\n",
      "15\n",
      "68a8d4678de1d3107eff3ae0bfa1acdd6a9787a173b49c1b9e3dfbad7de5b452\n",
      "EIN_474865647_YEAR_2020_FORMTYPE_990.pdf\n"
     ]
    },
    {
     "name": "stderr",
     "output_type": "stream",
     "text": [
      "<class 'KeyError'>: '(c) Number of recipients'\n"
     ]
    },
    {
     "name": "stdout",
     "output_type": "stream",
     "text": [
      "16\n",
      "cd689dd466e417d074b1bde48b0928cc4ae08d6cca44be9d15f288fe13adb578\n",
      "EIN_472208314_YEAR_2020_FORMTYPE_990.pdf\n",
      "17\n",
      "2ef32905e24a7a69d5bb4e4ac22448b279cbe84df831d57b17daa69df0219dfd\n",
      "EIN_262414132_YEAR_2009_FORMTYPE_990.pdf\n",
      "18\n",
      "b71782c8204cadf98ef57d1e9a6968d35368fc940dede7bc85dff661df77a27e\n",
      "EIN_411601449_YEAR_2010_FORMTYPE_990.pdf\n"
     ]
    },
    {
     "name": "stderr",
     "output_type": "stream",
     "text": [
      "No match for activities_per_region_totals_number_of_offices in O\n"
     ]
    },
    {
     "name": "stdout",
     "output_type": "stream",
     "text": [
      "19\n",
      "aefc7b65c34db330d8d9f56a1226e116b63ee9be7dbdd4ae4c7bea5d87359f97\n",
      "EIN_362428692_YEAR_2009_FORMTYPE_990.pdf\n",
      "20\n",
      "a5a3cbfcf844be8862bbb61ad46d4c795891ab1143e420db5ed99fc79eeb66c9\n",
      "EIN_271377148_YEAR_2016_FORMTYPE_990.pdf\n",
      "21\n",
      "67217e04d83f69ffbbb461b0a23648b037b4a36d0c5ebdb32d3186b19d6a6fd5\n",
      "EIN_42103580_YEAR_2010_FORMTYPE_990.pdf\n",
      "22\n",
      "a6529e504df346097da99104a353e977426e018cd5ac33b62cd2dd89c90763c5\n",
      "EIN_311002913_YEAR_2008_FORMTYPE_990.pdf\n",
      "23\n",
      "d1925c2d74adaa3f150ded3ce67dfe7ae3a306f0db0289ad5755a28d801b2b0b\n",
      "EIN_202408857_YEAR_2010_FORMTYPE_990.pdf\n"
     ]
    },
    {
     "name": "stderr",
     "output_type": "stream",
     "text": [
      "No match for activities_per_region_totals_number_of_offices in Act the\n"
     ]
    },
    {
     "name": "stdout",
     "output_type": "stream",
     "text": [
      "24\n",
      "01d89ee5d14575c1321b2e4d67431d172ba76212b4a266bdaf474275029fd78b\n",
      "EIN_521830327_YEAR_2009_FORMTYPE_990.pdf\n"
     ]
    },
    {
     "name": "stderr",
     "output_type": "stream",
     "text": [
      "No match for total_fundraising_expenses in b Total fundraising expenses (Part IX, column (D), line 25)\n",
      "No match for revenue_less_expenses in <43,775.> End of Year\n"
     ]
    }
   ],
   "source": [
    "filing_rows = []\n",
    "schedule_f_part_i_rows = []\n",
    "schedule_f_part_ii_rows = []\n",
    "schedule_f_part_iii_rows = []\n",
    "\n",
    "\n",
    "for i, job_id in enumerate(validation_data.index.values):\n",
    "    print(i)\n",
    "    print(job_id)\n",
    "    pdf_key = validation_data.at[job_id, \"pdf_key\"]\n",
    "    print(pdf_key)\n",
    "    \n",
    "    data = open_df(bucket, job_id)\n",
    "    lines = data.loc[data[\"BlockType\"] == \"LINE\"]\n",
    "    words = data.loc[data[\"BlockType\"] == \"WORD\"]\n",
    "    page_map = find_pages(lines)\n",
    "    roadmap = create_roadmap(\n",
    "        lines, roadmap_df, page_map\n",
    "    )\n",
    "    \n",
    "    row = extract_from_roadmap(\n",
    "        words, lines, roadmap, extractor_df, page_map\n",
    "    )\n",
    "    row = postprocess(row, job_id, pdf_key, clean_filing)\n",
    "    filing_rows.append(row)\n",
    "    \n",
    "    pages = lines.groupby(\"Page\")\n",
    "    \n",
    "    part_i_table = extract_table_data(\n",
    "        pages, lines, words, PART_I_HEADER, PART_I_TABLE_NAME, \n",
    "        schedule_f_tablemap_df, schedule_f_table_extractor_df, schedule_f_row_extractor_df,\n",
    "    )\n",
    "    part_i_table = postprocess(part_i_table, job_id, pdf_key, clean_f_i)\n",
    "    if part_i_table is not None:\n",
    "        schedule_f_part_i_rows.append(\n",
    "            part_i_table\n",
    "        )\n",
    "    part_ii_table = extract_table_data(\n",
    "        pages, lines, words, PART_II_HEADER, PART_II_TABLE_NAME, \n",
    "        schedule_f_tablemap_df, schedule_f_table_extractor_df, schedule_f_row_extractor_df,\n",
    "    )\n",
    "    part_ii_table = postprocess(part_ii_table, job_id, pdf_key, clean_f_ii)\n",
    "    if part_ii_table is not None:\n",
    "        schedule_f_part_ii_rows.append(\n",
    "            part_ii_table\n",
    "        )\n",
    "    part_iii_table = extract_table_data(\n",
    "        pages, lines, words, PART_III_HEADER, PART_III_TABLE_NAME, \n",
    "        schedule_f_tablemap_df, schedule_f_table_extractor_df, schedule_f_row_extractor_df,\n",
    "    )\n",
    "    part_iii_table = postprocess(part_iii_table, job_id, pdf_key, clean_f_iii)\n",
    "    if part_iii_table is not None:\n",
    "        schedule_f_part_iii_rows.append(\n",
    "            part_iii_table\n",
    "        )"
   ]
  },
  {
   "cell_type": "code",
   "execution_count": 7,
   "id": "619b3527",
   "metadata": {
    "scrolled": false
   },
   "outputs": [],
   "source": [
    "output_data = pd.concat(filing_rows).reset_index(drop=True).set_index(\"job_id\")"
   ]
  },
  {
   "cell_type": "code",
   "execution_count": 8,
   "id": "ae9d25d4",
   "metadata": {},
   "outputs": [
    {
     "data": {
      "text/html": [
       "<div>\n",
       "<style scoped>\n",
       "    .dataframe tbody tr th:only-of-type {\n",
       "        vertical-align: middle;\n",
       "    }\n",
       "\n",
       "    .dataframe tbody tr th {\n",
       "        vertical-align: top;\n",
       "    }\n",
       "\n",
       "    .dataframe thead th {\n",
       "        text-align: right;\n",
       "    }\n",
       "</style>\n",
       "<table border=\"1\" class=\"dataframe\">\n",
       "  <thead>\n",
       "    <tr style=\"text-align: right;\">\n",
       "      <th>field_name</th>\n",
       "      <th>name</th>\n",
       "      <th>address</th>\n",
       "      <th>city</th>\n",
       "      <th>state</th>\n",
       "      <th>zip</th>\n",
       "      <th>website</th>\n",
       "      <th>gross_receipts</th>\n",
       "      <th>year_formation</th>\n",
       "      <th>state_of_domicile</th>\n",
       "      <th>mission</th>\n",
       "      <th>...</th>\n",
       "      <th>total_functional_expense_fundraising</th>\n",
       "      <th>activities_per_region_totals_number_of_offices</th>\n",
       "      <th>activities_per_region_totals_number_of_employees</th>\n",
       "      <th>activities_per_region_totals_total_expenditure</th>\n",
       "      <th>total_number_recipient_foreign_orgs_listed_as_charities</th>\n",
       "      <th>total_number_other_recipient_foreign_orgs_entities</th>\n",
       "      <th>pdf_key</th>\n",
       "      <th>ein</th>\n",
       "      <th>year</th>\n",
       "      <th>filing_id</th>\n",
       "    </tr>\n",
       "    <tr>\n",
       "      <th>job_id</th>\n",
       "      <th></th>\n",
       "      <th></th>\n",
       "      <th></th>\n",
       "      <th></th>\n",
       "      <th></th>\n",
       "      <th></th>\n",
       "      <th></th>\n",
       "      <th></th>\n",
       "      <th></th>\n",
       "      <th></th>\n",
       "      <th></th>\n",
       "      <th></th>\n",
       "      <th></th>\n",
       "      <th></th>\n",
       "      <th></th>\n",
       "      <th></th>\n",
       "      <th></th>\n",
       "      <th></th>\n",
       "      <th></th>\n",
       "      <th></th>\n",
       "      <th></th>\n",
       "    </tr>\n",
       "  </thead>\n",
       "  <tbody>\n",
       "    <tr>\n",
       "      <th>0f908c03383d094f6c1386749189f281d188d5ea0cd64c4e424a5b1aae1650c4</th>\n",
       "      <td>MAKE WAY PARTNERS INC</td>\n",
       "      <td>PO BOX 26367</td>\n",
       "      <td>BIRMINGHAM</td>\n",
       "      <td>OX</td>\n",
       "      <td>26367</td>\n",
       "      <td>www MAKEWAYPARTNERS ORG</td>\n",
       "      <td>1426217</td>\n",
       "      <td></td>\n",
       "      <td></td>\n",
       "      <td>EVANGELICAL MISSIOI WORK TO PREVENT AND COMBAT...</td>\n",
       "      <td>...</td>\n",
       "      <td>4503</td>\n",
       "      <td></td>\n",
       "      <td></td>\n",
       "      <td></td>\n",
       "      <td></td>\n",
       "      <td></td>\n",
       "      <td>EIN_760733035_YEAR_2009_FORMTYPE_990.pdf</td>\n",
       "      <td>760733035</td>\n",
       "      <td>2009</td>\n",
       "      <td>760733035_2009</td>\n",
       "    </tr>\n",
       "    <tr>\n",
       "      <th>bcc635fa2b088a72666c3d534d0221a1c1294f2974a6a304679654069e5cbcdc</th>\n",
       "      <td>THE FEDERALIST SOCIETY FOR LAW AND</td>\n",
       "      <td>1015 18TH ST., N.W. 425</td>\n",
       "      <td>WASHINGTON</td>\n",
       "      <td>DC</td>\n",
       "      <td>20036</td>\n",
       "      <td>www. FED-SOC.ORG</td>\n",
       "      <td>11033302</td>\n",
       "      <td>1982</td>\n",
       "      <td>IL</td>\n",
       "      <td>THE ORGANIZATION'S MISSION IS TO PROMOTE INTEL...</td>\n",
       "      <td>...</td>\n",
       "      <td>597789</td>\n",
       "      <td></td>\n",
       "      <td></td>\n",
       "      <td></td>\n",
       "      <td></td>\n",
       "      <td></td>\n",
       "      <td>EIN_363235550_YEAR_2009_FORMTYPE_990.pdf</td>\n",
       "      <td>363235550</td>\n",
       "      <td>2009</td>\n",
       "      <td>363235550_2009</td>\n",
       "    </tr>\n",
       "    <tr>\n",
       "      <th>f0545c488bd7ab7e775c25cfa7d050a3ff1f84dea9a3371b8fef236bd3d0624b</th>\n",
       "      <td>Ron Hutchcraft Ministries Inc</td>\n",
       "      <td>PO Box 400</td>\n",
       "      <td>Harnson</td>\n",
       "      <td>AR</td>\n",
       "      <td>20400</td>\n",
       "      <td>www hutchcraft com</td>\n",
       "      <td>3390</td>\n",
       "      <td>1991</td>\n",
       "      <td>NJ</td>\n",
       "      <td>To communicate Christ to the lost in their lan...</td>\n",
       "      <td>...</td>\n",
       "      <td>263765</td>\n",
       "      <td></td>\n",
       "      <td></td>\n",
       "      <td></td>\n",
       "      <td></td>\n",
       "      <td></td>\n",
       "      <td>EIN_223134995_YEAR_2010_FORMTYPE_990.pdf</td>\n",
       "      <td>223134995</td>\n",
       "      <td>2010</td>\n",
       "      <td>223134995_2010</td>\n",
       "    </tr>\n",
       "    <tr>\n",
       "      <th>4f2b05354be9fb6483976694a1ed0494c7c387631c15130bdaaa1a85a1cf4f82</th>\n",
       "      <td>FREEDOM 4 24</td>\n",
       "      <td>21430 TIMBERLAKE ROAD STE 101</td>\n",
       "      <td>LYNCHBURG</td>\n",
       "      <td>VA</td>\n",
       "      <td>24502</td>\n",
       "      <td>freedom424 org</td>\n",
       "      <td>61857</td>\n",
       "      <td>2009</td>\n",
       "      <td>VA</td>\n",
       "      <td>Freedom 424s mission is to provide a pathway t...</td>\n",
       "      <td>...</td>\n",
       "      <td>669</td>\n",
       "      <td></td>\n",
       "      <td></td>\n",
       "      <td></td>\n",
       "      <td></td>\n",
       "      <td></td>\n",
       "      <td>EIN_264320885_YEAR_2009_FORMTYPE_990.pdf</td>\n",
       "      <td>264320885</td>\n",
       "      <td>2009</td>\n",
       "      <td>264320885_2009</td>\n",
       "    </tr>\n",
       "    <tr>\n",
       "      <th>1dd5dc37f4e99e27668c769d04d0f72273a6c582d504bf0b88d35d5a4c15c1be</th>\n",
       "      <td>GEORGIA PUBLIC POLICY FOUNDTION</td>\n",
       "      <td>6100 LAKE FORREST DR</td>\n",
       "      <td>LAKE FORREST</td>\n",
       "      <td>GA</td>\n",
       "      <td>30328</td>\n",
       "      <td>www GPPF org</td>\n",
       "      <td>583209</td>\n",
       "      <td>1991</td>\n",
       "      <td>GA</td>\n",
       "      <td>To further goals of economic growth &amp; individu...</td>\n",
       "      <td>...</td>\n",
       "      <td>14409</td>\n",
       "      <td></td>\n",
       "      <td></td>\n",
       "      <td></td>\n",
       "      <td></td>\n",
       "      <td></td>\n",
       "      <td>EIN_581943161_YEAR_2009_FORMTYPE_990.pdf</td>\n",
       "      <td>581943161</td>\n",
       "      <td>2009</td>\n",
       "      <td>581943161_2009</td>\n",
       "    </tr>\n",
       "  </tbody>\n",
       "</table>\n",
       "<p>5 rows × 185 columns</p>\n",
       "</div>"
      ],
      "text/plain": [
       "field_name                                                                        name  \\\n",
       "job_id                                                                                   \n",
       "0f908c03383d094f6c1386749189f281d188d5ea0cd64c4...               MAKE WAY PARTNERS INC   \n",
       "bcc635fa2b088a72666c3d534d0221a1c1294f2974a6a30...  THE FEDERALIST SOCIETY FOR LAW AND   \n",
       "f0545c488bd7ab7e775c25cfa7d050a3ff1f84dea9a3371...       Ron Hutchcraft Ministries Inc   \n",
       "4f2b05354be9fb6483976694a1ed0494c7c387631c15130...                        FREEDOM 4 24   \n",
       "1dd5dc37f4e99e27668c769d04d0f72273a6c582d504bf0...     GEORGIA PUBLIC POLICY FOUNDTION   \n",
       "\n",
       "field_name                                                                address  \\\n",
       "job_id                                                                              \n",
       "0f908c03383d094f6c1386749189f281d188d5ea0cd64c4...                   PO BOX 26367   \n",
       "bcc635fa2b088a72666c3d534d0221a1c1294f2974a6a30...        1015 18TH ST., N.W. 425   \n",
       "f0545c488bd7ab7e775c25cfa7d050a3ff1f84dea9a3371...                     PO Box 400   \n",
       "4f2b05354be9fb6483976694a1ed0494c7c387631c15130...  21430 TIMBERLAKE ROAD STE 101   \n",
       "1dd5dc37f4e99e27668c769d04d0f72273a6c582d504bf0...           6100 LAKE FORREST DR   \n",
       "\n",
       "field_name                                                  city state    zip  \\\n",
       "job_id                                                                          \n",
       "0f908c03383d094f6c1386749189f281d188d5ea0cd64c4...    BIRMINGHAM    OX  26367   \n",
       "bcc635fa2b088a72666c3d534d0221a1c1294f2974a6a30...    WASHINGTON    DC  20036   \n",
       "f0545c488bd7ab7e775c25cfa7d050a3ff1f84dea9a3371...       Harnson    AR  20400   \n",
       "4f2b05354be9fb6483976694a1ed0494c7c387631c15130...     LYNCHBURG    VA  24502   \n",
       "1dd5dc37f4e99e27668c769d04d0f72273a6c582d504bf0...  LAKE FORREST    GA  30328   \n",
       "\n",
       "field_name                                                          website  \\\n",
       "job_id                                                                        \n",
       "0f908c03383d094f6c1386749189f281d188d5ea0cd64c4...  www MAKEWAYPARTNERS ORG   \n",
       "bcc635fa2b088a72666c3d534d0221a1c1294f2974a6a30...         www. FED-SOC.ORG   \n",
       "f0545c488bd7ab7e775c25cfa7d050a3ff1f84dea9a3371...       www hutchcraft com   \n",
       "4f2b05354be9fb6483976694a1ed0494c7c387631c15130...           freedom424 org   \n",
       "1dd5dc37f4e99e27668c769d04d0f72273a6c582d504bf0...             www GPPF org   \n",
       "\n",
       "field_name                                         gross_receipts  \\\n",
       "job_id                                                              \n",
       "0f908c03383d094f6c1386749189f281d188d5ea0cd64c4...        1426217   \n",
       "bcc635fa2b088a72666c3d534d0221a1c1294f2974a6a30...       11033302   \n",
       "f0545c488bd7ab7e775c25cfa7d050a3ff1f84dea9a3371...           3390   \n",
       "4f2b05354be9fb6483976694a1ed0494c7c387631c15130...          61857   \n",
       "1dd5dc37f4e99e27668c769d04d0f72273a6c582d504bf0...         583209   \n",
       "\n",
       "field_name                                         year_formation  \\\n",
       "job_id                                                              \n",
       "0f908c03383d094f6c1386749189f281d188d5ea0cd64c4...                  \n",
       "bcc635fa2b088a72666c3d534d0221a1c1294f2974a6a30...           1982   \n",
       "f0545c488bd7ab7e775c25cfa7d050a3ff1f84dea9a3371...           1991   \n",
       "4f2b05354be9fb6483976694a1ed0494c7c387631c15130...           2009   \n",
       "1dd5dc37f4e99e27668c769d04d0f72273a6c582d504bf0...           1991   \n",
       "\n",
       "field_name                                         state_of_domicile  \\\n",
       "job_id                                                                 \n",
       "0f908c03383d094f6c1386749189f281d188d5ea0cd64c4...                     \n",
       "bcc635fa2b088a72666c3d534d0221a1c1294f2974a6a30...                IL   \n",
       "f0545c488bd7ab7e775c25cfa7d050a3ff1f84dea9a3371...                NJ   \n",
       "4f2b05354be9fb6483976694a1ed0494c7c387631c15130...                VA   \n",
       "1dd5dc37f4e99e27668c769d04d0f72273a6c582d504bf0...                GA   \n",
       "\n",
       "field_name                                                                                    mission  \\\n",
       "job_id                                                                                                  \n",
       "0f908c03383d094f6c1386749189f281d188d5ea0cd64c4...  EVANGELICAL MISSIOI WORK TO PREVENT AND COMBAT...   \n",
       "bcc635fa2b088a72666c3d534d0221a1c1294f2974a6a30...  THE ORGANIZATION'S MISSION IS TO PROMOTE INTEL...   \n",
       "f0545c488bd7ab7e775c25cfa7d050a3ff1f84dea9a3371...  To communicate Christ to the lost in their lan...   \n",
       "4f2b05354be9fb6483976694a1ed0494c7c387631c15130...  Freedom 424s mission is to provide a pathway t...   \n",
       "1dd5dc37f4e99e27668c769d04d0f72273a6c582d504bf0...  To further goals of economic growth & individu...   \n",
       "\n",
       "field_name                                          ...  \\\n",
       "job_id                                              ...   \n",
       "0f908c03383d094f6c1386749189f281d188d5ea0cd64c4...  ...   \n",
       "bcc635fa2b088a72666c3d534d0221a1c1294f2974a6a30...  ...   \n",
       "f0545c488bd7ab7e775c25cfa7d050a3ff1f84dea9a3371...  ...   \n",
       "4f2b05354be9fb6483976694a1ed0494c7c387631c15130...  ...   \n",
       "1dd5dc37f4e99e27668c769d04d0f72273a6c582d504bf0...  ...   \n",
       "\n",
       "field_name                                         total_functional_expense_fundraising  \\\n",
       "job_id                                                                                    \n",
       "0f908c03383d094f6c1386749189f281d188d5ea0cd64c4...                                 4503   \n",
       "bcc635fa2b088a72666c3d534d0221a1c1294f2974a6a30...                               597789   \n",
       "f0545c488bd7ab7e775c25cfa7d050a3ff1f84dea9a3371...                               263765   \n",
       "4f2b05354be9fb6483976694a1ed0494c7c387631c15130...                                  669   \n",
       "1dd5dc37f4e99e27668c769d04d0f72273a6c582d504bf0...                                14409   \n",
       "\n",
       "field_name                                         activities_per_region_totals_number_of_offices  \\\n",
       "job_id                                                                                              \n",
       "0f908c03383d094f6c1386749189f281d188d5ea0cd64c4...                                                  \n",
       "bcc635fa2b088a72666c3d534d0221a1c1294f2974a6a30...                                                  \n",
       "f0545c488bd7ab7e775c25cfa7d050a3ff1f84dea9a3371...                                                  \n",
       "4f2b05354be9fb6483976694a1ed0494c7c387631c15130...                                                  \n",
       "1dd5dc37f4e99e27668c769d04d0f72273a6c582d504bf0...                                                  \n",
       "\n",
       "field_name                                         activities_per_region_totals_number_of_employees  \\\n",
       "job_id                                                                                                \n",
       "0f908c03383d094f6c1386749189f281d188d5ea0cd64c4...                                                    \n",
       "bcc635fa2b088a72666c3d534d0221a1c1294f2974a6a30...                                                    \n",
       "f0545c488bd7ab7e775c25cfa7d050a3ff1f84dea9a3371...                                                    \n",
       "4f2b05354be9fb6483976694a1ed0494c7c387631c15130...                                                    \n",
       "1dd5dc37f4e99e27668c769d04d0f72273a6c582d504bf0...                                                    \n",
       "\n",
       "field_name                                         activities_per_region_totals_total_expenditure  \\\n",
       "job_id                                                                                              \n",
       "0f908c03383d094f6c1386749189f281d188d5ea0cd64c4...                                                  \n",
       "bcc635fa2b088a72666c3d534d0221a1c1294f2974a6a30...                                                  \n",
       "f0545c488bd7ab7e775c25cfa7d050a3ff1f84dea9a3371...                                                  \n",
       "4f2b05354be9fb6483976694a1ed0494c7c387631c15130...                                                  \n",
       "1dd5dc37f4e99e27668c769d04d0f72273a6c582d504bf0...                                                  \n",
       "\n",
       "field_name                                         total_number_recipient_foreign_orgs_listed_as_charities  \\\n",
       "job_id                                                                                                       \n",
       "0f908c03383d094f6c1386749189f281d188d5ea0cd64c4...                                                           \n",
       "bcc635fa2b088a72666c3d534d0221a1c1294f2974a6a30...                                                           \n",
       "f0545c488bd7ab7e775c25cfa7d050a3ff1f84dea9a3371...                                                           \n",
       "4f2b05354be9fb6483976694a1ed0494c7c387631c15130...                                                           \n",
       "1dd5dc37f4e99e27668c769d04d0f72273a6c582d504bf0...                                                           \n",
       "\n",
       "field_name                                         total_number_other_recipient_foreign_orgs_entities  \\\n",
       "job_id                                                                                                  \n",
       "0f908c03383d094f6c1386749189f281d188d5ea0cd64c4...                                                      \n",
       "bcc635fa2b088a72666c3d534d0221a1c1294f2974a6a30...                                                      \n",
       "f0545c488bd7ab7e775c25cfa7d050a3ff1f84dea9a3371...                                                      \n",
       "4f2b05354be9fb6483976694a1ed0494c7c387631c15130...                                                      \n",
       "1dd5dc37f4e99e27668c769d04d0f72273a6c582d504bf0...                                                      \n",
       "\n",
       "field_name                                                                           pdf_key  \\\n",
       "job_id                                                                                         \n",
       "0f908c03383d094f6c1386749189f281d188d5ea0cd64c4...  EIN_760733035_YEAR_2009_FORMTYPE_990.pdf   \n",
       "bcc635fa2b088a72666c3d534d0221a1c1294f2974a6a30...  EIN_363235550_YEAR_2009_FORMTYPE_990.pdf   \n",
       "f0545c488bd7ab7e775c25cfa7d050a3ff1f84dea9a3371...  EIN_223134995_YEAR_2010_FORMTYPE_990.pdf   \n",
       "4f2b05354be9fb6483976694a1ed0494c7c387631c15130...  EIN_264320885_YEAR_2009_FORMTYPE_990.pdf   \n",
       "1dd5dc37f4e99e27668c769d04d0f72273a6c582d504bf0...  EIN_581943161_YEAR_2009_FORMTYPE_990.pdf   \n",
       "\n",
       "field_name                                                ein  year  \\\n",
       "job_id                                                                \n",
       "0f908c03383d094f6c1386749189f281d188d5ea0cd64c4...  760733035  2009   \n",
       "bcc635fa2b088a72666c3d534d0221a1c1294f2974a6a30...  363235550  2009   \n",
       "f0545c488bd7ab7e775c25cfa7d050a3ff1f84dea9a3371...  223134995  2010   \n",
       "4f2b05354be9fb6483976694a1ed0494c7c387631c15130...  264320885  2009   \n",
       "1dd5dc37f4e99e27668c769d04d0f72273a6c582d504bf0...  581943161  2009   \n",
       "\n",
       "field_name                                               filing_id  \n",
       "job_id                                                              \n",
       "0f908c03383d094f6c1386749189f281d188d5ea0cd64c4...  760733035_2009  \n",
       "bcc635fa2b088a72666c3d534d0221a1c1294f2974a6a30...  363235550_2009  \n",
       "f0545c488bd7ab7e775c25cfa7d050a3ff1f84dea9a3371...  223134995_2010  \n",
       "4f2b05354be9fb6483976694a1ed0494c7c387631c15130...  264320885_2009  \n",
       "1dd5dc37f4e99e27668c769d04d0f72273a6c582d504bf0...  581943161_2009  \n",
       "\n",
       "[5 rows x 185 columns]"
      ]
     },
     "execution_count": 8,
     "metadata": {},
     "output_type": "execute_result"
    }
   ],
   "source": [
    "output_data.head()"
   ]
  },
  {
   "cell_type": "code",
   "execution_count": 9,
   "id": "7ef1f9d9",
   "metadata": {},
   "outputs": [],
   "source": [
    "def clean(x):\n",
    "    x = str(x)\n",
    "    x = re.sub(r\"\\.0\\b\", \"\", x)\n",
    "    x = re.sub(\"\\D\", \"\", x)\n",
    "    return x"
   ]
  },
  {
   "cell_type": "code",
   "execution_count": 10,
   "id": "bab8809d",
   "metadata": {},
   "outputs": [],
   "source": [
    "def compare_output(to_validate, to_compare, col):\n",
    "    return pd.DataFrame(\n",
    "        {\n",
    "            \"extracted\": to_validate.loc[col].loc[\n",
    "                lambda series: series != to_compare.loc[col]\n",
    "            ],\n",
    "            \"expected\": to_compare.loc[col].loc[\n",
    "                lambda series: series != to_validate.loc[col]\n",
    "            ],\n",
    "        }\n",
    "    )"
   ]
  },
  {
   "cell_type": "code",
   "execution_count": 11,
   "id": "474b0edf",
   "metadata": {
    "scrolled": false
   },
   "outputs": [
    {
     "name": "stdout",
     "output_type": "stream",
     "text": [
      "EIN_113489123_YEAR_2008_FORMTYPE_990.pdf\n",
      "2 mismatched items.\n",
      "              extracted expected\n",
      "total_revenue      1017  1017506\n",
      "travel_total        137    13710\n",
      "-------------------------------------------------------------------------------\n",
      "EIN_582248383_YEAR_2009_FORMTYPE_990.pdf\n",
      "1 mismatched items.\n",
      "                                                   extracted expected\n",
      "total_number_other_recipient_foreign_orgs_entities        10         \n",
      "-------------------------------------------------------------------------------\n"
     ]
    }
   ],
   "source": [
    "to_compare = validation_data.set_index(\"pdf_key\").applymap(clean)\n",
    "to_validate = output_data[validation_data.columns].set_index(\"pdf_key\").applymap(clean)\n",
    "\n",
    "for col in to_validate.index:\n",
    "    validated = compare_output(to_validate, to_compare, col)\n",
    "    if validated.any().any():\n",
    "        print(col)\n",
    "        print(f\"{validated.shape[0]} mismatched items.\")\n",
    "        print(validated)\n",
    "        print(\"-\"*79)"
   ]
  },
  {
   "cell_type": "code",
   "execution_count": 12,
   "id": "282f0276",
   "metadata": {},
   "outputs": [
    {
     "ename": "AssertionError",
     "evalue": "",
     "output_type": "error",
     "traceback": [
      "\u001b[0;31m---------------------------------------------------------------------------\u001b[0m",
      "\u001b[0;31mAssertionError\u001b[0m                            Traceback (most recent call last)",
      "Cell \u001b[0;32mIn [12], line 1\u001b[0m\n\u001b[0;32m----> 1\u001b[0m \u001b[38;5;28;01massert\u001b[39;00m \u001b[38;5;28;01mFalse\u001b[39;00m\n",
      "\u001b[0;31mAssertionError\u001b[0m: "
     ]
    }
   ],
   "source": [
    "assert False"
   ]
  },
  {
   "cell_type": "markdown",
   "id": "3e3b1d2f",
   "metadata": {},
   "source": [
    "## BREAK"
   ]
  },
  {
   "cell_type": "code",
   "execution_count": null,
   "id": "b2ff2680",
   "metadata": {
    "scrolled": false
   },
   "outputs": [],
   "source": [
    "pd.concat(schedule_f_part_i_rows).head(50)[\n",
    "    [\n",
    "        \"region\", \"number_offices\", \"number_employees\", \n",
    "        \"activities_conducted\", \"specific_type_activity\", \n",
    "        \"total_expenditures\", \"pdf_key\"\n",
    "    ]\n",
    "]"
   ]
  },
  {
   "cell_type": "code",
   "execution_count": null,
   "id": "73bcc3e2",
   "metadata": {
    "scrolled": false
   },
   "outputs": [],
   "source": [
    "pd.concat(schedule_f_part_i_rows).tail(50)"
   ]
  },
  {
   "cell_type": "code",
   "execution_count": null,
   "id": "4720c039",
   "metadata": {},
   "outputs": [],
   "source": [
    "pd.concat(schedule_f_part_ii_rows).shape"
   ]
  },
  {
   "cell_type": "code",
   "execution_count": null,
   "id": "1ac2eefe",
   "metadata": {
    "scrolled": false
   },
   "outputs": [],
   "source": [
    "pd.concat(schedule_f_part_ii_rows).iloc[16:66]"
   ]
  },
  {
   "cell_type": "code",
   "execution_count": null,
   "id": "bd8a386e",
   "metadata": {
    "scrolled": false
   },
   "outputs": [],
   "source": [
    "pd.concat(schedule_f_part_iii_rows).iloc[19:]"
   ]
  },
  {
   "cell_type": "code",
   "execution_count": null,
   "id": "1b56bb1a",
   "metadata": {},
   "outputs": [],
   "source": [
    "table_test_df = open_df(bucket, \"67217e04d83f69ffbbb461b0a23648b037b4a36d0c5ebdb32d3186b19d6a6fd5\")"
   ]
  },
  {
   "cell_type": "code",
   "execution_count": null,
   "id": "75e06ac9",
   "metadata": {},
   "outputs": [],
   "source": [
    "test_lines = table_test_df.loc[\n",
    "    table_test_df[\"BlockType\"] == \"LINE\"\n",
    "]\n",
    "test_words = table_test_df.loc[\n",
    "    table_test_df[\"BlockType\"] == \"WORD\"\n",
    "]\n",
    "test_pages = test_lines.groupby(\"Page\")"
   ]
  },
  {
   "cell_type": "code",
   "execution_count": null,
   "id": "83217d7a",
   "metadata": {},
   "outputs": [],
   "source": [
    "HEADER = PART_II_HEADER\n",
    "NAME = PART_II_TABLE_NAME"
   ]
  },
  {
   "cell_type": "code",
   "execution_count": null,
   "id": "45fd9087",
   "metadata": {},
   "outputs": [],
   "source": [
    "table_pages = find_table_pages(\n",
    "    test_pages[\"Text\"].agg(lambda words: \" \".join(words)),\n",
    "    HEADER,\n",
    ")"
   ]
  },
  {
   "cell_type": "code",
   "execution_count": null,
   "id": "261934b9",
   "metadata": {},
   "outputs": [],
   "source": [
    "table_pages"
   ]
  },
  {
   "cell_type": "code",
   "execution_count": null,
   "id": "69522c35",
   "metadata": {},
   "outputs": [],
   "source": [
    "TEST_INDEX = 1\n",
    "TEST_PAGE = 30"
   ]
  },
  {
   "cell_type": "code",
   "execution_count": null,
   "id": "eb9879b4",
   "metadata": {},
   "outputs": [],
   "source": [
    "tablemaps = pd.DataFrame(\n",
    "    {\n",
    "        \"page\": table_pages,\n",
    "        \"tablemap\": table_pages.map(\n",
    "            lambda page: create_tablemap(\n",
    "                test_lines, schedule_f_tablemap_df, page, NAME\n",
    "            ).dropna()\n",
    "        ),\n",
    "    }\n",
    ")"
   ]
  },
  {
   "cell_type": "code",
   "execution_count": null,
   "id": "04aa2533",
   "metadata": {},
   "outputs": [],
   "source": [
    "tablemaps[\"tablemap\"].iloc[TEST_INDEX]"
   ]
  },
  {
   "cell_type": "code",
   "execution_count": null,
   "id": "b6b01610",
   "metadata": {},
   "outputs": [],
   "source": [
    "row_extractors = schedule_f_row_extractor_df.loc[\n",
    "    schedule_f_row_extractor_df[\"table\"] == NAME\n",
    "]\n",
    "table_data = schedule_f_table_extractor_df.loc[\n",
    "    schedule_f_table_extractor_df[\"table\"] == NAME\n",
    "].iloc[0]"
   ]
  },
  {
   "cell_type": "code",
   "execution_count": null,
   "id": "732c211d",
   "metadata": {},
   "outputs": [],
   "source": [
    "rows = tablemaps.assign(\n",
    "    extractor=tablemaps[\"tablemap\"].map(\n",
    "        lambda tablemap: TableExtractor(\n",
    "            header_top_label=table_data[\"header_top\"],\n",
    "            top_label=table_data[\"table_top\"],\n",
    "            bottom_label=table_data[\"table_bottom\"],\n",
    "            tablemap=tablemap,\n",
    "            fields=row_extractors[\"field\"],\n",
    "            field_labels=row_extractors[\"col_left\"]\n",
    "        )\n",
    "    )\n",
    ")"
   ]
  },
  {
   "cell_type": "code",
   "execution_count": null,
   "id": "dfcfce82",
   "metadata": {},
   "outputs": [],
   "source": [
    "rows"
   ]
  },
  {
   "cell_type": "code",
   "execution_count": null,
   "id": "93e0a357",
   "metadata": {},
   "outputs": [],
   "source": [
    "result = rows.apply(\n",
    "    lambda row: row[\"extractor\"].extract_rows(test_words, row[\"page\"]),\n",
    "    axis=1\n",
    ").dropna()"
   ]
  },
  {
   "cell_type": "code",
   "execution_count": null,
   "id": "9d8599ca",
   "metadata": {
    "scrolled": false
   },
   "outputs": [],
   "source": [
    "test_extractor = rows[\"extractor\"].iloc[TEST_INDEX]"
   ]
  },
  {
   "cell_type": "code",
   "execution_count": null,
   "id": "71ebafcf",
   "metadata": {
    "scrolled": true
   },
   "outputs": [],
   "source": [
    "test_extractor.get_col_spans(test_words, TEST_PAGE)"
   ]
  },
  {
   "cell_type": "code",
   "execution_count": null,
   "id": "07808559",
   "metadata": {},
   "outputs": [],
   "source": [
    "test_extractor.field_labels"
   ]
  },
  {
   "cell_type": "code",
   "execution_count": null,
   "id": "53dd690e",
   "metadata": {
    "scrolled": false
   },
   "outputs": [],
   "source": [
    "extracted = test_extractor.extract_rows(test_words, TEST_PAGE)"
   ]
  },
  {
   "cell_type": "code",
   "execution_count": null,
   "id": "21698813",
   "metadata": {},
   "outputs": [],
   "source": [
    "extract_table_data(\n",
    "        test_pages, test_lines, test_words, HEADER, NAME, \n",
    "        schedule_f_tablemap_df, schedule_f_table_extractor_df, schedule_f_row_extractor_df,\n",
    "    )"
   ]
  },
  {
   "cell_type": "code",
   "execution_count": null,
   "id": "d91e48e2",
   "metadata": {
    "scrolled": false
   },
   "outputs": [],
   "source": [
    "table_words = test_extractor.get_table_words(test_words, TEST_PAGE)"
   ]
  },
  {
   "cell_type": "code",
   "execution_count": null,
   "id": "9a5197db",
   "metadata": {
    "scrolled": true
   },
   "outputs": [],
   "source": [
    "table_words.tail(50)"
   ]
  },
  {
   "cell_type": "code",
   "execution_count": null,
   "id": "f8d2c462",
   "metadata": {
    "scrolled": false
   },
   "outputs": [],
   "source": [
    "word_clusters = cluster_words(table_words, table_words[\"Height\"].min(), \"Midpoint_Y\")\n",
    "[\" \".join(word.sort_values(by=\"Left\")[\"Text\"].values) for word in word_clusters]"
   ]
  },
  {
   "cell_type": "code",
   "execution_count": null,
   "id": "9cd27b17",
   "metadata": {
    "scrolled": false
   },
   "outputs": [],
   "source": [
    "def columnize(word_cluster, col_spans):\n",
    "    return col_spans.map(\n",
    "        lambda span: word_cluster.loc[\n",
    "            (word_cluster[\"Right\"].between(*span, inclusive=\"right\"))\n",
    "        ]\n",
    "    )\n",
    "\n",
    "\n",
    "def get_cluster_coords(cluster):\n",
    "    cluster_coords = {\n",
    "        \"Left\": cluster[\"Left\"].min(),\n",
    "        \"Right\": cluster[\"Right\"].max(),\n",
    "        \"Height\": cluster[\"Height\"].max(),\n",
    "        \"Midpoint_X\": cluster[\"Midpoint_X\"].median(),\n",
    "        \"Midpoint_Y\": cluster[\"Midpoint_Y\"].median(),\n",
    "        \"Top\": cluster[\"Top\"].min(),\n",
    "        \"Bottom\": cluster[\"Bottom\"].min(),\n",
    "    }\n",
    "    cluster_coords[\"Width\"] = cluster_coords[\"Right\"] - cluster_coords[\"Left\"]\n",
    "    return cluster_coords\n",
    "\n",
    "\n",
    "def combine_row(row):\n",
    "    return pd.Series([\n",
    "        line.map(\n",
    "            lambda x: x.sort_values(\n",
    "                by=\"Left\"\n",
    "            ).reset_index(drop=True)[\"Text\"].fillna(\"\")\n",
    "        ).agg(\n",
    "            lambda x: \" \".join(x.values)\n",
    "        ) + \" \"\n",
    "        for line in row\n",
    "    ]).sum().str.strip()\n",
    "\n",
    "col_spans = test_extractor.get_col_spans(test_words, TEST_PAGE)\n",
    "\n",
    "col_spans"
   ]
  },
  {
   "cell_type": "code",
   "execution_count": null,
   "id": "cf93ee01",
   "metadata": {
    "scrolled": false
   },
   "outputs": [],
   "source": [
    "y_tol = table_words[\"Height\"].median() * .5\n",
    "columnized = columnize(word_clusters[0], col_spans)\n",
    "columnized.index = test_extractor.fields\n",
    "last_col_coords = pd.DataFrame.from_records(\n",
    "    columnized.map(\n",
    "        get_cluster_coords\n",
    "    )\n",
    ")\n",
    "rows = []\n",
    "current_row = [columnized]\n",
    "top_ws = (\n",
    "    last_col_coords[\"Top\"].min()\n",
    "    - test_extractor.get_table_top(test_words, TEST_PAGE)\n",
    ")\n",
    "print(f\"Y tolerance: {y_tol}\")\n",
    "print(f\"Top whitespace: {top_ws}\")\n",
    "if top_ws > y_tol * 3:\n",
    "    alignment = \"BOTTOM\"\n",
    "else:\n",
    "    alignment = \"UNKNOWN\"\n",
    "print(f\"Alignment: {alignment}\")\n",
    "print(\"First cluster:\")\n",
    "print(\" \".join(word_clusters[0].sort_values(by=\"Left\")[\"Text\"].values))\n",
    "for count, cluster in enumerate(word_clusters[1:]):\n",
    "    print(\"-\"*50)\n",
    "    print(f\"Alignment: {alignment}\")\n",
    "    print(\"Cluster:\", \" \".join(cluster.sort_values(by=\"Left\")[\"Text\"].values))\n",
    "    columnized = columnize(cluster, col_spans)\n",
    "    columnized.index = test_extractor.fields\n",
    "    col_coords = pd.DataFrame.from_records(columnized.map(get_cluster_coords))\n",
    "    print(f\"Cluster top: {col_coords['Top'].min()}\")\n",
    "    print(f\"Last cluster bottom: {last_col_coords['Bottom'].max()}\")\n",
    "    y_delta = (\n",
    "        col_coords[\"Top\"].min()\n",
    "        - last_col_coords[\"Bottom\"].max()\n",
    "    )\n",
    "    print(\"Y Delta:\", y_delta)\n",
    "    if y_delta > y_tol:\n",
    "        print(\"Y tolerance exceeded\")\n",
    "        combined_row = combine_row(current_row)\n",
    "        print(combined_row)\n",
    "        rows.append(combined_row)\n",
    "        current_row = [columnized]\n",
    "    else:\n",
    "        nonempty = col_coords.dropna().index.to_series()\n",
    "        last_nonempty = last_col_coords.dropna().index.to_series()\n",
    "        # delta_cols true if current row has non-empty cells that\n",
    "        # are empty in the preceding row\n",
    "        delta_cols = (~nonempty.isin(last_nonempty)).any()\n",
    "        if not delta_cols and (alignment == \"UNKNOWN\"):\n",
    "            alignment = \"TOP\"\n",
    "            current_row.append(columnized)\n",
    "        elif delta_cols and (alignment == \"UNKNOWN\"):\n",
    "            alignment = \"BOTTOM\"\n",
    "            current_row.append(columnized)\n",
    "        elif delta_cols and (alignment == \"TOP\"):\n",
    "            combined_row = combine_row(current_row)\n",
    "            print(combined_row)\n",
    "            rows.append(combined_row)\n",
    "            current_row = [columnized]\n",
    "        # (TOP&~delta_cols, BOTTOM&delta_cols, BOTTOM&~delta_cols)\n",
    "        else:\n",
    "            current_row.append(columnized)\n",
    "    last_col_coords = col_coords            "
   ]
  },
  {
   "cell_type": "code",
   "execution_count": null,
   "id": "632c84a8",
   "metadata": {},
   "outputs": [],
   "source": [
    "test_lines.loc[\n",
    "    test_lines[\"Text\"].str.contains(\"other\\)\")\n",
    "    & test_lines[\"Page\"].between(26, 26)\n",
    "]"
   ]
  },
  {
   "cell_type": "code",
   "execution_count": null,
   "id": "943b5bc6",
   "metadata": {},
   "outputs": [],
   "source": [
    "test_extractor.get_table_bottom(test_words, TEST_PAGE)"
   ]
  },
  {
   "cell_type": "code",
   "execution_count": null,
   "id": "32bb9ec2",
   "metadata": {},
   "outputs": [],
   "source": [
    "test_words.loc[\n",
    "    test_words[\"Text\"].str.match(\"579\")\n",
    "    & test_words[\"Page\"].between(TEST_PAGE, TEST_PAGE)\n",
    "]"
   ]
  },
  {
   "cell_type": "code",
   "execution_count": null,
   "id": "41b47f4c",
   "metadata": {},
   "outputs": [],
   "source": [
    "create_tablemap(\n",
    "    test_lines,\n",
    "    schedule_f_tablemap_df,\n",
    "    26,\n",
    "    NAME\n",
    ")"
   ]
  },
  {
   "cell_type": "code",
   "execution_count": null,
   "id": "13dbbbb8",
   "metadata": {},
   "outputs": [],
   "source": [
    "test_extractor.tablemap"
   ]
  },
  {
   "cell_type": "code",
   "execution_count": null,
   "id": "1a2ea284",
   "metadata": {},
   "outputs": [],
   "source": [
    "header_words = test_extractor.get_header_words(test_words, TEST_PAGE)"
   ]
  },
  {
   "cell_type": "code",
   "execution_count": null,
   "id": "08cca982",
   "metadata": {
    "scrolled": false
   },
   "outputs": [],
   "source": [
    "header_words.sort_values(by=\"Left\")[[\"Text\", \"Left\", \"Right\", \"Midpoint_Y\"]].tail(50)"
   ]
  },
  {
   "cell_type": "code",
   "execution_count": null,
   "id": "cdfb175b",
   "metadata": {},
   "outputs": [],
   "source": [
    "pd.DataFrame(\n",
    "    {\n",
    "        \"Gap\": header_words.sort_values(by=\"Left\").rolling(2).apply(lambda x: x),\n",
    "        \"Right\": header_words.sort_values(by=\"Left\")[\"Right\"],\n",
    "        \"Text\": header_words.sort_values(by=\"Left\")[\"Text\"],\n",
    "    }\n",
    ")"
   ]
  },
  {
   "cell_type": "code",
   "execution_count": null,
   "id": "df4e4e65",
   "metadata": {},
   "outputs": [],
   "source": [
    "def cluster_x(words, tolerance):\n",
    "    print(\"Tolerance\", tolerance)\n",
    "    if (tolerance == 0) or (words.shape[0] < 2):\n",
    "        return [\n",
    "            [word] for (idx, word)\n",
    "            in words.sort_values(by=\"Left\").iterrows()\n",
    "        ]\n",
    "    groups = []\n",
    "    sorted_words = words.sort_values(by=\"Left\")\n",
    "    current_group = [sorted_words.iloc[0]]\n",
    "    last = sorted_words.iloc[0][\"Right\"]\n",
    "    for idx, word in sorted_words.iloc[1:].iterrows():\n",
    "        if word[\"Left\"] <= (last + tolerance):\n",
    "            current_group.append(word)\n",
    "        else:\n",
    "            print(\"New Group\")\n",
    "            print(\"*\"*100)\n",
    "            groups.append(current_group)\n",
    "            current_group = [word]\n",
    "        print(\"Left:\", word[\"Left\"])\n",
    "        print(\"Right:\", word[\"Right\"])\n",
    "        last = max((last, word[\"Right\"]))\n",
    "    groups.append(current_group)\n",
    "    return [pd.DataFrame(group) for group in groups]"
   ]
  },
  {
   "cell_type": "code",
   "execution_count": null,
   "id": "a1d6e1d1",
   "metadata": {},
   "outputs": [],
   "source": [
    "left_right = pd.DataFrame(\n",
    "    {\n",
    "        \"Left\": header_words[\"Left\"].sort_values().reset_index(drop=True),\n",
    "        \"Right\": header_words[\"Right\"].sort_values().reset_index(drop=True),\n",
    "    }\n",
    ")\n",
    "\n",
    "header_lines = cluster_x(\n",
    "    left_right, header_words[\"Width\"].min()*.8\n",
    ")"
   ]
  },
  {
   "cell_type": "code",
   "execution_count": null,
   "id": "652d7355",
   "metadata": {},
   "outputs": [],
   "source": [
    "len(header_lines)"
   ]
  },
  {
   "cell_type": "code",
   "execution_count": null,
   "id": "ba6bc6d1",
   "metadata": {},
   "outputs": [],
   "source": [
    "[\n",
    "    (x[\"Left\"].min(), x[\"Right\"].max())\n",
    "    for x in header_lines\n",
    "]"
   ]
  },
  {
   "cell_type": "code",
   "execution_count": null,
   "id": "0b7a5d02",
   "metadata": {
    "scrolled": false
   },
   "outputs": [],
   "source": [
    "x_clusters = cluster_x(header_words, header_words[\"Width\"].min()*.8)"
   ]
  },
  {
   "cell_type": "code",
   "execution_count": null,
   "id": "dad16976",
   "metadata": {},
   "outputs": [],
   "source": [
    "len(x_clusters)"
   ]
  },
  {
   "cell_type": "code",
   "execution_count": null,
   "id": "0ca1d04e",
   "metadata": {},
   "outputs": [],
   "source": [
    "0.6793086230754852-0.6723970174789429"
   ]
  },
  {
   "cell_type": "code",
   "execution_count": null,
   "id": "97a36682",
   "metadata": {},
   "outputs": [],
   "source": [
    "[\n",
    "    words.sort_values(by=\"Left\")[\"Text\"].agg(lambda x: \" \".join(x.values))\n",
    "    for words in x_clusters\n",
    "]"
   ]
  },
  {
   "cell_type": "code",
   "execution_count": null,
   "id": "d1fe0c2f",
   "metadata": {},
   "outputs": [],
   "source": [
    "left_bounds = pd.Series(\n",
    "        cluster[\"Left\"].min() for cluster in x_clusters[1:]\n",
    ")\n",
    "right_bounds = pd.Series(\n",
    "    [cluster[\"Right\"].max() for cluster in x_clusters[:-1]]\n",
    ")\n",
    "offsets = right_bounds - left_bounds\n",
    "full_left = pd.concat([pd.Series([0]), left_bounds + offsets]).reset_index(drop=True)\n",
    "full_right = pd.concat([right_bounds - offsets, pd.Series([1])]).reset_index(drop=True)\n",
    "col_spans = full_left.combine(full_right, lambda x, y: (x, y))\n",
    "col_spans"
   ]
  },
  {
   "cell_type": "code",
   "execution_count": null,
   "id": "7a5c8383",
   "metadata": {},
   "outputs": [],
   "source": [
    "last_cluster_right = pd.concat([header_words, table_words])[\"Left\"].min()\n",
    "left_bounds = []\n",
    "right_bounds = []\n",
    "for cluster in x_clusters:\n",
    "    print(\"Last Cluster Right\", last_cluster_right)\n",
    "    print(\"Cluster Left\", cluster[\"Left\"].min())\n",
    "    print(\"Cluster Right\", cluster[\"Right\"].max())\n",
    "    print(\"*\"*50)\n",
    "    left_bounds.append(last_cluster_right)\n",
    "    last_cluster_right = max(\n",
    "        cluster[\"Right\"].max()\n",
    "        + cluster[\"Left\"].min()\n",
    "        - last_cluster_right,\n",
    "        cluster[\"Right\"].max()\n",
    "    )\n",
    "    right_bounds.append(last_cluster_right)\n",
    "col_spans = pd.Series(zip(left_bounds, right_bounds))\n",
    "col_spans"
   ]
  },
  {
   "cell_type": "code",
   "execution_count": null,
   "id": "b6384d93",
   "metadata": {},
   "outputs": [],
   "source": [
    "header_words[\"Midpoint_X\"].round(2).value_counts()"
   ]
  },
  {
   "cell_type": "code",
   "execution_count": null,
   "id": "5582e005",
   "metadata": {},
   "outputs": [],
   "source": [
    "def count_crossing_lines(df, left, right):\n",
    "    return (\n",
    "        df.loc[\n",
    "            df[\"Left\"].between(left, right)\n",
    "            & (df[\"Right\"] > right),\n",
    "            \"Text\"\n",
    "        ].count()\n",
    "        + df.loc[\n",
    "            (df[\"Left\"] < left)\n",
    "            & df[\"Right\"].between(left, right),\n",
    "            \"Text\"\n",
    "        ].count()\n",
    "    )\n",
    "\n",
    "\n",
    "def recalculate_intervals(left_interval, right_interval):\n",
    "    left_left = left_interval[0]\n",
    "    right_right = right_interval[1]\n",
    "    total_span = right_right - left_left\n",
    "    \n",
    "    "
   ]
  },
  {
   "cell_type": "code",
   "execution_count": null,
   "id": "7b81ce37",
   "metadata": {},
   "outputs": [],
   "source": [
    "col_spans.map(\n",
    "    lambda x: (x[1] + x[0]) / 2\n",
    ")"
   ]
  },
  {
   "cell_type": "code",
   "execution_count": null,
   "id": "6910806d",
   "metadata": {},
   "outputs": [],
   "source": [
    "table_words.loc[\n",
    "    table_words[\"Left\"].between(0.12358373403549194, 0.3558424413204193)\n",
    "    & (table_words[\"Midpoint_X\"] > 0.3558424413204193),\n",
    "    \"Text\"\n",
    "]"
   ]
  },
  {
   "cell_type": "code",
   "execution_count": null,
   "id": "78c34296",
   "metadata": {
    "scrolled": false
   },
   "outputs": [],
   "source": [
    "left_right = pd.DataFrame(\n",
    "    {\n",
    "        \"left\": header_words[\"Left\"].sort_values().reset_index(drop=True),\n",
    "        \"right\": header_words[\"Right\"].sort_values().reset_index(drop=True),\n",
    "    }\n",
    ")\n",
    "left_right.rolling(2).apply(lambda x: print(x, \"\\n\" + \"*\"*20) or 1)"
   ]
  },
  {
   "cell_type": "code",
   "execution_count": null,
   "id": "83fe67d7",
   "metadata": {},
   "outputs": [],
   "source": [
    "left_right.head()"
   ]
  },
  {
   "cell_type": "code",
   "execution_count": null,
   "id": "12daa72c",
   "metadata": {},
   "outputs": [],
   "source": [
    "1 and 2"
   ]
  },
  {
   "cell_type": "code",
   "execution_count": null,
   "id": "cd39ef3b",
   "metadata": {},
   "outputs": [],
   "source": [
    "(test_words.groupby(\"Page\")[\"Width\"].max() / test_words.groupby(\"Page\")[\"Height\"].mean()).index.values"
   ]
  },
  {
   "cell_type": "code",
   "execution_count": null,
   "id": "c4ef9070",
   "metadata": {},
   "outputs": [],
   "source": [
    "pd.cut(header_words[\"Right\"], 1000).unique().categories"
   ]
  },
  {
   "cell_type": "code",
   "execution_count": null,
   "id": "35c34837",
   "metadata": {},
   "outputs": [],
   "source": [
    "sorted_header_words = header_words.sort_values(by=\"Left\")"
   ]
  },
  {
   "cell_type": "code",
   "execution_count": null,
   "id": "d9b86d4d",
   "metadata": {},
   "outputs": [],
   "source": [
    "len(x_clusters)"
   ]
  },
  {
   "cell_type": "code",
   "execution_count": null,
   "id": "8e2263c4",
   "metadata": {},
   "outputs": [],
   "source": [
    "def cluster_x(words, tolerance):\n",
    "    if (tolerance == 0) or (words.shape[0] < 2):\n",
    "        return [\n",
    "            [word] for (idx, word)\n",
    "            in words.sort_values(by=\"Midpoint_X\").iterrows()\n",
    "        ]\n",
    "    groups = []\n",
    "    sorted_words = words.sort_values(by=\"Midpoint_X\")\n",
    "    current_group = [sorted_words.iloc[0]]\n",
    "    last = sorted_words.iloc[0][\"Midpoint_X\"]\n",
    "    for idx, word in sorted_words.iloc[1:].iterrows():\n",
    "        last = (last + word[\"Midpoint_X\"]) / 2\n",
    "        if word[\"Midpoint_X\"] <= (last + tolerance):\n",
    "            current_group.append(word)\n",
    "        else:\n",
    "            print(\"New Group\")\n",
    "            print(\"*\"*100)\n",
    "            groups.append(current_group)\n",
    "            current_group = [word]\n",
    "            last = word[\"Right\"]\n",
    "        print(\"Word:\", word[\"Text\"])\n",
    "        print(\"Left:\", word[\"Left\"])\n",
    "        print(\"Right:\", word[\"Right\"])\n",
    "    groups.append(current_group)\n",
    "    return [pd.DataFrame(group) for group in groups]"
   ]
  },
  {
   "cell_type": "code",
   "execution_count": null,
   "id": "b4cc54e3",
   "metadata": {},
   "outputs": [],
   "source": [
    "clusters = cluster_x(header_words, header_words[\"Width\"].mean()*.7)"
   ]
  },
  {
   "cell_type": "code",
   "execution_count": null,
   "id": "7080b316",
   "metadata": {},
   "outputs": [],
   "source": [
    "len(clusters)"
   ]
  },
  {
   "cell_type": "code",
   "execution_count": null,
   "id": "d2f6b41d",
   "metadata": {},
   "outputs": [],
   "source": [
    "header_words.sort_values(by=\"Midpoint_X\").rolling(4)[\"Midpoint_X\"].mean()"
   ]
  },
  {
   "cell_type": "code",
   "execution_count": null,
   "id": "6700f678",
   "metadata": {},
   "outputs": [],
   "source": [
    "left_clusters = cluster_words(header_words, header_words[\"Width\"].mean()*.835, \"Left\")"
   ]
  },
  {
   "cell_type": "code",
   "execution_count": null,
   "id": "833dd547",
   "metadata": {},
   "outputs": [],
   "source": [
    "len(left_clusters)"
   ]
  },
  {
   "cell_type": "code",
   "execution_count": null,
   "id": "992bff7c",
   "metadata": {},
   "outputs": [],
   "source": [
    "[\n",
    "    cluster[\"Left\"].mean() for cluster in left_clusters\n",
    "]"
   ]
  },
  {
   "cell_type": "code",
   "execution_count": null,
   "id": "0ea980e9",
   "metadata": {},
   "outputs": [],
   "source": [
    "def get_col_spans(self, words, page):\n",
    "    pass"
   ]
  },
  {
   "cell_type": "code",
   "execution_count": null,
   "id": "fc2e63dc",
   "metadata": {},
   "outputs": [],
   "source": [
    "test_extractor.tablemap"
   ]
  },
  {
   "cell_type": "code",
   "execution_count": null,
   "id": "f203e68b",
   "metadata": {},
   "outputs": [],
   "source": [
    "test_col_spans = pd.Series(\n",
    "    [\n",
    "        (0, 0.205227),\n",
    "        (0.205227, 0.311407),\n",
    "        (0.311407, 0.420936),\n",
    "        (0.420936, 0.572975),\n",
    "        (0.572975, 0.735998),\n",
    "        (0.735998, 1),\n",
    "    ]\n",
    ")"
   ]
  },
  {
   "cell_type": "code",
   "execution_count": null,
   "id": "0744b017",
   "metadata": {},
   "outputs": [],
   "source": [
    "def find_new_right(df, right):\n",
    "    return (\n",
    "        df.loc[\n",
    "            (df[\"Right\"] > right*1.01)\n",
    "            & (df[\"Left\"] < right),\n",
    "            \"Left\"\n",
    "        ].min()\n",
    "    )"
   ]
  },
  {
   "cell_type": "code",
   "execution_count": null,
   "id": "6a32a5ce",
   "metadata": {},
   "outputs": [],
   "source": [
    "crossing_right = test_col_spans.map(\n",
    "    lambda x: get_new_right(\n",
    "        pd.concat([\n",
    "            test_extractor.get_header_words(test_words, 18),\n",
    "            test_extractor.get_table_words(test_words, 18),\n",
    "        ]),\n",
    "        x[1]\n",
    "    )\n",
    ")\n",
    "crossing_right"
   ]
  },
  {
   "cell_type": "code",
   "execution_count": null,
   "id": "bb24358c",
   "metadata": {},
   "outputs": [],
   "source": [
    "test_col_spans.where(\n",
    "    crossing_right.isna(),\n",
    "    test_col_spans.combine(crossing_right, lambda x, y: (x[0], y))\n",
    ")"
   ]
  },
  {
   "cell_type": "code",
   "execution_count": null,
   "id": "6aa6e576",
   "metadata": {
    "scrolled": false
   },
   "outputs": [],
   "source": [
    "test_col_spans"
   ]
  },
  {
   "cell_type": "code",
   "execution_count": null,
   "id": "7ac12ed1",
   "metadata": {},
   "outputs": [],
   "source": [
    "init_left = test_extractor.field_labels.map(\n",
    "    lambda x: get_coordinate(test_extractor.tablemap, x, \"Left\", \"Left_Default\")\n",
    ")\n",
    "init_right = pd.concat(\n",
    "    [\n",
    "        init_left.iloc[1:],\n",
    "        pd.Series([1]),\n",
    "    ],\n",
    "    ignore_index=True,\n",
    ")"
   ]
  },
  {
   "cell_type": "code",
   "execution_count": null,
   "id": "d0071471",
   "metadata": {},
   "outputs": [],
   "source": [
    "crossing_right = init_right.map(\n",
    "    lambda x: find_new_right(\n",
    "        pd.concat([\n",
    "            test_extractor.get_header_words(test_words, 25),\n",
    "            test_extractor.get_table_words(test_words, 25),\n",
    "        ]),\n",
    "        x\n",
    "    )\n",
    ")\n",
    "crossing_right"
   ]
  },
  {
   "cell_type": "code",
   "execution_count": null,
   "id": "68b286ed",
   "metadata": {},
   "outputs": [],
   "source": [
    "new_right = init_right.where(\n",
    "    crossing_right.isna(),\n",
    "    crossing_right,\n",
    ")\n",
    "new_right"
   ]
  },
  {
   "cell_type": "code",
   "execution_count": null,
   "id": "662a8a83",
   "metadata": {},
   "outputs": [],
   "source": [
    "init_left"
   ]
  },
  {
   "cell_type": "code",
   "execution_count": null,
   "id": "41962d68",
   "metadata": {},
   "outputs": [],
   "source": [
    "init_left.iloc[1:] = new_right.iloc[:-1]"
   ]
  },
  {
   "cell_type": "code",
   "execution_count": null,
   "id": "9326475c",
   "metadata": {},
   "outputs": [],
   "source": [
    "init_left"
   ]
  },
  {
   "cell_type": "code",
   "execution_count": null,
   "id": "361437a3",
   "metadata": {},
   "outputs": [],
   "source": [
    "col_spans = init_left.combine(new_right, lambda x, y: (x, y))"
   ]
  },
  {
   "cell_type": "code",
   "execution_count": null,
   "id": "e093d87f",
   "metadata": {},
   "outputs": [],
   "source": [
    "test_lines.loc[\n",
    "    test_lines[\"Text\"].str.contains(\"\\(a\\)\\s*Na\")\n",
    "]"
   ]
  },
  {
   "cell_type": "code",
   "execution_count": null,
   "id": "13004b91",
   "metadata": {},
   "outputs": [],
   "source": [
    "test_lines.loc[\n",
    "    test_lines[\"Text\"].str.contains(\"A\")\n",
    "    & test_lines[\"Page\"].between(34, 34),\n",
    "    [\"Text\", \"Height\", \"Top\", \"Bottom\"]\n",
    "]"
   ]
  },
  {
   "cell_type": "code",
   "execution_count": null,
   "id": "bb0171da",
   "metadata": {},
   "outputs": [],
   "source": [
    "page_words = pd.concat([\n",
    "    test_extractor.get_header_words(test_words, TEST_PAGE),\n",
    "    table_words\n",
    "])"
   ]
  },
  {
   "cell_type": "code",
   "execution_count": null,
   "id": "d29dc8a4",
   "metadata": {},
   "outputs": [],
   "source": [
    "page_word_clusters = cluster_words(page_words, page_words[\"Height\"].min(), \"Midpoint_Y\")"
   ]
  },
  {
   "cell_type": "code",
   "execution_count": null,
   "id": "2e157374",
   "metadata": {},
   "outputs": [],
   "source": [
    "len(page_word_clusters)"
   ]
  },
  {
   "cell_type": "code",
   "execution_count": null,
   "id": "8d9ee987",
   "metadata": {},
   "outputs": [],
   "source": [
    "test_cluster = page_word_clusters[0].sort_values(by=\"Left\")"
   ]
  },
  {
   "cell_type": "code",
   "execution_count": null,
   "id": "36d6103f",
   "metadata": {},
   "outputs": [],
   "source": [
    "page_word_clusters[0]"
   ]
  },
  {
   "cell_type": "code",
   "execution_count": null,
   "id": "2fadf879",
   "metadata": {},
   "outputs": [],
   "source": [
    "def make_interval(left, right):\n",
    "    try:\n",
    "        return pd.Interval(left, right, closed=\"both\")\n",
    "    except ValueError:\n",
    "        pass"
   ]
  },
  {
   "cell_type": "code",
   "execution_count": null,
   "id": "f34ca56f",
   "metadata": {},
   "outputs": [],
   "source": [
    "def get_whitespace(cluster):\n",
    "    sorted_cluster = cluster.sort_values(by=\"Left\")\n",
    "    left = pd.concat(\n",
    "        [\n",
    "            pd.Series([0]),\n",
    "            sorted_cluster[\"Right\"],\n",
    "        ],\n",
    "        ignore_index=True\n",
    "    )\n",
    "    right = pd.concat(\n",
    "        [\n",
    "            sorted_cluster[\"Left\"],\n",
    "            pd.Series([1]),\n",
    "        ],\n",
    "        ignore_index=True\n",
    "    )\n",
    "    return left.combine(right, make_interval).dropna()"
   ]
  },
  {
   "cell_type": "code",
   "execution_count": null,
   "id": "63395ca9",
   "metadata": {},
   "outputs": [],
   "source": [
    "whitespaces = get_whitespace(page_word_clusters[0])\n",
    "whitespaces"
   ]
  },
  {
   "cell_type": "code",
   "execution_count": null,
   "id": "17531d60",
   "metadata": {},
   "outputs": [],
   "source": [
    "all_whitespace = []\n",
    "for cluster in page_word_clusters:\n",
    "    all_whitespace.extend(get_whitespace(cluster))\n",
    "all_whitespace = pd.Series(all_whitespace).sort_values()"
   ]
  },
  {
   "cell_type": "code",
   "execution_count": null,
   "id": "d5c455ef",
   "metadata": {},
   "outputs": [],
   "source": [
    "curr_interval = all_whitespace.iloc[0]\n",
    "intervals = []\n",
    "rights = [all_whitespace.iloc[0].right]\n",
    "for idx, val in all_whitespace.iloc[1:].items():\n",
    "    #print(curr_interval, val)\n",
    "    if val.overlaps(curr_interval):\n",
    "        curr_interval = pd.Interval(\n",
    "            max(curr_interval.left, val.left),\n",
    "            min(val.right, curr_interval.right),\n",
    "            closed=\"both\",\n",
    "        )\n",
    "    else:\n",
    "        intervals.append(curr_interval)\n",
    "        overlapping_rights = [i for i in rights if i in val]\n",
    "        if overlapping_rights:\n",
    "            curr_interval = pd.Interval(\n",
    "                val.left,\n",
    "                min(overlapping_rights)\n",
    "            )\n",
    "        else:\n",
    "            curr_interval = val\n",
    "    rights.append(val.right)\n",
    "intervals.append(curr_interval)\n",
    "intervals"
   ]
  },
  {
   "cell_type": "code",
   "execution_count": null,
   "id": "36548063",
   "metadata": {
    "scrolled": false
   },
   "outputs": [],
   "source": [
    "intervals"
   ]
  },
  {
   "cell_type": "code",
   "execution_count": null,
   "id": "d9476de1",
   "metadata": {},
   "outputs": [],
   "source": [
    "page_words.loc[\n",
    "    page_words[\"Left\"].between(intervals[1].left, intervals[1].right, inclusive=\"neither\")\n",
    "    | page_words[\"Right\"].between(intervals[1].left, intervals[1].right, inclusive=\"neither\")\n",
    "]"
   ]
  },
  {
   "cell_type": "code",
   "execution_count": null,
   "id": "230e1ed7",
   "metadata": {},
   "outputs": [],
   "source": [
    "all_whitespace.head(50)"
   ]
  },
  {
   "cell_type": "code",
   "execution_count": null,
   "id": "f083fe0f",
   "metadata": {},
   "outputs": [],
   "source": [
    "page_words[\"Right\"].min()"
   ]
  },
  {
   "cell_type": "code",
   "execution_count": null,
   "id": "8ca7cb1e",
   "metadata": {},
   "outputs": [],
   "source": [
    "2 in pd.Interval(1,4)"
   ]
  },
  {
   "cell_type": "code",
   "execution_count": null,
   "id": "3956b549",
   "metadata": {},
   "outputs": [],
   "source": [
    "min([])"
   ]
  },
  {
   "cell_type": "code",
   "execution_count": null,
   "id": "0448a625",
   "metadata": {},
   "outputs": [],
   "source": [
    "interval = pd.Interval(0, 1, closed=\"both\")\n",
    "intervals = []\n",
    "for idx, word in page_words.sort_values(by=\"Left\").iterrows():\n",
    "    if word[\"Left\"] in interval:\n",
    "        intervals.append(\n",
    "            pd.Interval(interval.left, word[\"Left\"], closed=\"both\")\n",
    "        )\n",
    "        interval = pd.Interval(word[\"Right\"], interval.right, closed=\"both\")\n",
    "intervals"
   ]
  },
  {
   "cell_type": "code",
   "execution_count": null,
   "id": "fbc6cf84",
   "metadata": {},
   "outputs": [],
   "source": [
    "test_extractor.get_table_top(test_words, TEST_PAGE)"
   ]
  },
  {
   "cell_type": "code",
   "execution_count": null,
   "id": "73e8e826",
   "metadata": {},
   "outputs": [],
   "source": [
    "word_clusters[0]"
   ]
  },
  {
   "cell_type": "code",
   "execution_count": null,
   "id": "12b04c72",
   "metadata": {},
   "outputs": [],
   "source": []
  }
 ],
 "metadata": {
  "kernelspec": {
   "display_name": "Python 3 (ipykernel)",
   "language": "python",
   "name": "python3"
  },
  "language_info": {
   "codemirror_mode": {
    "name": "ipython",
    "version": 3
   },
   "file_extension": ".py",
   "mimetype": "text/x-python",
   "name": "python",
   "nbconvert_exporter": "python",
   "pygments_lexer": "ipython3",
   "version": "3.10.6"
  }
 },
 "nbformat": 4,
 "nbformat_minor": 5
}
