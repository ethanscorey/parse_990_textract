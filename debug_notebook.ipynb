{
 "cells": [
  {
   "cell_type": "markdown",
   "id": "71227434",
   "metadata": {},
   "source": [
    "# Parsing Debug Notebook\n",
    "\n",
    "This somewhat messy notebook makes it easier to debug the parser, because we can just rerun the cells needed to set up the debugging process with various parameters."
   ]
  },
  {
   "cell_type": "code",
   "execution_count": 1,
   "id": "ea9e674f",
   "metadata": {},
   "outputs": [],
   "source": [
    "import json\n",
    "import math\n",
    "import re\n",
    "from pathlib import Path\n",
    "\n",
    "import boto3\n",
    "import pandas as pd\n",
    "\n",
    "from parse_990_textract.bucket import open_df\n",
    "from parse_990_textract.filing import create_roadmap, extract_from_roadmap\n",
    "from parse_990_textract.models import BoundingBox, TableExtractor\n",
    "from parse_990_textract.parse import create_extractors, find_item, find_pages\n",
    "from parse_990_textract.postprocessing import clean_filing, clean_f_i, clean_f_ii, clean_f_iii, postprocess\n",
    "from parse_990_textract.setup import load_extractor_df\n",
    "from parse_990_textract.table import extract_table_data, find_table_pages, create_tablemap\n",
    "from parse_990_textract.utils import get_coordinate, get_regex, cluster_words, columnize, cluster_x"
   ]
  },
  {
   "cell_type": "code",
   "execution_count": 2,
   "id": "af03fdc2",
   "metadata": {},
   "outputs": [],
   "source": [
    "bucket = boto3.resource(\"s3\").Bucket(\"s3-ocr-990s-demo\")"
   ]
  },
  {
   "cell_type": "code",
   "execution_count": 3,
   "id": "f95aee98",
   "metadata": {
    "scrolled": true
   },
   "outputs": [
    {
     "data": {
      "text/html": [
       "<div>\n",
       "<style scoped>\n",
       "    .dataframe tbody tr th:only-of-type {\n",
       "        vertical-align: middle;\n",
       "    }\n",
       "\n",
       "    .dataframe tbody tr th {\n",
       "        vertical-align: top;\n",
       "    }\n",
       "\n",
       "    .dataframe thead th {\n",
       "        text-align: right;\n",
       "    }\n",
       "</style>\n",
       "<table border=\"1\" class=\"dataframe\">\n",
       "  <thead>\n",
       "    <tr style=\"text-align: right;\">\n",
       "      <th></th>\n",
       "      <th>pdf_key</th>\n",
       "      <th>other_expenses_c_mgmt_general</th>\n",
       "      <th>payments_affiliates_total</th>\n",
       "      <th>other_expenses_d_prog_service</th>\n",
       "      <th>total_revenue</th>\n",
       "      <th>fees_for_lobbying_services_total</th>\n",
       "      <th>other_employee_benefits_fundraising</th>\n",
       "      <th>total_fundraising_expenses</th>\n",
       "      <th>compensation_officers_prog_service</th>\n",
       "      <th>fees_for_mgmt_services_total</th>\n",
       "      <th>...</th>\n",
       "      <th>travel_total</th>\n",
       "      <th>pension_plan_acc_contrib_prog_service</th>\n",
       "      <th>advertising_promotion_mgmt_general</th>\n",
       "      <th>pension_plan_acc_contrib_mgmt_general</th>\n",
       "      <th>compensation_disq_persons_total</th>\n",
       "      <th>other_salaries_wages_mgmt_general</th>\n",
       "      <th>office_expenses_mgmt_general</th>\n",
       "      <th>fees_for_other_services_fundraising</th>\n",
       "      <th>total_number_other_recipient_foreign_orgs_entities</th>\n",
       "      <th>activities_per_region_totals_total_expenditure</th>\n",
       "    </tr>\n",
       "    <tr>\n",
       "      <th>job_id</th>\n",
       "      <th></th>\n",
       "      <th></th>\n",
       "      <th></th>\n",
       "      <th></th>\n",
       "      <th></th>\n",
       "      <th></th>\n",
       "      <th></th>\n",
       "      <th></th>\n",
       "      <th></th>\n",
       "      <th></th>\n",
       "      <th></th>\n",
       "      <th></th>\n",
       "      <th></th>\n",
       "      <th></th>\n",
       "      <th></th>\n",
       "      <th></th>\n",
       "      <th></th>\n",
       "      <th></th>\n",
       "      <th></th>\n",
       "      <th></th>\n",
       "      <th></th>\n",
       "    </tr>\n",
       "  </thead>\n",
       "  <tbody>\n",
       "    <tr>\n",
       "      <th>0f908c03383d094f6c1386749189f281d188d5ea0cd64c4e424a5b1aae1650c4</th>\n",
       "      <td>EIN_760733035_YEAR_2009_FORMTYPE_990.pdf</td>\n",
       "      <td></td>\n",
       "      <td></td>\n",
       "      <td>33000.0</td>\n",
       "      <td>1415024</td>\n",
       "      <td></td>\n",
       "      <td></td>\n",
       "      <td>4503.0</td>\n",
       "      <td></td>\n",
       "      <td></td>\n",
       "      <td>...</td>\n",
       "      <td>18307.0</td>\n",
       "      <td></td>\n",
       "      <td></td>\n",
       "      <td></td>\n",
       "      <td></td>\n",
       "      <td></td>\n",
       "      <td></td>\n",
       "      <td></td>\n",
       "      <td></td>\n",
       "      <td></td>\n",
       "    </tr>\n",
       "    <tr>\n",
       "      <th>bcc635fa2b088a72666c3d534d0221a1c1294f2974a6a304679654069e5cbcdc</th>\n",
       "      <td>EIN_363235550_YEAR_2009_FORMTYPE_990.pdf</td>\n",
       "      <td></td>\n",
       "      <td></td>\n",
       "      <td>15832.0</td>\n",
       "      <td>9899921</td>\n",
       "      <td></td>\n",
       "      <td>27161.0</td>\n",
       "      <td>597789.0</td>\n",
       "      <td>295722.0</td>\n",
       "      <td></td>\n",
       "      <td>...</td>\n",
       "      <td>677722.0</td>\n",
       "      <td>34261.0</td>\n",
       "      <td>30</td>\n",
       "      <td>3462.0</td>\n",
       "      <td></td>\n",
       "      <td>159156.0</td>\n",
       "      <td>48381.0</td>\n",
       "      <td>22350.0</td>\n",
       "      <td></td>\n",
       "      <td></td>\n",
       "    </tr>\n",
       "    <tr>\n",
       "      <th>f0545c488bd7ab7e775c25cfa7d050a3ff1f84dea9a3371b8fef236bd3d0624b</th>\n",
       "      <td>EIN_223134995_YEAR_2010_FORMTYPE_990.pdf</td>\n",
       "      <td>0.0</td>\n",
       "      <td></td>\n",
       "      <td>10823.0</td>\n",
       "      <td>3370595</td>\n",
       "      <td></td>\n",
       "      <td>12776.0</td>\n",
       "      <td>263765.0</td>\n",
       "      <td>148689.0</td>\n",
       "      <td>2250.0</td>\n",
       "      <td>...</td>\n",
       "      <td>197092.0</td>\n",
       "      <td></td>\n",
       "      <td>127381</td>\n",
       "      <td></td>\n",
       "      <td>396855.0</td>\n",
       "      <td>103312.0</td>\n",
       "      <td>11723.0</td>\n",
       "      <td>23021.0</td>\n",
       "      <td></td>\n",
       "      <td></td>\n",
       "    </tr>\n",
       "    <tr>\n",
       "      <th>4f2b05354be9fb6483976694a1ed0494c7c387631c15130bdaaa1a85a1cf4f82</th>\n",
       "      <td>EIN_264320885_YEAR_2009_FORMTYPE_990.pdf</td>\n",
       "      <td></td>\n",
       "      <td></td>\n",
       "      <td></td>\n",
       "      <td>46117</td>\n",
       "      <td></td>\n",
       "      <td></td>\n",
       "      <td>669.0</td>\n",
       "      <td></td>\n",
       "      <td></td>\n",
       "      <td>...</td>\n",
       "      <td></td>\n",
       "      <td></td>\n",
       "      <td></td>\n",
       "      <td></td>\n",
       "      <td></td>\n",
       "      <td></td>\n",
       "      <td>458.0</td>\n",
       "      <td></td>\n",
       "      <td></td>\n",
       "      <td></td>\n",
       "    </tr>\n",
       "    <tr>\n",
       "      <th>1dd5dc37f4e99e27668c769d04d0f72273a6c582d504bf0b88d35d5a4c15c1be</th>\n",
       "      <td>EIN_581943161_YEAR_2009_FORMTYPE_990.pdf</td>\n",
       "      <td>581.0</td>\n",
       "      <td></td>\n",
       "      <td>0.0</td>\n",
       "      <td>583209</td>\n",
       "      <td></td>\n",
       "      <td>2521.0</td>\n",
       "      <td>14409.0</td>\n",
       "      <td>298484.0</td>\n",
       "      <td></td>\n",
       "      <td>...</td>\n",
       "      <td>7233.0</td>\n",
       "      <td></td>\n",
       "      <td></td>\n",
       "      <td></td>\n",
       "      <td></td>\n",
       "      <td></td>\n",
       "      <td>4010.0</td>\n",
       "      <td>0.0</td>\n",
       "      <td></td>\n",
       "      <td></td>\n",
       "    </tr>\n",
       "  </tbody>\n",
       "</table>\n",
       "<p>5 rows × 23 columns</p>\n",
       "</div>"
      ],
      "text/plain": [
       "                                                                                     pdf_key  \\\n",
       "job_id                                                                                         \n",
       "0f908c03383d094f6c1386749189f281d188d5ea0cd64c4...  EIN_760733035_YEAR_2009_FORMTYPE_990.pdf   \n",
       "bcc635fa2b088a72666c3d534d0221a1c1294f2974a6a30...  EIN_363235550_YEAR_2009_FORMTYPE_990.pdf   \n",
       "f0545c488bd7ab7e775c25cfa7d050a3ff1f84dea9a3371...  EIN_223134995_YEAR_2010_FORMTYPE_990.pdf   \n",
       "4f2b05354be9fb6483976694a1ed0494c7c387631c15130...  EIN_264320885_YEAR_2009_FORMTYPE_990.pdf   \n",
       "1dd5dc37f4e99e27668c769d04d0f72273a6c582d504bf0...  EIN_581943161_YEAR_2009_FORMTYPE_990.pdf   \n",
       "\n",
       "                                                   other_expenses_c_mgmt_general  \\\n",
       "job_id                                                                             \n",
       "0f908c03383d094f6c1386749189f281d188d5ea0cd64c4...                                 \n",
       "bcc635fa2b088a72666c3d534d0221a1c1294f2974a6a30...                                 \n",
       "f0545c488bd7ab7e775c25cfa7d050a3ff1f84dea9a3371...                           0.0   \n",
       "4f2b05354be9fb6483976694a1ed0494c7c387631c15130...                                 \n",
       "1dd5dc37f4e99e27668c769d04d0f72273a6c582d504bf0...                         581.0   \n",
       "\n",
       "                                                   payments_affiliates_total  \\\n",
       "job_id                                                                         \n",
       "0f908c03383d094f6c1386749189f281d188d5ea0cd64c4...                             \n",
       "bcc635fa2b088a72666c3d534d0221a1c1294f2974a6a30...                             \n",
       "f0545c488bd7ab7e775c25cfa7d050a3ff1f84dea9a3371...                             \n",
       "4f2b05354be9fb6483976694a1ed0494c7c387631c15130...                             \n",
       "1dd5dc37f4e99e27668c769d04d0f72273a6c582d504bf0...                             \n",
       "\n",
       "                                                   other_expenses_d_prog_service  \\\n",
       "job_id                                                                             \n",
       "0f908c03383d094f6c1386749189f281d188d5ea0cd64c4...                       33000.0   \n",
       "bcc635fa2b088a72666c3d534d0221a1c1294f2974a6a30...                       15832.0   \n",
       "f0545c488bd7ab7e775c25cfa7d050a3ff1f84dea9a3371...                       10823.0   \n",
       "4f2b05354be9fb6483976694a1ed0494c7c387631c15130...                                 \n",
       "1dd5dc37f4e99e27668c769d04d0f72273a6c582d504bf0...                           0.0   \n",
       "\n",
       "                                                    total_revenue  \\\n",
       "job_id                                                              \n",
       "0f908c03383d094f6c1386749189f281d188d5ea0cd64c4...        1415024   \n",
       "bcc635fa2b088a72666c3d534d0221a1c1294f2974a6a30...        9899921   \n",
       "f0545c488bd7ab7e775c25cfa7d050a3ff1f84dea9a3371...        3370595   \n",
       "4f2b05354be9fb6483976694a1ed0494c7c387631c15130...          46117   \n",
       "1dd5dc37f4e99e27668c769d04d0f72273a6c582d504bf0...         583209   \n",
       "\n",
       "                                                   fees_for_lobbying_services_total  \\\n",
       "job_id                                                                                \n",
       "0f908c03383d094f6c1386749189f281d188d5ea0cd64c4...                                    \n",
       "bcc635fa2b088a72666c3d534d0221a1c1294f2974a6a30...                                    \n",
       "f0545c488bd7ab7e775c25cfa7d050a3ff1f84dea9a3371...                                    \n",
       "4f2b05354be9fb6483976694a1ed0494c7c387631c15130...                                    \n",
       "1dd5dc37f4e99e27668c769d04d0f72273a6c582d504bf0...                                    \n",
       "\n",
       "                                                   other_employee_benefits_fundraising  \\\n",
       "job_id                                                                                   \n",
       "0f908c03383d094f6c1386749189f281d188d5ea0cd64c4...                                       \n",
       "bcc635fa2b088a72666c3d534d0221a1c1294f2974a6a30...                             27161.0   \n",
       "f0545c488bd7ab7e775c25cfa7d050a3ff1f84dea9a3371...                             12776.0   \n",
       "4f2b05354be9fb6483976694a1ed0494c7c387631c15130...                                       \n",
       "1dd5dc37f4e99e27668c769d04d0f72273a6c582d504bf0...                              2521.0   \n",
       "\n",
       "                                                   total_fundraising_expenses  \\\n",
       "job_id                                                                          \n",
       "0f908c03383d094f6c1386749189f281d188d5ea0cd64c4...                     4503.0   \n",
       "bcc635fa2b088a72666c3d534d0221a1c1294f2974a6a30...                   597789.0   \n",
       "f0545c488bd7ab7e775c25cfa7d050a3ff1f84dea9a3371...                   263765.0   \n",
       "4f2b05354be9fb6483976694a1ed0494c7c387631c15130...                      669.0   \n",
       "1dd5dc37f4e99e27668c769d04d0f72273a6c582d504bf0...                    14409.0   \n",
       "\n",
       "                                                   compensation_officers_prog_service  \\\n",
       "job_id                                                                                  \n",
       "0f908c03383d094f6c1386749189f281d188d5ea0cd64c4...                                      \n",
       "bcc635fa2b088a72666c3d534d0221a1c1294f2974a6a30...                           295722.0   \n",
       "f0545c488bd7ab7e775c25cfa7d050a3ff1f84dea9a3371...                           148689.0   \n",
       "4f2b05354be9fb6483976694a1ed0494c7c387631c15130...                                      \n",
       "1dd5dc37f4e99e27668c769d04d0f72273a6c582d504bf0...                           298484.0   \n",
       "\n",
       "                                                   fees_for_mgmt_services_total  \\\n",
       "job_id                                                                            \n",
       "0f908c03383d094f6c1386749189f281d188d5ea0cd64c4...                                \n",
       "bcc635fa2b088a72666c3d534d0221a1c1294f2974a6a30...                                \n",
       "f0545c488bd7ab7e775c25cfa7d050a3ff1f84dea9a3371...                       2250.0   \n",
       "4f2b05354be9fb6483976694a1ed0494c7c387631c15130...                                \n",
       "1dd5dc37f4e99e27668c769d04d0f72273a6c582d504bf0...                                \n",
       "\n",
       "                                                    ... travel_total  \\\n",
       "job_id                                              ...                \n",
       "0f908c03383d094f6c1386749189f281d188d5ea0cd64c4...  ...      18307.0   \n",
       "bcc635fa2b088a72666c3d534d0221a1c1294f2974a6a30...  ...     677722.0   \n",
       "f0545c488bd7ab7e775c25cfa7d050a3ff1f84dea9a3371...  ...     197092.0   \n",
       "4f2b05354be9fb6483976694a1ed0494c7c387631c15130...  ...                \n",
       "1dd5dc37f4e99e27668c769d04d0f72273a6c582d504bf0...  ...       7233.0   \n",
       "\n",
       "                                                   pension_plan_acc_contrib_prog_service  \\\n",
       "job_id                                                                                     \n",
       "0f908c03383d094f6c1386749189f281d188d5ea0cd64c4...                                         \n",
       "bcc635fa2b088a72666c3d534d0221a1c1294f2974a6a30...                               34261.0   \n",
       "f0545c488bd7ab7e775c25cfa7d050a3ff1f84dea9a3371...                                         \n",
       "4f2b05354be9fb6483976694a1ed0494c7c387631c15130...                                         \n",
       "1dd5dc37f4e99e27668c769d04d0f72273a6c582d504bf0...                                         \n",
       "\n",
       "                                                   advertising_promotion_mgmt_general  \\\n",
       "job_id                                                                                  \n",
       "0f908c03383d094f6c1386749189f281d188d5ea0cd64c4...                                      \n",
       "bcc635fa2b088a72666c3d534d0221a1c1294f2974a6a30...                                 30   \n",
       "f0545c488bd7ab7e775c25cfa7d050a3ff1f84dea9a3371...                             127381   \n",
       "4f2b05354be9fb6483976694a1ed0494c7c387631c15130...                                      \n",
       "1dd5dc37f4e99e27668c769d04d0f72273a6c582d504bf0...                                      \n",
       "\n",
       "                                                   pension_plan_acc_contrib_mgmt_general  \\\n",
       "job_id                                                                                     \n",
       "0f908c03383d094f6c1386749189f281d188d5ea0cd64c4...                                         \n",
       "bcc635fa2b088a72666c3d534d0221a1c1294f2974a6a30...                                3462.0   \n",
       "f0545c488bd7ab7e775c25cfa7d050a3ff1f84dea9a3371...                                         \n",
       "4f2b05354be9fb6483976694a1ed0494c7c387631c15130...                                         \n",
       "1dd5dc37f4e99e27668c769d04d0f72273a6c582d504bf0...                                         \n",
       "\n",
       "                                                   compensation_disq_persons_total  \\\n",
       "job_id                                                                               \n",
       "0f908c03383d094f6c1386749189f281d188d5ea0cd64c4...                                   \n",
       "bcc635fa2b088a72666c3d534d0221a1c1294f2974a6a30...                                   \n",
       "f0545c488bd7ab7e775c25cfa7d050a3ff1f84dea9a3371...                        396855.0   \n",
       "4f2b05354be9fb6483976694a1ed0494c7c387631c15130...                                   \n",
       "1dd5dc37f4e99e27668c769d04d0f72273a6c582d504bf0...                                   \n",
       "\n",
       "                                                   other_salaries_wages_mgmt_general  \\\n",
       "job_id                                                                                 \n",
       "0f908c03383d094f6c1386749189f281d188d5ea0cd64c4...                                     \n",
       "bcc635fa2b088a72666c3d534d0221a1c1294f2974a6a30...                          159156.0   \n",
       "f0545c488bd7ab7e775c25cfa7d050a3ff1f84dea9a3371...                          103312.0   \n",
       "4f2b05354be9fb6483976694a1ed0494c7c387631c15130...                                     \n",
       "1dd5dc37f4e99e27668c769d04d0f72273a6c582d504bf0...                                     \n",
       "\n",
       "                                                   office_expenses_mgmt_general  \\\n",
       "job_id                                                                            \n",
       "0f908c03383d094f6c1386749189f281d188d5ea0cd64c4...                                \n",
       "bcc635fa2b088a72666c3d534d0221a1c1294f2974a6a30...                      48381.0   \n",
       "f0545c488bd7ab7e775c25cfa7d050a3ff1f84dea9a3371...                      11723.0   \n",
       "4f2b05354be9fb6483976694a1ed0494c7c387631c15130...                        458.0   \n",
       "1dd5dc37f4e99e27668c769d04d0f72273a6c582d504bf0...                       4010.0   \n",
       "\n",
       "                                                   fees_for_other_services_fundraising  \\\n",
       "job_id                                                                                   \n",
       "0f908c03383d094f6c1386749189f281d188d5ea0cd64c4...                                       \n",
       "bcc635fa2b088a72666c3d534d0221a1c1294f2974a6a30...                             22350.0   \n",
       "f0545c488bd7ab7e775c25cfa7d050a3ff1f84dea9a3371...                             23021.0   \n",
       "4f2b05354be9fb6483976694a1ed0494c7c387631c15130...                                       \n",
       "1dd5dc37f4e99e27668c769d04d0f72273a6c582d504bf0...                                 0.0   \n",
       "\n",
       "                                                   total_number_other_recipient_foreign_orgs_entities  \\\n",
       "job_id                                                                                                  \n",
       "0f908c03383d094f6c1386749189f281d188d5ea0cd64c4...                                                      \n",
       "bcc635fa2b088a72666c3d534d0221a1c1294f2974a6a30...                                                      \n",
       "f0545c488bd7ab7e775c25cfa7d050a3ff1f84dea9a3371...                                                      \n",
       "4f2b05354be9fb6483976694a1ed0494c7c387631c15130...                                                      \n",
       "1dd5dc37f4e99e27668c769d04d0f72273a6c582d504bf0...                                                      \n",
       "\n",
       "                                                   activities_per_region_totals_total_expenditure  \n",
       "job_id                                                                                             \n",
       "0f908c03383d094f6c1386749189f281d188d5ea0cd64c4...                                                 \n",
       "bcc635fa2b088a72666c3d534d0221a1c1294f2974a6a30...                                                 \n",
       "f0545c488bd7ab7e775c25cfa7d050a3ff1f84dea9a3371...                                                 \n",
       "4f2b05354be9fb6483976694a1ed0494c7c387631c15130...                                                 \n",
       "1dd5dc37f4e99e27668c769d04d0f72273a6c582d504bf0...                                                 \n",
       "\n",
       "[5 rows x 23 columns]"
      ]
     },
     "execution_count": 3,
     "metadata": {},
     "output_type": "execute_result"
    }
   ],
   "source": [
    "validation_data = pd.read_csv(\"validation_data.csv\", index_col=\"job_id\").fillna(\"\")\n",
    "validation_data.head()"
   ]
  },
  {
   "cell_type": "code",
   "execution_count": 4,
   "id": "4da6923a",
   "metadata": {},
   "outputs": [],
   "source": [
    "extractor_df = load_extractor_df(\"990_extractors.csv\")\n",
    "roadmap_df = load_extractor_df(\"990_roadmap.csv\")\n",
    "schedule_f_tablemap_df = load_extractor_df(\"schedule_f_table_roadmap.csv\")\n",
    "schedule_f_table_extractor_df = pd.read_csv(\"schedule_f_table_extractors.csv\")\n",
    "schedule_f_row_extractor_df = pd.read_csv(\"schedule_f_row_extractors.csv\")"
   ]
  },
  {
   "cell_type": "code",
   "execution_count": 5,
   "id": "e87e1a8f",
   "metadata": {},
   "outputs": [],
   "source": [
    "PART_I_HEADER = r\"\\(a\\)\\s*Region|\\(d\\)\\s*Activities|\\(e\\)\\s*If activity|\\(f\\)Total expenditures\"\n",
    "PART_II_HEADER = r\"\\(b\\)\\s*IRS code|\\(c\\)\\s*Region|\\(d\\)\\s*Purpose|\\(f\\)\\s*Manner|\\(h\\)\\s*Description\"\n",
    "PART_III_HEADER = r\"\\(b\\)\\s*Region|\\(e\\)\\s*Manner of cash|\\(h\\)\\s*Method of va\"\n",
    "PART_I_TABLE_NAME = r\"Activities per Region\"\n",
    "PART_II_TABLE_NAME = r\"Grants to Organizations Outside the United States\"\n",
    "PART_III_TABLE_NAME = r\"Grants to Individuals Outside the United States\""
   ]
  },
  {
   "cell_type": "code",
   "execution_count": 6,
   "id": "de001784",
   "metadata": {
    "scrolled": false
   },
   "outputs": [
    {
     "name": "stdout",
     "output_type": "stream",
     "text": [
      "0\n",
      "0f908c03383d094f6c1386749189f281d188d5ea0cd64c4e424a5b1aae1650c4\n",
      "EIN_760733035_YEAR_2009_FORMTYPE_990.pdf\n"
     ]
    },
    {
     "name": "stderr",
     "output_type": "stream",
     "text": [
      "No match for year_formation in L Year of Formation M State of legal domicile\n",
      "No match for state_of_domicile in M State of legal domicile\n"
     ]
    },
    {
     "name": "stdout",
     "output_type": "stream",
     "text": [
      "1\n",
      "bcc635fa2b088a72666c3d534d0221a1c1294f2974a6a304679654069e5cbcdc\n",
      "EIN_363235550_YEAR_2009_FORMTYPE_990.pdf\n"
     ]
    },
    {
     "name": "stderr",
     "output_type": "stream",
     "text": [
      "No match for total_unrelated_biz_revenue in 7a NONE\n",
      "No match for net_unrelated_biz_taxable_revenue in 7b NONE\n",
      "No match for benefits_paid_members_expenses in NONE\n",
      "No match for professional_fundraising_fees_expenses in NONE\n",
      "No match for grants_foreign_individuals_govt_orgs_total in NONE\n",
      "No match for benefits_to_members_total in NONE\n",
      "No match for compensation_disq_persons_total in NONE\n",
      "No match for fees_for_mgmt_services_total in NONE\n",
      "No match for fees_for_lobbying_services_total in NONE\n",
      "No match for fees_for_fundraising_services_total in NONE\n",
      "No match for fees_for_investment_mgmt_services_total in NONE\n",
      "No match for royalties_total in NONE\n",
      "No match for entertainment_travel_govt_officials_total in NONE\n",
      "No match for interest_total in NONE\n",
      "No match for payments_affiliates_total in NONE\n"
     ]
    },
    {
     "name": "stdout",
     "output_type": "stream",
     "text": [
      "2\n",
      "f0545c488bd7ab7e775c25cfa7d050a3ff1f84dea9a3371b8fef236bd3d0624b\n",
      "EIN_223134995_YEAR_2010_FORMTYPE_990.pdf\n",
      "3\n",
      "4f2b05354be9fb6483976694a1ed0494c7c387631c15130bdaaa1a85a1cf4f82\n",
      "EIN_264320885_YEAR_2009_FORMTYPE_990.pdf\n",
      "4\n",
      "1dd5dc37f4e99e27668c769d04d0f72273a6c582d504bf0b88d35d5a4c15c1be\n",
      "EIN_581943161_YEAR_2009_FORMTYPE_990.pdf\n",
      "5\n",
      "5596f51a999ebbd4cb992f490ceaffcddbac9bce532b911997683ae6897c2797\n",
      "EIN_231352689_YEAR_2009_FORMTYPE_990.pdf\n"
     ]
    },
    {
     "ename": "NameError",
     "evalue": "name 'last_cluster_coords' is not defined",
     "output_type": "error",
     "traceback": [
      "\u001b[0;31m---------------------------------------------------------------------------\u001b[0m",
      "\u001b[0;31mNameError\u001b[0m                                 Traceback (most recent call last)",
      "Input \u001b[0;32mIn [6]\u001b[0m, in \u001b[0;36m<cell line: 7>\u001b[0;34m()\u001b[0m\n\u001b[1;32m     25\u001b[0m filing_rows\u001b[38;5;241m.\u001b[39mappend(row)\n\u001b[1;32m     27\u001b[0m pages \u001b[38;5;241m=\u001b[39m lines\u001b[38;5;241m.\u001b[39mgroupby(\u001b[38;5;124m\"\u001b[39m\u001b[38;5;124mPage\u001b[39m\u001b[38;5;124m\"\u001b[39m)\n\u001b[0;32m---> 29\u001b[0m part_i_table \u001b[38;5;241m=\u001b[39m \u001b[43mextract_table_data\u001b[49m\u001b[43m(\u001b[49m\n\u001b[1;32m     30\u001b[0m \u001b[43m    \u001b[49m\u001b[43mpages\u001b[49m\u001b[43m,\u001b[49m\u001b[43m \u001b[49m\u001b[43mlines\u001b[49m\u001b[43m,\u001b[49m\u001b[43m \u001b[49m\u001b[43mwords\u001b[49m\u001b[43m,\u001b[49m\u001b[43m \u001b[49m\u001b[43mPART_I_HEADER\u001b[49m\u001b[43m,\u001b[49m\u001b[43m \u001b[49m\u001b[43mPART_I_TABLE_NAME\u001b[49m\u001b[43m,\u001b[49m\u001b[43m \u001b[49m\n\u001b[1;32m     31\u001b[0m \u001b[43m    \u001b[49m\u001b[43mschedule_f_tablemap_df\u001b[49m\u001b[43m,\u001b[49m\u001b[43m \u001b[49m\u001b[43mschedule_f_table_extractor_df\u001b[49m\u001b[43m,\u001b[49m\u001b[43m \u001b[49m\u001b[43mschedule_f_row_extractor_df\u001b[49m\u001b[43m,\u001b[49m\n\u001b[1;32m     32\u001b[0m \u001b[43m\u001b[49m\u001b[43m)\u001b[49m\n\u001b[1;32m     33\u001b[0m part_i_table \u001b[38;5;241m=\u001b[39m postprocess(part_i_table, job_id, pdf_key, clean_f_i)\n\u001b[1;32m     34\u001b[0m \u001b[38;5;28;01mif\u001b[39;00m part_i_table \u001b[38;5;129;01mis\u001b[39;00m \u001b[38;5;129;01mnot\u001b[39;00m \u001b[38;5;28;01mNone\u001b[39;00m:\n",
      "File \u001b[0;32m~/parse_990_textract/parse_990_textract/table.py:64\u001b[0m, in \u001b[0;36mextract_table_data\u001b[0;34m(pages, lines, words, header, table_name, tablemap_df, table_extractor_df, row_extractor_df)\u001b[0m\n\u001b[1;32m     60\u001b[0m table \u001b[38;5;241m=\u001b[39m table_extractor_df\u001b[38;5;241m.\u001b[39mloc[\n\u001b[1;32m     61\u001b[0m     table_extractor_df[\u001b[38;5;124m\"\u001b[39m\u001b[38;5;124mtable\u001b[39m\u001b[38;5;124m\"\u001b[39m] \u001b[38;5;241m==\u001b[39m table_name\n\u001b[1;32m     62\u001b[0m ]\u001b[38;5;241m.\u001b[39miloc[\u001b[38;5;241m0\u001b[39m]\n\u001b[1;32m     63\u001b[0m \u001b[38;5;28;01mtry\u001b[39;00m:\n\u001b[0;32m---> 64\u001b[0m     rows \u001b[38;5;241m=\u001b[39m \u001b[43mtablemaps\u001b[49m\u001b[38;5;241;43m.\u001b[39;49m\u001b[43massign\u001b[49m\u001b[43m(\u001b[49m\n\u001b[1;32m     65\u001b[0m \u001b[43m        \u001b[49m\u001b[43mextractor\u001b[49m\u001b[38;5;241;43m=\u001b[39;49m\u001b[43mtablemaps\u001b[49m\u001b[43m[\u001b[49m\u001b[38;5;124;43m\"\u001b[39;49m\u001b[38;5;124;43mtablemap\u001b[39;49m\u001b[38;5;124;43m\"\u001b[39;49m\u001b[43m]\u001b[49m\u001b[38;5;241;43m.\u001b[39;49m\u001b[43mmap\u001b[49m\u001b[43m(\u001b[49m\n\u001b[1;32m     66\u001b[0m \u001b[43m            \u001b[49m\u001b[38;5;28;43;01mlambda\u001b[39;49;00m\u001b[43m \u001b[49m\u001b[43mtablemap\u001b[49m\u001b[43m:\u001b[49m\u001b[43m \u001b[49m\u001b[43mTableExtractor\u001b[49m\u001b[43m(\u001b[49m\n\u001b[1;32m     67\u001b[0m \u001b[43m                \u001b[49m\u001b[43mheader_top_label\u001b[49m\u001b[38;5;241;43m=\u001b[39;49m\u001b[43mtable\u001b[49m\u001b[43m[\u001b[49m\u001b[38;5;124;43m\"\u001b[39;49m\u001b[38;5;124;43mheader_top\u001b[39;49m\u001b[38;5;124;43m\"\u001b[39;49m\u001b[43m]\u001b[49m\u001b[43m,\u001b[49m\n\u001b[1;32m     68\u001b[0m \u001b[43m                \u001b[49m\u001b[43mtop_label\u001b[49m\u001b[38;5;241;43m=\u001b[39;49m\u001b[43mtable\u001b[49m\u001b[43m[\u001b[49m\u001b[38;5;124;43m\"\u001b[39;49m\u001b[38;5;124;43mtable_top\u001b[39;49m\u001b[38;5;124;43m\"\u001b[39;49m\u001b[43m]\u001b[49m\u001b[43m,\u001b[49m\n\u001b[1;32m     69\u001b[0m \u001b[43m                \u001b[49m\u001b[43mbottom_label\u001b[49m\u001b[38;5;241;43m=\u001b[39;49m\u001b[43mtable\u001b[49m\u001b[43m[\u001b[49m\u001b[38;5;124;43m\"\u001b[39;49m\u001b[38;5;124;43mtable_bottom\u001b[39;49m\u001b[38;5;124;43m\"\u001b[39;49m\u001b[43m]\u001b[49m\u001b[43m,\u001b[49m\n\u001b[1;32m     70\u001b[0m \u001b[43m                \u001b[49m\u001b[43mtablemap\u001b[49m\u001b[38;5;241;43m=\u001b[39;49m\u001b[43mtablemap\u001b[49m\u001b[43m,\u001b[49m\n\u001b[1;32m     71\u001b[0m \u001b[43m                \u001b[49m\u001b[43mfields\u001b[49m\u001b[38;5;241;43m=\u001b[39;49m\u001b[43mtable_row_extractors\u001b[49m\u001b[43m[\u001b[49m\u001b[38;5;124;43m\"\u001b[39;49m\u001b[38;5;124;43mfield\u001b[39;49m\u001b[38;5;124;43m\"\u001b[39;49m\u001b[43m]\u001b[49m\u001b[38;5;241;43m.\u001b[39;49m\u001b[43mreset_index\u001b[49m\u001b[43m(\u001b[49m\n\u001b[1;32m     72\u001b[0m \u001b[43m                    \u001b[49m\u001b[43mdrop\u001b[49m\u001b[38;5;241;43m=\u001b[39;49m\u001b[38;5;28;43;01mTrue\u001b[39;49;00m\n\u001b[1;32m     73\u001b[0m \u001b[43m                \u001b[49m\u001b[43m)\u001b[49m\u001b[43m,\u001b[49m\n\u001b[1;32m     74\u001b[0m \u001b[43m                \u001b[49m\u001b[43mfield_labels\u001b[49m\u001b[38;5;241;43m=\u001b[39;49m\u001b[43mtable_row_extractors\u001b[49m\u001b[43m[\u001b[49m\u001b[38;5;124;43m\"\u001b[39;49m\u001b[38;5;124;43mcol_left\u001b[39;49m\u001b[38;5;124;43m\"\u001b[39;49m\u001b[43m]\u001b[49m\u001b[38;5;241;43m.\u001b[39;49m\u001b[43mreset_index\u001b[49m\u001b[43m(\u001b[49m\n\u001b[1;32m     75\u001b[0m \u001b[43m                    \u001b[49m\u001b[43mdrop\u001b[49m\u001b[38;5;241;43m=\u001b[39;49m\u001b[38;5;28;43;01mTrue\u001b[39;49;00m\n\u001b[1;32m     76\u001b[0m \u001b[43m                \u001b[49m\u001b[43m)\u001b[49m\u001b[43m,\u001b[49m\n\u001b[1;32m     77\u001b[0m \u001b[43m            \u001b[49m\u001b[43m)\u001b[49m\u001b[43m,\u001b[49m\n\u001b[1;32m     78\u001b[0m \u001b[43m        \u001b[49m\u001b[43m)\u001b[49m\u001b[43m,\u001b[49m\n\u001b[1;32m     79\u001b[0m \u001b[43m    \u001b[49m\u001b[43m)\u001b[49m\u001b[38;5;241;43m.\u001b[39;49m\u001b[43mapply\u001b[49m\u001b[43m(\u001b[49m\n\u001b[1;32m     80\u001b[0m \u001b[43m        \u001b[49m\u001b[38;5;28;43;01mlambda\u001b[39;49;00m\u001b[43m \u001b[49m\u001b[43mrow\u001b[49m\u001b[43m:\u001b[49m\u001b[43m \u001b[49m\u001b[43mrow\u001b[49m\u001b[43m[\u001b[49m\u001b[38;5;124;43m\"\u001b[39;49m\u001b[38;5;124;43mextractor\u001b[39;49m\u001b[38;5;124;43m\"\u001b[39;49m\u001b[43m]\u001b[49m\u001b[38;5;241;43m.\u001b[39;49m\u001b[43mextract_rows\u001b[49m\u001b[43m(\u001b[49m\u001b[43mwords\u001b[49m\u001b[43m,\u001b[49m\u001b[43m \u001b[49m\u001b[43mrow\u001b[49m\u001b[43m[\u001b[49m\u001b[38;5;124;43m\"\u001b[39;49m\u001b[38;5;124;43mpage\u001b[39;49m\u001b[38;5;124;43m\"\u001b[39;49m\u001b[43m]\u001b[49m\u001b[43m)\u001b[49m\u001b[43m,\u001b[49m\n\u001b[1;32m     81\u001b[0m \u001b[43m        \u001b[49m\u001b[43maxis\u001b[49m\u001b[38;5;241;43m=\u001b[39;49m\u001b[38;5;241;43m1\u001b[39;49m\n\u001b[1;32m     82\u001b[0m \u001b[43m    \u001b[49m\u001b[43m)\u001b[49m\u001b[38;5;241m.\u001b[39mdropna()\n\u001b[1;32m     83\u001b[0m \u001b[38;5;28;01mexcept\u001b[39;00m \u001b[38;5;167;01mKeyError\u001b[39;00m \u001b[38;5;28;01mas\u001b[39;00m e:\n\u001b[1;32m     84\u001b[0m     logger\u001b[38;5;241m.\u001b[39merror(\u001b[38;5;124mf\u001b[39m\u001b[38;5;124m\"\u001b[39m\u001b[38;5;132;01m{\u001b[39;00m\u001b[38;5;28mtype\u001b[39m(e)\u001b[38;5;132;01m}\u001b[39;00m\u001b[38;5;124m: \u001b[39m\u001b[38;5;132;01m{\u001b[39;00me\u001b[38;5;132;01m}\u001b[39;00m\u001b[38;5;124m\"\u001b[39m)\n",
      "File \u001b[0;32m~/miniconda3/envs/nj_deaths/lib/python3.10/site-packages/pandas/core/frame.py:8839\u001b[0m, in \u001b[0;36mDataFrame.apply\u001b[0;34m(self, func, axis, raw, result_type, args, **kwargs)\u001b[0m\n\u001b[1;32m   8828\u001b[0m \u001b[38;5;28;01mfrom\u001b[39;00m \u001b[38;5;21;01mpandas\u001b[39;00m\u001b[38;5;21;01m.\u001b[39;00m\u001b[38;5;21;01mcore\u001b[39;00m\u001b[38;5;21;01m.\u001b[39;00m\u001b[38;5;21;01mapply\u001b[39;00m \u001b[38;5;28;01mimport\u001b[39;00m frame_apply\n\u001b[1;32m   8830\u001b[0m op \u001b[38;5;241m=\u001b[39m frame_apply(\n\u001b[1;32m   8831\u001b[0m     \u001b[38;5;28mself\u001b[39m,\n\u001b[1;32m   8832\u001b[0m     func\u001b[38;5;241m=\u001b[39mfunc,\n\u001b[0;32m   (...)\u001b[0m\n\u001b[1;32m   8837\u001b[0m     kwargs\u001b[38;5;241m=\u001b[39mkwargs,\n\u001b[1;32m   8838\u001b[0m )\n\u001b[0;32m-> 8839\u001b[0m \u001b[38;5;28;01mreturn\u001b[39;00m \u001b[43mop\u001b[49m\u001b[38;5;241;43m.\u001b[39;49m\u001b[43mapply\u001b[49m\u001b[43m(\u001b[49m\u001b[43m)\u001b[49m\u001b[38;5;241m.\u001b[39m__finalize__(\u001b[38;5;28mself\u001b[39m, method\u001b[38;5;241m=\u001b[39m\u001b[38;5;124m\"\u001b[39m\u001b[38;5;124mapply\u001b[39m\u001b[38;5;124m\"\u001b[39m)\n",
      "File \u001b[0;32m~/miniconda3/envs/nj_deaths/lib/python3.10/site-packages/pandas/core/apply.py:727\u001b[0m, in \u001b[0;36mFrameApply.apply\u001b[0;34m(self)\u001b[0m\n\u001b[1;32m    724\u001b[0m \u001b[38;5;28;01melif\u001b[39;00m \u001b[38;5;28mself\u001b[39m\u001b[38;5;241m.\u001b[39mraw:\n\u001b[1;32m    725\u001b[0m     \u001b[38;5;28;01mreturn\u001b[39;00m \u001b[38;5;28mself\u001b[39m\u001b[38;5;241m.\u001b[39mapply_raw()\n\u001b[0;32m--> 727\u001b[0m \u001b[38;5;28;01mreturn\u001b[39;00m \u001b[38;5;28;43mself\u001b[39;49m\u001b[38;5;241;43m.\u001b[39;49m\u001b[43mapply_standard\u001b[49m\u001b[43m(\u001b[49m\u001b[43m)\u001b[49m\n",
      "File \u001b[0;32m~/miniconda3/envs/nj_deaths/lib/python3.10/site-packages/pandas/core/apply.py:851\u001b[0m, in \u001b[0;36mFrameApply.apply_standard\u001b[0;34m(self)\u001b[0m\n\u001b[1;32m    850\u001b[0m \u001b[38;5;28;01mdef\u001b[39;00m \u001b[38;5;21mapply_standard\u001b[39m(\u001b[38;5;28mself\u001b[39m):\n\u001b[0;32m--> 851\u001b[0m     results, res_index \u001b[38;5;241m=\u001b[39m \u001b[38;5;28;43mself\u001b[39;49m\u001b[38;5;241;43m.\u001b[39;49m\u001b[43mapply_series_generator\u001b[49m\u001b[43m(\u001b[49m\u001b[43m)\u001b[49m\n\u001b[1;32m    853\u001b[0m     \u001b[38;5;66;03m# wrap results\u001b[39;00m\n\u001b[1;32m    854\u001b[0m     \u001b[38;5;28;01mreturn\u001b[39;00m \u001b[38;5;28mself\u001b[39m\u001b[38;5;241m.\u001b[39mwrap_results(results, res_index)\n",
      "File \u001b[0;32m~/miniconda3/envs/nj_deaths/lib/python3.10/site-packages/pandas/core/apply.py:867\u001b[0m, in \u001b[0;36mFrameApply.apply_series_generator\u001b[0;34m(self)\u001b[0m\n\u001b[1;32m    864\u001b[0m \u001b[38;5;28;01mwith\u001b[39;00m option_context(\u001b[38;5;124m\"\u001b[39m\u001b[38;5;124mmode.chained_assignment\u001b[39m\u001b[38;5;124m\"\u001b[39m, \u001b[38;5;28;01mNone\u001b[39;00m):\n\u001b[1;32m    865\u001b[0m     \u001b[38;5;28;01mfor\u001b[39;00m i, v \u001b[38;5;129;01min\u001b[39;00m \u001b[38;5;28menumerate\u001b[39m(series_gen):\n\u001b[1;32m    866\u001b[0m         \u001b[38;5;66;03m# ignore SettingWithCopy here in case the user mutates\u001b[39;00m\n\u001b[0;32m--> 867\u001b[0m         results[i] \u001b[38;5;241m=\u001b[39m \u001b[38;5;28;43mself\u001b[39;49m\u001b[38;5;241;43m.\u001b[39;49m\u001b[43mf\u001b[49m\u001b[43m(\u001b[49m\u001b[43mv\u001b[49m\u001b[43m)\u001b[49m\n\u001b[1;32m    868\u001b[0m         \u001b[38;5;28;01mif\u001b[39;00m \u001b[38;5;28misinstance\u001b[39m(results[i], ABCSeries):\n\u001b[1;32m    869\u001b[0m             \u001b[38;5;66;03m# If we have a view on v, we need to make a copy because\u001b[39;00m\n\u001b[1;32m    870\u001b[0m             \u001b[38;5;66;03m#  series_generator will swap out the underlying data\u001b[39;00m\n\u001b[1;32m    871\u001b[0m             results[i] \u001b[38;5;241m=\u001b[39m results[i]\u001b[38;5;241m.\u001b[39mcopy(deep\u001b[38;5;241m=\u001b[39m\u001b[38;5;28;01mFalse\u001b[39;00m)\n",
      "File \u001b[0;32m~/parse_990_textract/parse_990_textract/table.py:80\u001b[0m, in \u001b[0;36mextract_table_data.<locals>.<lambda>\u001b[0;34m(row)\u001b[0m\n\u001b[1;32m     60\u001b[0m table \u001b[38;5;241m=\u001b[39m table_extractor_df\u001b[38;5;241m.\u001b[39mloc[\n\u001b[1;32m     61\u001b[0m     table_extractor_df[\u001b[38;5;124m\"\u001b[39m\u001b[38;5;124mtable\u001b[39m\u001b[38;5;124m\"\u001b[39m] \u001b[38;5;241m==\u001b[39m table_name\n\u001b[1;32m     62\u001b[0m ]\u001b[38;5;241m.\u001b[39miloc[\u001b[38;5;241m0\u001b[39m]\n\u001b[1;32m     63\u001b[0m \u001b[38;5;28;01mtry\u001b[39;00m:\n\u001b[1;32m     64\u001b[0m     rows \u001b[38;5;241m=\u001b[39m tablemaps\u001b[38;5;241m.\u001b[39massign(\n\u001b[1;32m     65\u001b[0m         extractor\u001b[38;5;241m=\u001b[39mtablemaps[\u001b[38;5;124m\"\u001b[39m\u001b[38;5;124mtablemap\u001b[39m\u001b[38;5;124m\"\u001b[39m]\u001b[38;5;241m.\u001b[39mmap(\n\u001b[1;32m     66\u001b[0m             \u001b[38;5;28;01mlambda\u001b[39;00m tablemap: TableExtractor(\n\u001b[1;32m     67\u001b[0m                 header_top_label\u001b[38;5;241m=\u001b[39mtable[\u001b[38;5;124m\"\u001b[39m\u001b[38;5;124mheader_top\u001b[39m\u001b[38;5;124m\"\u001b[39m],\n\u001b[1;32m     68\u001b[0m                 top_label\u001b[38;5;241m=\u001b[39mtable[\u001b[38;5;124m\"\u001b[39m\u001b[38;5;124mtable_top\u001b[39m\u001b[38;5;124m\"\u001b[39m],\n\u001b[1;32m     69\u001b[0m                 bottom_label\u001b[38;5;241m=\u001b[39mtable[\u001b[38;5;124m\"\u001b[39m\u001b[38;5;124mtable_bottom\u001b[39m\u001b[38;5;124m\"\u001b[39m],\n\u001b[1;32m     70\u001b[0m                 tablemap\u001b[38;5;241m=\u001b[39mtablemap,\n\u001b[1;32m     71\u001b[0m                 fields\u001b[38;5;241m=\u001b[39mtable_row_extractors[\u001b[38;5;124m\"\u001b[39m\u001b[38;5;124mfield\u001b[39m\u001b[38;5;124m\"\u001b[39m]\u001b[38;5;241m.\u001b[39mreset_index(\n\u001b[1;32m     72\u001b[0m                     drop\u001b[38;5;241m=\u001b[39m\u001b[38;5;28;01mTrue\u001b[39;00m\n\u001b[1;32m     73\u001b[0m                 ),\n\u001b[1;32m     74\u001b[0m                 field_labels\u001b[38;5;241m=\u001b[39mtable_row_extractors[\u001b[38;5;124m\"\u001b[39m\u001b[38;5;124mcol_left\u001b[39m\u001b[38;5;124m\"\u001b[39m]\u001b[38;5;241m.\u001b[39mreset_index(\n\u001b[1;32m     75\u001b[0m                     drop\u001b[38;5;241m=\u001b[39m\u001b[38;5;28;01mTrue\u001b[39;00m\n\u001b[1;32m     76\u001b[0m                 ),\n\u001b[1;32m     77\u001b[0m             ),\n\u001b[1;32m     78\u001b[0m         ),\n\u001b[1;32m     79\u001b[0m     )\u001b[38;5;241m.\u001b[39mapply(\n\u001b[0;32m---> 80\u001b[0m         \u001b[38;5;28;01mlambda\u001b[39;00m row: \u001b[43mrow\u001b[49m\u001b[43m[\u001b[49m\u001b[38;5;124;43m\"\u001b[39;49m\u001b[38;5;124;43mextractor\u001b[39;49m\u001b[38;5;124;43m\"\u001b[39;49m\u001b[43m]\u001b[49m\u001b[38;5;241;43m.\u001b[39;49m\u001b[43mextract_rows\u001b[49m\u001b[43m(\u001b[49m\u001b[43mwords\u001b[49m\u001b[43m,\u001b[49m\u001b[43m \u001b[49m\u001b[43mrow\u001b[49m\u001b[43m[\u001b[49m\u001b[38;5;124;43m\"\u001b[39;49m\u001b[38;5;124;43mpage\u001b[39;49m\u001b[38;5;124;43m\"\u001b[39;49m\u001b[43m]\u001b[49m\u001b[43m)\u001b[49m,\n\u001b[1;32m     81\u001b[0m         axis\u001b[38;5;241m=\u001b[39m\u001b[38;5;241m1\u001b[39m\n\u001b[1;32m     82\u001b[0m     )\u001b[38;5;241m.\u001b[39mdropna()\n\u001b[1;32m     83\u001b[0m \u001b[38;5;28;01mexcept\u001b[39;00m \u001b[38;5;167;01mKeyError\u001b[39;00m \u001b[38;5;28;01mas\u001b[39;00m e:\n\u001b[1;32m     84\u001b[0m     logger\u001b[38;5;241m.\u001b[39merror(\u001b[38;5;124mf\u001b[39m\u001b[38;5;124m\"\u001b[39m\u001b[38;5;132;01m{\u001b[39;00m\u001b[38;5;28mtype\u001b[39m(e)\u001b[38;5;132;01m}\u001b[39;00m\u001b[38;5;124m: \u001b[39m\u001b[38;5;132;01m{\u001b[39;00me\u001b[38;5;132;01m}\u001b[39;00m\u001b[38;5;124m\"\u001b[39m)\n",
      "File \u001b[0;32m~/parse_990_textract/parse_990_textract/models.py:264\u001b[0m, in \u001b[0;36mTableExtractor.extract_rows\u001b[0;34m(self, words, page)\u001b[0m\n\u001b[1;32m    263\u001b[0m \u001b[38;5;28;01mdef\u001b[39;00m \u001b[38;5;21mextract_rows\u001b[39m(\u001b[38;5;28mself\u001b[39m, words, page):\n\u001b[0;32m--> 264\u001b[0m     rows \u001b[38;5;241m=\u001b[39m \u001b[38;5;28;43mself\u001b[39;49m\u001b[38;5;241;43m.\u001b[39;49m\u001b[43mget_rows\u001b[49m\u001b[43m(\u001b[49m\u001b[43mwords\u001b[49m\u001b[43m,\u001b[49m\u001b[43m \u001b[49m\u001b[43mpage\u001b[49m\u001b[43m)\u001b[49m\n\u001b[1;32m    265\u001b[0m     non_empty_rows \u001b[38;5;241m=\u001b[39m [row \u001b[38;5;28;01mfor\u001b[39;00m row \u001b[38;5;129;01min\u001b[39;00m rows \u001b[38;5;28;01mif\u001b[39;00m row\u001b[38;5;241m.\u001b[39many()]\n\u001b[1;32m    266\u001b[0m     \u001b[38;5;28;01mif\u001b[39;00m non_empty_rows:\n",
      "File \u001b[0;32m~/parse_990_textract/parse_990_textract/models.py:221\u001b[0m, in \u001b[0;36mTableExtractor.get_rows\u001b[0;34m(self, words, page)\u001b[0m\n\u001b[1;32m    218\u001b[0m rows \u001b[38;5;241m=\u001b[39m []\n\u001b[1;32m    219\u001b[0m current_row \u001b[38;5;241m=\u001b[39m [columnized]\n\u001b[1;32m    220\u001b[0m top_ws \u001b[38;5;241m=\u001b[39m (\n\u001b[0;32m--> 221\u001b[0m     \u001b[43mlast_cluster_coords\u001b[49m[\u001b[38;5;124m\"\u001b[39m\u001b[38;5;124mTop\u001b[39m\u001b[38;5;124m\"\u001b[39m]\u001b[38;5;241m.\u001b[39mmin()\n\u001b[1;32m    222\u001b[0m     \u001b[38;5;241m-\u001b[39m \u001b[38;5;28mself\u001b[39m\u001b[38;5;241m.\u001b[39mget_table_top(words, page)\n\u001b[1;32m    223\u001b[0m )\n\u001b[1;32m    224\u001b[0m \u001b[38;5;28;01mif\u001b[39;00m top_ws \u001b[38;5;241m>\u001b[39m y_tol:\n\u001b[1;32m    225\u001b[0m     alignment \u001b[38;5;241m=\u001b[39m \u001b[38;5;124m\"\u001b[39m\u001b[38;5;124mBOTTOM\u001b[39m\u001b[38;5;124m\"\u001b[39m\n",
      "\u001b[0;31mNameError\u001b[0m: name 'last_cluster_coords' is not defined"
     ]
    }
   ],
   "source": [
    "filing_rows = []\n",
    "schedule_f_part_i_rows = []\n",
    "schedule_f_part_ii_rows = []\n",
    "schedule_f_part_iii_rows = []\n",
    "\n",
    "\n",
    "for i, job_id in enumerate(validation_data.index.values):\n",
    "    print(i)\n",
    "    print(job_id)\n",
    "    pdf_key = validation_data.at[job_id, \"pdf_key\"]\n",
    "    print(pdf_key)\n",
    "    \n",
    "    data = open_df(bucket, job_id)\n",
    "    lines = data.loc[data[\"BlockType\"] == \"LINE\"]\n",
    "    words = data.loc[data[\"BlockType\"] == \"WORD\"]\n",
    "    page_map = find_pages(lines)\n",
    "    roadmap = create_roadmap(\n",
    "        lines, roadmap_df, page_map\n",
    "    )\n",
    "    \n",
    "    row = extract_from_roadmap(\n",
    "        words, lines, roadmap, extractor_df, page_map\n",
    "    )\n",
    "    row = postprocess(row, job_id, pdf_key, clean_filing)\n",
    "    filing_rows.append(row)\n",
    "    \n",
    "    pages = lines.groupby(\"Page\")\n",
    "    \n",
    "    part_i_table = extract_table_data(\n",
    "        pages, lines, words, PART_I_HEADER, PART_I_TABLE_NAME, \n",
    "        schedule_f_tablemap_df, schedule_f_table_extractor_df, schedule_f_row_extractor_df,\n",
    "    )\n",
    "    part_i_table = postprocess(part_i_table, job_id, pdf_key, clean_f_i)\n",
    "    if part_i_table is not None:\n",
    "        schedule_f_part_i_rows.append(\n",
    "            part_i_table\n",
    "        )\n",
    "    part_ii_table = extract_table_data(\n",
    "        pages, lines, words, PART_II_HEADER, PART_II_TABLE_NAME, \n",
    "        schedule_f_tablemap_df, schedule_f_table_extractor_df, schedule_f_row_extractor_df,\n",
    "    )\n",
    "    part_ii_table = postprocess(part_ii_table, job_id, pdf_key, clean_f_ii)\n",
    "    if part_ii_table is not None:\n",
    "        schedule_f_part_ii_rows.append(\n",
    "            part_ii_table\n",
    "        )\n",
    "    part_iii_table = extract_table_data(\n",
    "        pages, lines, words, PART_III_HEADER, PART_III_TABLE_NAME, \n",
    "        schedule_f_tablemap_df, schedule_f_table_extractor_df, schedule_f_row_extractor_df,\n",
    "    )\n",
    "    part_iii_table = postprocess(part_iii_table, job_id, pdf_key, clean_f_iii)\n",
    "    if part_iii_table is not None:\n",
    "        schedule_f_part_iii_rows.append(\n",
    "            part_iii_table\n",
    "        )"
   ]
  },
  {
   "cell_type": "code",
   "execution_count": null,
   "id": "619b3527",
   "metadata": {
    "scrolled": false
   },
   "outputs": [],
   "source": [
    "output_data = pd.concat(filing_rows).reset_index(drop=True).set_index(\"job_id\")"
   ]
  },
  {
   "cell_type": "code",
   "execution_count": null,
   "id": "ae9d25d4",
   "metadata": {},
   "outputs": [],
   "source": [
    "output_data.head()"
   ]
  },
  {
   "cell_type": "code",
   "execution_count": null,
   "id": "7ef1f9d9",
   "metadata": {},
   "outputs": [],
   "source": [
    "def clean(x):\n",
    "    x = str(x)\n",
    "    x = re.sub(r\"\\.0\\b\", \"\", x)\n",
    "    x = re.sub(\"\\D\", \"\", x)\n",
    "    return x"
   ]
  },
  {
   "cell_type": "code",
   "execution_count": null,
   "id": "bab8809d",
   "metadata": {},
   "outputs": [],
   "source": [
    "def compare_output(to_validate, to_compare, col):\n",
    "    return pd.DataFrame(\n",
    "        {\n",
    "            \"extracted\": to_validate.loc[col].loc[\n",
    "                lambda series: series != to_compare.loc[col]\n",
    "            ],\n",
    "            \"expected\": to_compare.loc[col].loc[\n",
    "                lambda series: series != to_validate.loc[col]\n",
    "            ],\n",
    "        }\n",
    "    )"
   ]
  },
  {
   "cell_type": "code",
   "execution_count": null,
   "id": "474b0edf",
   "metadata": {
    "scrolled": false
   },
   "outputs": [],
   "source": [
    "to_compare = validation_data.set_index(\"pdf_key\").applymap(clean)\n",
    "to_validate = output_data[validation_data.columns].set_index(\"pdf_key\").applymap(clean)\n",
    "\n",
    "for col in to_validate.index:\n",
    "    validated = compare_output(to_validate, to_compare, col)\n",
    "    if validated.any().any():\n",
    "        print(col)\n",
    "        print(f\"{validated.shape[0]} mismatched items.\")\n",
    "        print(validated)\n",
    "        print(\"-\"*79)"
   ]
  },
  {
   "cell_type": "code",
   "execution_count": null,
   "id": "282f0276",
   "metadata": {},
   "outputs": [],
   "source": [
    "assert False"
   ]
  },
  {
   "cell_type": "markdown",
   "id": "3e3b1d2f",
   "metadata": {},
   "source": [
    "## BREAK"
   ]
  },
  {
   "cell_type": "code",
   "execution_count": null,
   "id": "b2ff2680",
   "metadata": {
    "scrolled": false
   },
   "outputs": [],
   "source": [
    "pd.concat(schedule_f_part_i_rows).head(50)[\n",
    "    [\n",
    "        \"region\", \"number_offices\", \"number_employees\", \n",
    "        \"activities_conducted\", \"specific_type_activity\", \n",
    "        \"total_expenditures\", \"pdf_key\"\n",
    "    ]\n",
    "]"
   ]
  },
  {
   "cell_type": "code",
   "execution_count": null,
   "id": "73bcc3e2",
   "metadata": {
    "scrolled": false
   },
   "outputs": [],
   "source": [
    "pd.concat(schedule_f_part_i_rows).tail(50)"
   ]
  },
  {
   "cell_type": "code",
   "execution_count": null,
   "id": "1ac2eefe",
   "metadata": {
    "scrolled": true
   },
   "outputs": [],
   "source": [
    "pd.concat(schedule_f_part_ii_rows).iloc[:50]"
   ]
  },
  {
   "cell_type": "code",
   "execution_count": null,
   "id": "bd8a386e",
   "metadata": {
    "scrolled": false
   },
   "outputs": [],
   "source": [
    "pd.concat(schedule_f_part_iii_rows).iloc[:50]"
   ]
  },
  {
   "cell_type": "code",
   "execution_count": null,
   "id": "1b56bb1a",
   "metadata": {},
   "outputs": [],
   "source": [
    "table_test_df = open_df(bucket, \"f303b69e79844240beccf4fc5b3cecaa3a4f3024a955b2f4a49dd0a81b456649\")"
   ]
  },
  {
   "cell_type": "code",
   "execution_count": null,
   "id": "75e06ac9",
   "metadata": {},
   "outputs": [],
   "source": [
    "test_lines = table_test_df.loc[\n",
    "    table_test_df[\"BlockType\"] == \"LINE\"\n",
    "]\n",
    "test_words = table_test_df.loc[\n",
    "    table_test_df[\"BlockType\"] == \"WORD\"\n",
    "]\n",
    "test_pages = test_lines.groupby(\"Page\")"
   ]
  },
  {
   "cell_type": "code",
   "execution_count": null,
   "id": "3bf0d551",
   "metadata": {},
   "outputs": [],
   "source": [
    "HEADER = PART_II_HEADER\n",
    "NAME = PART_II_TABLE_NAME"
   ]
  },
  {
   "cell_type": "code",
   "execution_count": null,
   "id": "45fd9087",
   "metadata": {},
   "outputs": [],
   "source": [
    "table_pages = find_table_pages(\n",
    "    test_pages[\"Text\"].agg(lambda words: \" \".join(words)),\n",
    "    HEADER,\n",
    ")"
   ]
  },
  {
   "cell_type": "code",
   "execution_count": null,
   "id": "261934b9",
   "metadata": {},
   "outputs": [],
   "source": [
    "table_pages"
   ]
  },
  {
   "cell_type": "code",
   "execution_count": null,
   "id": "bab3a036",
   "metadata": {},
   "outputs": [],
   "source": [
    "TEST_INDEX = 0\n",
    "TEST_PAGE = 26"
   ]
  },
  {
   "cell_type": "code",
   "execution_count": null,
   "id": "eb9879b4",
   "metadata": {},
   "outputs": [],
   "source": [
    "tablemaps = pd.DataFrame(\n",
    "    {\n",
    "        \"page\": table_pages,\n",
    "        \"tablemap\": table_pages.map(\n",
    "            lambda page: create_tablemap(\n",
    "                test_lines, schedule_f_tablemap_df, page, NAME\n",
    "            ).dropna()\n",
    "        ),\n",
    "    }\n",
    ")"
   ]
  },
  {
   "cell_type": "code",
   "execution_count": null,
   "id": "04aa2533",
   "metadata": {},
   "outputs": [],
   "source": [
    "tablemaps[\"tablemap\"].iloc[TEST_INDEX]"
   ]
  },
  {
   "cell_type": "code",
   "execution_count": null,
   "id": "b6b01610",
   "metadata": {},
   "outputs": [],
   "source": [
    "row_extractors = schedule_f_row_extractor_df.loc[\n",
    "    schedule_f_row_extractor_df[\"table\"] == NAME\n",
    "]\n",
    "table_data = schedule_f_table_extractor_df.loc[\n",
    "    schedule_f_table_extractor_df[\"table\"] == NAME\n",
    "].iloc[0]"
   ]
  },
  {
   "cell_type": "code",
   "execution_count": null,
   "id": "732c211d",
   "metadata": {},
   "outputs": [],
   "source": [
    "rows = tablemaps.assign(\n",
    "    extractor=tablemaps[\"tablemap\"].map(\n",
    "        lambda tablemap: TableExtractor(\n",
    "            header_top_label=table_data[\"header_top\"],\n",
    "            top_label=table_data[\"table_top\"],\n",
    "            bottom_label=table_data[\"table_bottom\"],\n",
    "            tablemap=tablemap,\n",
    "            fields=row_extractors[\"field\"],\n",
    "            field_labels=row_extractors[\"col_left\"]\n",
    "        )\n",
    "    )\n",
    ")"
   ]
  },
  {
   "cell_type": "code",
   "execution_count": null,
   "id": "9d8599ca",
   "metadata": {
    "scrolled": false
   },
   "outputs": [],
   "source": [
    "test_extractor = rows[\"extractor\"].iloc[TEST_INDEX]"
   ]
  },
  {
   "cell_type": "code",
   "execution_count": null,
   "id": "71ebafcf",
   "metadata": {
    "scrolled": true
   },
   "outputs": [],
   "source": [
    "test_extractor.get_col_spans(test_words, TEST_PAGE)"
   ]
  },
  {
   "cell_type": "code",
   "execution_count": null,
   "id": "8401cec4",
   "metadata": {},
   "outputs": [],
   "source": [
    "test_extractor.field_labels"
   ]
  },
  {
   "cell_type": "code",
   "execution_count": null,
   "id": "53dd690e",
   "metadata": {
    "scrolled": false
   },
   "outputs": [],
   "source": [
    "test_extractor.extract_rows(test_words, TEST_PAGE).head(50)"
   ]
  },
  {
   "cell_type": "code",
   "execution_count": null,
   "id": "d91e48e2",
   "metadata": {
    "scrolled": false
   },
   "outputs": [],
   "source": [
    "table_words = test_extractor.get_table_words(test_words, TEST_PAGE)"
   ]
  },
  {
   "cell_type": "code",
   "execution_count": null,
   "id": "9a5197db",
   "metadata": {
    "scrolled": true
   },
   "outputs": [],
   "source": [
    "table_words"
   ]
  },
  {
   "cell_type": "code",
   "execution_count": null,
   "id": "f8d2c462",
   "metadata": {
    "scrolled": false
   },
   "outputs": [],
   "source": [
    "word_clusters = cluster_words(table_words, table_words[\"Height\"].min(), \"Midpoint_Y\")\n",
    "[\" \".join(word.sort_values(by=\"Left\")[\"Text\"].values) for word in word_clusters]"
   ]
  },
  {
   "cell_type": "code",
   "execution_count": null,
   "id": "9cd27b17",
   "metadata": {
    "scrolled": false
   },
   "outputs": [],
   "source": [
    "def columnize(word_cluster, col_spans):\n",
    "    return col_spans.map(\n",
    "        lambda span: word_cluster.loc[\n",
    "            (word_cluster[\"Left\"].between(*span, inclusive=\"left\"))\n",
    "        ]\n",
    "    )\n",
    "\n",
    "\n",
    "def get_cluster_coords(cluster):\n",
    "    cluster_coords = {\n",
    "        \"Left\": cluster[\"Left\"].min(),\n",
    "        \"Right\": cluster[\"Right\"].max(),\n",
    "        \"Height\": cluster[\"Height\"].max(),\n",
    "        \"Midpoint_X\": cluster[\"Midpoint_X\"].median(),\n",
    "        \"Midpoint_Y\": cluster[\"Midpoint_Y\"].median(),\n",
    "        \"Top\": cluster[\"Top\"].min(),\n",
    "        \"Bottom\": cluster[\"Bottom\"].min(),\n",
    "    }\n",
    "    cluster_coords[\"Width\"] = cluster_coords[\"Right\"] - cluster_coords[\"Left\"]\n",
    "    return cluster_coords\n",
    "\n",
    "\n",
    "def combine_row(row):\n",
    "    return pd.Series([\n",
    "        line.map(\n",
    "            lambda x: x.sort_values(\n",
    "                by=\"Left\"\n",
    "            ).reset_index(drop=True)[\"Text\"].fillna(\"\")\n",
    "        ).agg(\n",
    "            lambda x: \" \".join(x.values)\n",
    "        ) + \" \"\n",
    "        for line in row\n",
    "    ]).sum().str.strip()\n",
    "\n",
    "col_spans = test_extractor.get_col_spans(test_words, TEST_PAGE)\n",
    "\n",
    "col_spans"
   ]
  },
  {
   "cell_type": "code",
   "execution_count": null,
   "id": "40c219c5",
   "metadata": {
    "scrolled": false
   },
   "outputs": [],
   "source": [
    "y_tol = table_words[\"Height\"].median()\n",
    "columnized = columnize(word_clusters[0], col_spans)\n",
    "columnized.index = test_extractor.fields\n",
    "last_col_coords = pd.DataFrame.from_records(\n",
    "    columnized.map(\n",
    "        get_cluster_coords\n",
    "    )\n",
    ")\n",
    "rows = []\n",
    "current_row = [columnized]\n",
    "top_ws = (\n",
    "    last_col_coords[\"Top\"].min()\n",
    "    - test_extractor.get_table_top(test_words, TEST_PAGE)\n",
    ")\n",
    "#print(f\"Y tolerance: {y_tol}\")\n",
    "#print(f\"Top whitespace: {top_ws}\")\n",
    "if top_ws > y_tol:\n",
    "    alignment = \"BOTTOM\"\n",
    "else:\n",
    "    alignment = \"UNKNOWN\"\n",
    "#print(f\"Alignment: {alignment}\")\n",
    "#print(\"First cluster:\")\n",
    "#print(\" \".join(word_clusters[0].sort_values(by=\"Left\")[\"Text\"].values))\n",
    "for count, cluster in enumerate(word_clusters[1:]):\n",
    "    print(\"-\"*50)\n",
    "    #print(f\"Alignment: {alignment}\")\n",
    "    print(\"Cluster:\", \" \".join(cluster.sort_values(by=\"Left\")[\"Text\"].values))\n",
    "    columnized = columnize(cluster, col_spans)\n",
    "    columnized.index = test_extractor.fields\n",
    "    col_coords = pd.DataFrame.from_records(columnized.map(get_cluster_coords))\n",
    "    #print(f\"Cluster top: {col_coords['Top'].min()}\")\n",
    "    #print(f\"Last cluster bottom: {last_col_coords['Bottom'].max()}\")\n",
    "    y_delta = (\n",
    "        col_coords[\"Top\"].min()\n",
    "        - last_col_coords[\"Bottom\"].max()\n",
    "    )\n",
    "    #print(\"Y Delta:\", y_delta)\n",
    "    if y_delta > y_tol:\n",
    "        #print(\"Y tolerance exceeded\")\n",
    "        combined_row = combine_row(current_row)\n",
    "        print(combined_row)\n",
    "        rows.append(combined_row)\n",
    "        current_row = [columnized]\n",
    "    else:\n",
    "        nonempty = col_coords.dropna().index.to_series()\n",
    "        last_nonempty = last_col_coords.dropna().index.to_series()\n",
    "        # delta_cols true if current row has non-empty cells that\n",
    "        # are empty in the preceding row\n",
    "        delta_cols = (~nonempty.isin(last_nonempty)).any()\n",
    "        if not delta_cols and (alignment == \"UNKNOWN\"):\n",
    "            alignment = \"TOP\"\n",
    "            current_row.append(columnized)\n",
    "        elif delta_cols and (alignment == \"UNKNOWN\"):\n",
    "            alignment = \"BOTTOM\"\n",
    "            current_row.append(columnized)\n",
    "        elif delta_cols and (alignment == \"TOP\"):\n",
    "            combined_row = combine_row(current_row)\n",
    "            print(combined_row)\n",
    "            rows.append(combined_row)\n",
    "            current_row = [columnized]\n",
    "        # (TOP&~delta_cols, BOTTOM&delta_cols, BOTTOM&~delta_cols)\n",
    "        else:\n",
    "            current_row.append(columnized)\n",
    "    last_col_coords = col_coords            "
   ]
  },
  {
   "cell_type": "code",
   "execution_count": null,
   "id": "632c84a8",
   "metadata": {},
   "outputs": [],
   "source": [
    "test_lines.loc[\n",
    "    test_lines[\"Text\"].str.contains(\"other\\)\")\n",
    "    & test_lines[\"Page\"].between(26, 26)\n",
    "]"
   ]
  },
  {
   "cell_type": "code",
   "execution_count": null,
   "id": "7f90aeff",
   "metadata": {},
   "outputs": [],
   "source": [
    "test_extractor.get_table_bottom(test_words, TEST_PAGE)"
   ]
  },
  {
   "cell_type": "code",
   "execution_count": null,
   "id": "32bb9ec2",
   "metadata": {},
   "outputs": [],
   "source": [
    "test_words.loc[\n",
    "    test_words[\"Text\"].str.match(\"579\")\n",
    "    & test_words[\"Page\"].between(TEST_PAGE, TEST_PAGE)\n",
    "]"
   ]
  },
  {
   "cell_type": "code",
   "execution_count": null,
   "id": "41b47f4c",
   "metadata": {},
   "outputs": [],
   "source": [
    "create_tablemap(\n",
    "    test_lines,\n",
    "    schedule_f_tablemap_df,\n",
    "    26,\n",
    "    NAME\n",
    ")"
   ]
  },
  {
   "cell_type": "code",
   "execution_count": null,
   "id": "13dbbbb8",
   "metadata": {},
   "outputs": [],
   "source": [
    "test_extractor.tablemap"
   ]
  },
  {
   "cell_type": "code",
   "execution_count": null,
   "id": "1a2ea284",
   "metadata": {},
   "outputs": [],
   "source": [
    "header_words = test_extractor.get_header_words(test_words, 22)"
   ]
  },
  {
   "cell_type": "code",
   "execution_count": null,
   "id": "08cca982",
   "metadata": {
    "scrolled": false
   },
   "outputs": [],
   "source": [
    "header_words.sort_values(by=\"Left\")[[\"Text\", \"Left\", \"Right\", \"Midpoint_Y\"]].head(50)"
   ]
  },
  {
   "cell_type": "code",
   "execution_count": null,
   "id": "cdfb175b",
   "metadata": {},
   "outputs": [],
   "source": [
    "pd.DataFrame(\n",
    "    {\n",
    "        \"Gap\": header_words.sort_values(by=\"Left\").rolling(2).apply(lambda x: x),\n",
    "        \"Right\": header_words.sort_values(by=\"Left\")[\"Right\"],\n",
    "        \"Text\": header_words.sort_values(by=\"Left\")[\"Text\"],\n",
    "    }\n",
    ")"
   ]
  },
  {
   "cell_type": "code",
   "execution_count": null,
   "id": "df4e4e65",
   "metadata": {},
   "outputs": [],
   "source": [
    "def cluster_x(words, tolerance):\n",
    "    print(\"Tolerance\", tolerance)\n",
    "    if (tolerance == 0) or (words.shape[0] < 2):\n",
    "        return [\n",
    "            [word] for (idx, word)\n",
    "            in words.sort_values(by=\"Left\").iterrows()\n",
    "        ]\n",
    "    groups = []\n",
    "    sorted_words = words.sort_values(by=\"Left\")\n",
    "    current_group = [sorted_words.iloc[0]]\n",
    "    last = sorted_words.iloc[0][\"Right\"]\n",
    "    for idx, word in sorted_words.iloc[1:].iterrows():\n",
    "        if word[\"Left\"] <= (last + tolerance):\n",
    "            current_group.append(word)\n",
    "        else:\n",
    "            print(\"New Group\")\n",
    "            print(\"*\"*100)\n",
    "            groups.append(current_group)\n",
    "            current_group = [word]\n",
    "        print(\"Left:\", word[\"Left\"])\n",
    "        print(\"Right:\", word[\"Right\"])\n",
    "        last = max((last, word[\"Right\"]))\n",
    "    groups.append(current_group)\n",
    "    return [pd.DataFrame(group) for group in groups]"
   ]
  },
  {
   "cell_type": "code",
   "execution_count": null,
   "id": "a1d6e1d1",
   "metadata": {},
   "outputs": [],
   "source": [
    "left_right = pd.DataFrame(\n",
    "    {\n",
    "        \"Left\": header_words[\"Left\"].sort_values().reset_index(drop=True),\n",
    "        \"Right\": header_words[\"Right\"].sort_values().reset_index(drop=True),\n",
    "    }\n",
    ")\n",
    "\n",
    "header_lines = cluster_x(\n",
    "    left_right, header_words[\"Width\"].min()*.8\n",
    ")"
   ]
  },
  {
   "cell_type": "code",
   "execution_count": null,
   "id": "652d7355",
   "metadata": {},
   "outputs": [],
   "source": [
    "len(header_lines)"
   ]
  },
  {
   "cell_type": "code",
   "execution_count": null,
   "id": "ba6bc6d1",
   "metadata": {},
   "outputs": [],
   "source": [
    "[\n",
    "    (x[\"Left\"].min(), x[\"Right\"].max())\n",
    "    for x in header_lines\n",
    "]"
   ]
  },
  {
   "cell_type": "code",
   "execution_count": null,
   "id": "0b7a5d02",
   "metadata": {
    "scrolled": false
   },
   "outputs": [],
   "source": [
    "x_clusters = cluster_x(header_words, header_words[\"Width\"].min()*.8)"
   ]
  },
  {
   "cell_type": "code",
   "execution_count": null,
   "id": "dad16976",
   "metadata": {},
   "outputs": [],
   "source": [
    "len(x_clusters)"
   ]
  },
  {
   "cell_type": "code",
   "execution_count": null,
   "id": "0ca1d04e",
   "metadata": {},
   "outputs": [],
   "source": [
    "0.6793086230754852-0.6723970174789429"
   ]
  },
  {
   "cell_type": "code",
   "execution_count": null,
   "id": "97a36682",
   "metadata": {},
   "outputs": [],
   "source": [
    "[\n",
    "    words.sort_values(by=\"Left\")[\"Text\"].agg(lambda x: \" \".join(x.values))\n",
    "    for words in x_clusters\n",
    "]"
   ]
  },
  {
   "cell_type": "code",
   "execution_count": null,
   "id": "d1fe0c2f",
   "metadata": {},
   "outputs": [],
   "source": [
    "left_bounds = pd.Series(\n",
    "        cluster[\"Left\"].min() for cluster in x_clusters[1:]\n",
    ")\n",
    "right_bounds = pd.Series(\n",
    "    [cluster[\"Right\"].max() for cluster in x_clusters[:-1]]\n",
    ")\n",
    "offsets = right_bounds - left_bounds\n",
    "full_left = pd.concat([pd.Series([0]), left_bounds + offsets]).reset_index(drop=True)\n",
    "full_right = pd.concat([right_bounds - offsets, pd.Series([1])]).reset_index(drop=True)\n",
    "col_spans = full_left.combine(full_right, lambda x, y: (x, y))\n",
    "col_spans"
   ]
  },
  {
   "cell_type": "code",
   "execution_count": null,
   "id": "7a5c8383",
   "metadata": {},
   "outputs": [],
   "source": [
    "last_cluster_right = pd.concat([header_words, table_words])[\"Left\"].min()\n",
    "left_bounds = []\n",
    "right_bounds = []\n",
    "for cluster in x_clusters:\n",
    "    print(\"Last Cluster Right\", last_cluster_right)\n",
    "    print(\"Cluster Left\", cluster[\"Left\"].min())\n",
    "    print(\"Cluster Right\", cluster[\"Right\"].max())\n",
    "    print(\"*\"*50)\n",
    "    left_bounds.append(last_cluster_right)\n",
    "    last_cluster_right = max(\n",
    "        cluster[\"Right\"].max()\n",
    "        + cluster[\"Left\"].min()\n",
    "        - last_cluster_right,\n",
    "        cluster[\"Right\"].max()\n",
    "    )\n",
    "    right_bounds.append(last_cluster_right)\n",
    "col_spans = pd.Series(zip(left_bounds, right_bounds))\n",
    "col_spans"
   ]
  },
  {
   "cell_type": "code",
   "execution_count": null,
   "id": "b6384d93",
   "metadata": {},
   "outputs": [],
   "source": [
    "header_words[\"Midpoint_X\"].round(2).value_counts()"
   ]
  },
  {
   "cell_type": "code",
   "execution_count": null,
   "id": "5582e005",
   "metadata": {},
   "outputs": [],
   "source": [
    "def count_crossing_lines(df, left, right):\n",
    "    return (\n",
    "        df.loc[\n",
    "            df[\"Left\"].between(left, right)\n",
    "            & (df[\"Right\"] > right),\n",
    "            \"Text\"\n",
    "        ].count()\n",
    "        + df.loc[\n",
    "            (df[\"Left\"] < left)\n",
    "            & df[\"Right\"].between(left, right),\n",
    "            \"Text\"\n",
    "        ].count()\n",
    "    )\n",
    "\n",
    "\n",
    "def recalculate_intervals(left_interval, right_interval):\n",
    "    left_left = left_interval[0]\n",
    "    right_right = right_interval[1]\n",
    "    total_span = right_right - left_left\n",
    "    \n",
    "    "
   ]
  },
  {
   "cell_type": "code",
   "execution_count": null,
   "id": "7b81ce37",
   "metadata": {},
   "outputs": [],
   "source": [
    "col_spans.map(\n",
    "    lambda x: (x[1] + x[0]) / 2\n",
    ")"
   ]
  },
  {
   "cell_type": "code",
   "execution_count": null,
   "id": "6910806d",
   "metadata": {},
   "outputs": [],
   "source": [
    "table_words.loc[\n",
    "    table_words[\"Left\"].between(0.12358373403549194, 0.3558424413204193)\n",
    "    & (table_words[\"Midpoint_X\"] > 0.3558424413204193),\n",
    "    \"Text\"\n",
    "]"
   ]
  },
  {
   "cell_type": "code",
   "execution_count": null,
   "id": "78c34296",
   "metadata": {
    "scrolled": false
   },
   "outputs": [],
   "source": [
    "left_right = pd.DataFrame(\n",
    "    {\n",
    "        \"left\": header_words[\"Left\"].sort_values().reset_index(drop=True),\n",
    "        \"right\": header_words[\"Right\"].sort_values().reset_index(drop=True),\n",
    "    }\n",
    ")\n",
    "left_right.rolling(2).apply(lambda x: print(x, \"\\n\" + \"*\"*20) or 1)"
   ]
  },
  {
   "cell_type": "code",
   "execution_count": null,
   "id": "83fe67d7",
   "metadata": {},
   "outputs": [],
   "source": [
    "left_right.head()"
   ]
  },
  {
   "cell_type": "code",
   "execution_count": null,
   "id": "12daa72c",
   "metadata": {},
   "outputs": [],
   "source": [
    "1 and 2"
   ]
  },
  {
   "cell_type": "code",
   "execution_count": null,
   "id": "cd39ef3b",
   "metadata": {},
   "outputs": [],
   "source": [
    "(test_words.groupby(\"Page\")[\"Width\"].max() / test_words.groupby(\"Page\")[\"Height\"].mean()).index.values"
   ]
  },
  {
   "cell_type": "code",
   "execution_count": null,
   "id": "c4ef9070",
   "metadata": {},
   "outputs": [],
   "source": [
    "pd.cut(header_words[\"Right\"], 1000).unique().categories"
   ]
  },
  {
   "cell_type": "code",
   "execution_count": null,
   "id": "35c34837",
   "metadata": {},
   "outputs": [],
   "source": [
    "sorted_header_words = header_words.sort_values(by=\"Left\")"
   ]
  },
  {
   "cell_type": "code",
   "execution_count": null,
   "id": "d9b86d4d",
   "metadata": {},
   "outputs": [],
   "source": [
    "len(x_clusters)"
   ]
  },
  {
   "cell_type": "code",
   "execution_count": null,
   "id": "8e2263c4",
   "metadata": {},
   "outputs": [],
   "source": [
    "def cluster_x(words, tolerance):\n",
    "    if (tolerance == 0) or (words.shape[0] < 2):\n",
    "        return [\n",
    "            [word] for (idx, word)\n",
    "            in words.sort_values(by=\"Midpoint_X\").iterrows()\n",
    "        ]\n",
    "    groups = []\n",
    "    sorted_words = words.sort_values(by=\"Midpoint_X\")\n",
    "    current_group = [sorted_words.iloc[0]]\n",
    "    last = sorted_words.iloc[0][\"Midpoint_X\"]\n",
    "    for idx, word in sorted_words.iloc[1:].iterrows():\n",
    "        last = (last + word[\"Midpoint_X\"]) / 2\n",
    "        if word[\"Midpoint_X\"] <= (last + tolerance):\n",
    "            current_group.append(word)\n",
    "        else:\n",
    "            print(\"New Group\")\n",
    "            print(\"*\"*100)\n",
    "            groups.append(current_group)\n",
    "            current_group = [word]\n",
    "            last = word[\"Right\"]\n",
    "        print(\"Word:\", word[\"Text\"])\n",
    "        print(\"Left:\", word[\"Left\"])\n",
    "        print(\"Right:\", word[\"Right\"])\n",
    "    groups.append(current_group)\n",
    "    return [pd.DataFrame(group) for group in groups]"
   ]
  },
  {
   "cell_type": "code",
   "execution_count": null,
   "id": "b4cc54e3",
   "metadata": {},
   "outputs": [],
   "source": [
    "clusters = cluster_x(header_words, header_words[\"Width\"].mean()*.7)"
   ]
  },
  {
   "cell_type": "code",
   "execution_count": null,
   "id": "7080b316",
   "metadata": {},
   "outputs": [],
   "source": [
    "len(clusters)"
   ]
  },
  {
   "cell_type": "code",
   "execution_count": null,
   "id": "d2f6b41d",
   "metadata": {},
   "outputs": [],
   "source": [
    "header_words.sort_values(by=\"Midpoint_X\").rolling(4)[\"Midpoint_X\"].mean()"
   ]
  },
  {
   "cell_type": "code",
   "execution_count": null,
   "id": "6700f678",
   "metadata": {},
   "outputs": [],
   "source": [
    "left_clusters = cluster_words(header_words, header_words[\"Width\"].mean()*.835, \"Left\")"
   ]
  },
  {
   "cell_type": "code",
   "execution_count": null,
   "id": "833dd547",
   "metadata": {},
   "outputs": [],
   "source": [
    "len(left_clusters)"
   ]
  },
  {
   "cell_type": "code",
   "execution_count": null,
   "id": "992bff7c",
   "metadata": {},
   "outputs": [],
   "source": [
    "[\n",
    "    cluster[\"Left\"].mean() for cluster in left_clusters\n",
    "]"
   ]
  },
  {
   "cell_type": "code",
   "execution_count": null,
   "id": "0ea980e9",
   "metadata": {},
   "outputs": [],
   "source": [
    "def get_col_spans(self, words, page):\n",
    "    pass"
   ]
  },
  {
   "cell_type": "code",
   "execution_count": null,
   "id": "fc2e63dc",
   "metadata": {},
   "outputs": [],
   "source": [
    "test_extractor.tablemap"
   ]
  },
  {
   "cell_type": "code",
   "execution_count": null,
   "id": "f203e68b",
   "metadata": {},
   "outputs": [],
   "source": [
    "test_col_spans = pd.Series(\n",
    "    [\n",
    "        (0, 0.205227),\n",
    "        (0.205227, 0.311407),\n",
    "        (0.311407, 0.420936),\n",
    "        (0.420936, 0.572975),\n",
    "        (0.572975, 0.735998),\n",
    "        (0.735998, 1),\n",
    "    ]\n",
    ")"
   ]
  },
  {
   "cell_type": "code",
   "execution_count": null,
   "id": "0744b017",
   "metadata": {},
   "outputs": [],
   "source": [
    "def find_new_right(df, right):\n",
    "    return (\n",
    "        df.loc[\n",
    "            (df[\"Right\"] > right*1.01)\n",
    "            & (df[\"Left\"] < right),\n",
    "            \"Left\"\n",
    "        ].min()\n",
    "    )"
   ]
  },
  {
   "cell_type": "code",
   "execution_count": null,
   "id": "6a32a5ce",
   "metadata": {},
   "outputs": [],
   "source": [
    "crossing_right = test_col_spans.map(\n",
    "    lambda x: get_new_right(\n",
    "        pd.concat([\n",
    "            test_extractor.get_header_words(test_words, 18),\n",
    "            test_extractor.get_table_words(test_words, 18),\n",
    "        ]),\n",
    "        x[1]\n",
    "    )\n",
    ")\n",
    "crossing_right"
   ]
  },
  {
   "cell_type": "code",
   "execution_count": null,
   "id": "bb24358c",
   "metadata": {},
   "outputs": [],
   "source": [
    "test_col_spans.where(\n",
    "    crossing_right.isna(),\n",
    "    test_col_spans.combine(crossing_right, lambda x, y: (x[0], y))\n",
    ")"
   ]
  },
  {
   "cell_type": "code",
   "execution_count": null,
   "id": "6aa6e576",
   "metadata": {
    "scrolled": false
   },
   "outputs": [],
   "source": [
    "test_col_spans"
   ]
  },
  {
   "cell_type": "code",
   "execution_count": null,
   "id": "7ac12ed1",
   "metadata": {},
   "outputs": [],
   "source": [
    "init_left = test_extractor.field_labels.map(\n",
    "    lambda x: get_coordinate(test_extractor.tablemap, x, \"Left\", \"Left_Default\")\n",
    ")\n",
    "init_right = pd.concat(\n",
    "    [\n",
    "        init_left.iloc[1:],\n",
    "        pd.Series([1]),\n",
    "    ],\n",
    "    ignore_index=True,\n",
    ")"
   ]
  },
  {
   "cell_type": "code",
   "execution_count": null,
   "id": "d0071471",
   "metadata": {},
   "outputs": [],
   "source": [
    "crossing_right = init_right.map(\n",
    "    lambda x: find_new_right(\n",
    "        pd.concat([\n",
    "            test_extractor.get_header_words(test_words, 25),\n",
    "            test_extractor.get_table_words(test_words, 25),\n",
    "        ]),\n",
    "        x\n",
    "    )\n",
    ")\n",
    "crossing_right"
   ]
  },
  {
   "cell_type": "code",
   "execution_count": null,
   "id": "68b286ed",
   "metadata": {},
   "outputs": [],
   "source": [
    "new_right = init_right.where(\n",
    "    crossing_right.isna(),\n",
    "    crossing_right,\n",
    ")\n",
    "new_right"
   ]
  },
  {
   "cell_type": "code",
   "execution_count": null,
   "id": "662a8a83",
   "metadata": {},
   "outputs": [],
   "source": [
    "init_left"
   ]
  },
  {
   "cell_type": "code",
   "execution_count": null,
   "id": "41962d68",
   "metadata": {},
   "outputs": [],
   "source": [
    "init_left.iloc[1:] = new_right.iloc[:-1]"
   ]
  },
  {
   "cell_type": "code",
   "execution_count": null,
   "id": "9326475c",
   "metadata": {},
   "outputs": [],
   "source": [
    "init_left"
   ]
  },
  {
   "cell_type": "code",
   "execution_count": null,
   "id": "361437a3",
   "metadata": {},
   "outputs": [],
   "source": [
    "col_spans = init_left.combine(new_right, lambda x, y: (x, y))"
   ]
  },
  {
   "cell_type": "code",
   "execution_count": null,
   "id": "e093d87f",
   "metadata": {},
   "outputs": [],
   "source": [
    "test_lines.loc[\n",
    "    test_lines[\"Text\"].str.contains(\"\\(a\\)\\s*Na\")\n",
    "]"
   ]
  },
  {
   "cell_type": "code",
   "execution_count": null,
   "id": "169889b7",
   "metadata": {},
   "outputs": [],
   "source": [
    "table_words.loc[\n",
    "    table_words[\"Left\"].between(0, 0.2),\n",
    "    [\"Text\", \"Height\", \"Top\", \"Bottom\"]\n",
    "].sort_values(by=\"Top\").tail(40)"
   ]
  },
  {
   "cell_type": "code",
   "execution_count": null,
   "id": "aedde031",
   "metadata": {},
   "outputs": [],
   "source": []
  }
 ],
 "metadata": {
  "kernelspec": {
   "display_name": "Python 3 (ipykernel)",
   "language": "python",
   "name": "python3"
  },
  "language_info": {
   "codemirror_mode": {
    "name": "ipython",
    "version": 3
   },
   "file_extension": ".py",
   "mimetype": "text/x-python",
   "name": "python",
   "nbconvert_exporter": "python",
   "pygments_lexer": "ipython3",
   "version": "3.10.4"
  }
 },
 "nbformat": 4,
 "nbformat_minor": 5
}
